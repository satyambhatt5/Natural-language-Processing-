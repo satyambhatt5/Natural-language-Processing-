{
  "nbformat": 4,
  "nbformat_minor": 0,
  "metadata": {
    "colab": {
      "name": "8th_Different_Optimizers.ipynb",
      "provenance": [],
      "collapsed_sections": []
    },
    "kernelspec": {
      "name": "python3",
      "display_name": "Python 3"
    }
  },
  "cells": [
    {
      "cell_type": "code",
      "metadata": {
        "id": "EM-8L9Xnt5PF"
      },
      "source": [
        "#Use Dropout, Normalization, Lower the learning rate, Optimizers to find the best output"
      ],
      "execution_count": null,
      "outputs": []
    },
    {
      "cell_type": "code",
      "metadata": {
        "colab": {
          "base_uri": "https://localhost:8080/"
        },
        "id": "MuG_KGqfJcvj",
        "outputId": "f89ccb77-1331-41f5-b0d6-cb2ba304eaf3"
      },
      "source": [
        "! pip uninstall -y kaggle\r\n",
        "! pip install --upgrade -q kaggle"
      ],
      "execution_count": 1,
      "outputs": [
        {
          "output_type": "stream",
          "text": [
            "Uninstalling kaggle-1.5.10:\n",
            "  Successfully uninstalled kaggle-1.5.10\n",
            "\u001b[K     |████████████████████████████████| 61kB 7.2MB/s \n",
            "\u001b[?25h  Building wheel for kaggle (setup.py) ... \u001b[?25l\u001b[?25hdone\n"
          ],
          "name": "stdout"
        }
      ]
    },
    {
      "cell_type": "code",
      "metadata": {
        "id": "o5qwbUZLJtsa"
      },
      "source": [
        "! mkdir -p /root/.kaggle\r\n",
        "! cp kaggle.json /root/.kaggle/"
      ],
      "execution_count": 2,
      "outputs": []
    },
    {
      "cell_type": "markdown",
      "metadata": {
        "id": "As1uE8yBZDSs"
      },
      "source": [
        ""
      ]
    },
    {
      "cell_type": "code",
      "metadata": {
        "id": "iNqZDdwhJz7P",
        "colab": {
          "base_uri": "https://localhost:8080/"
        },
        "outputId": "087b86d8-e26e-49d4-b320-88027799e5df"
      },
      "source": [
        "import kaggle"
      ],
      "execution_count": 3,
      "outputs": [
        {
          "output_type": "stream",
          "text": [
            "Warning: Your Kaggle API key is readable by other users on this system! To fix this, you can run 'chmod 600 /root/.kaggle/kaggle.json'\n"
          ],
          "name": "stdout"
        }
      ]
    },
    {
      "cell_type": "code",
      "metadata": {
        "colab": {
          "base_uri": "https://localhost:8080/"
        },
        "id": "gUOsil3DJ1p-",
        "outputId": "441e9ebb-82e1-46a7-f038-ef9fc4d4ece0"
      },
      "source": [
        "! kaggle competitions download -c dog-breed-identification"
      ],
      "execution_count": 4,
      "outputs": [
        {
          "output_type": "stream",
          "text": [
            "Warning: Your Kaggle API key is readable by other users on this system! To fix this, you can run 'chmod 600 /root/.kaggle/kaggle.json'\n",
            "Downloading dog-breed-identification.zip to /content\n",
            "100% 688M/691M [00:05<00:00, 140MB/s]\n",
            "100% 691M/691M [00:05<00:00, 123MB/s]\n"
          ],
          "name": "stdout"
        }
      ]
    },
    {
      "cell_type": "code",
      "metadata": {
        "id": "Zn1ktct2J6AF"
      },
      "source": [
        "! unzip -q dog-breed-identification.zip"
      ],
      "execution_count": 5,
      "outputs": []
    },
    {
      "cell_type": "code",
      "metadata": {
        "id": "qr1hDjpeKLJd"
      },
      "source": [
        "import pandas as pd\r\n",
        "import numpy as np\r\n",
        "import matplotlib.pyplot as plt\r\n",
        "import os"
      ],
      "execution_count": 6,
      "outputs": []
    },
    {
      "cell_type": "code",
      "metadata": {
        "id": "Zv-hfkU_KUcb"
      },
      "source": [
        "labels = pd.read_csv('labels.csv')"
      ],
      "execution_count": 7,
      "outputs": []
    },
    {
      "cell_type": "code",
      "metadata": {
        "colab": {
          "base_uri": "https://localhost:8080/"
        },
        "id": "iO4w-cxIKb8L",
        "outputId": "7879d51f-66a0-44e3-dfbb-c6adfc944e84"
      },
      "source": [
        "type(labels)"
      ],
      "execution_count": 8,
      "outputs": [
        {
          "output_type": "execute_result",
          "data": {
            "text/plain": [
              "pandas.core.frame.DataFrame"
            ]
          },
          "metadata": {
            "tags": []
          },
          "execution_count": 8
        }
      ]
    },
    {
      "cell_type": "code",
      "metadata": {
        "colab": {
          "base_uri": "https://localhost:8080/",
          "height": 200
        },
        "id": "68qhERB7Kdgf",
        "outputId": "3ec212ef-8626-48e1-a97e-fbd49eaa2242"
      },
      "source": [
        "labels.head(5)"
      ],
      "execution_count": 9,
      "outputs": [
        {
          "output_type": "execute_result",
          "data": {
            "text/html": [
              "<div>\n",
              "<style scoped>\n",
              "    .dataframe tbody tr th:only-of-type {\n",
              "        vertical-align: middle;\n",
              "    }\n",
              "\n",
              "    .dataframe tbody tr th {\n",
              "        vertical-align: top;\n",
              "    }\n",
              "\n",
              "    .dataframe thead th {\n",
              "        text-align: right;\n",
              "    }\n",
              "</style>\n",
              "<table border=\"1\" class=\"dataframe\">\n",
              "  <thead>\n",
              "    <tr style=\"text-align: right;\">\n",
              "      <th></th>\n",
              "      <th>id</th>\n",
              "      <th>breed</th>\n",
              "    </tr>\n",
              "  </thead>\n",
              "  <tbody>\n",
              "    <tr>\n",
              "      <th>0</th>\n",
              "      <td>000bec180eb18c7604dcecc8fe0dba07</td>\n",
              "      <td>boston_bull</td>\n",
              "    </tr>\n",
              "    <tr>\n",
              "      <th>1</th>\n",
              "      <td>001513dfcb2ffafc82cccf4d8bbaba97</td>\n",
              "      <td>dingo</td>\n",
              "    </tr>\n",
              "    <tr>\n",
              "      <th>2</th>\n",
              "      <td>001cdf01b096e06d78e9e5112d419397</td>\n",
              "      <td>pekinese</td>\n",
              "    </tr>\n",
              "    <tr>\n",
              "      <th>3</th>\n",
              "      <td>00214f311d5d2247d5dfe4fe24b2303d</td>\n",
              "      <td>bluetick</td>\n",
              "    </tr>\n",
              "    <tr>\n",
              "      <th>4</th>\n",
              "      <td>0021f9ceb3235effd7fcde7f7538ed62</td>\n",
              "      <td>golden_retriever</td>\n",
              "    </tr>\n",
              "  </tbody>\n",
              "</table>\n",
              "</div>"
            ],
            "text/plain": [
              "                                 id             breed\n",
              "0  000bec180eb18c7604dcecc8fe0dba07       boston_bull\n",
              "1  001513dfcb2ffafc82cccf4d8bbaba97             dingo\n",
              "2  001cdf01b096e06d78e9e5112d419397          pekinese\n",
              "3  00214f311d5d2247d5dfe4fe24b2303d          bluetick\n",
              "4  0021f9ceb3235effd7fcde7f7538ed62  golden_retriever"
            ]
          },
          "metadata": {
            "tags": []
          },
          "execution_count": 9
        }
      ]
    },
    {
      "cell_type": "code",
      "metadata": {
        "colab": {
          "base_uri": "https://localhost:8080/",
          "height": 641
        },
        "id": "2XUuJK4AKjnJ",
        "outputId": "d5acd663-6c8a-45b3-f52c-5765fbb5fb74"
      },
      "source": [
        "plt.figure(figsize=(12,8))\r\n",
        "labels['breed'].value_counts().plot.bar()"
      ],
      "execution_count": 10,
      "outputs": [
        {
          "output_type": "execute_result",
          "data": {
            "text/plain": [
              "<matplotlib.axes._subplots.AxesSubplot at 0x7f813fc1cc18>"
            ]
          },
          "metadata": {
            "tags": []
          },
          "execution_count": 10
        },
        {
          "output_type": "display_data",
          "data": {
            "image/png": "[encoded data removed]",
            "text/plain": [
              "<Figure size 864x576 with 1 Axes>"
            ]
          },
          "metadata": {
            "tags": [],
            "needs_background": "light"
          }
        }
      ]
    },
    {
      "cell_type": "code",
      "metadata": {
        "colab": {
          "base_uri": "https://localhost:8080/"
        },
        "id": "ixN0R2eTKx34",
        "outputId": "0219d7f4-df4c-4edf-c10e-b4158864a476"
      },
      "source": [
        "labels['breed'].value_counts()"
      ],
      "execution_count": 11,
      "outputs": [
        {
          "output_type": "execute_result",
          "data": {
            "text/plain": [
              "scottish_deerhound      126\n",
              "maltese_dog             117\n",
              "afghan_hound            116\n",
              "entlebucher             115\n",
              "bernese_mountain_dog    114\n",
              "                       ... \n",
              "komondor                 67\n",
              "brabancon_griffon        67\n",
              "golden_retriever         67\n",
              "eskimo_dog               66\n",
              "briard                   66\n",
              "Name: breed, Length: 120, dtype: int64"
            ]
          },
          "metadata": {
            "tags": []
          },
          "execution_count": 11
        }
      ]
    },
    {
      "cell_type": "code",
      "metadata": {
        "id": "xyZ_8DN4K-UW"
      },
      "source": [
        "labels['id'] = 'train/' + labels['id'] + '.jpg'"
      ],
      "execution_count": 12,
      "outputs": []
    },
    {
      "cell_type": "code",
      "metadata": {
        "colab": {
          "base_uri": "https://localhost:8080/",
          "height": 200
        },
        "id": "yfcrvxUiLkld",
        "outputId": "532d3e9c-963d-4c04-d621-6b8f34c2fa9f"
      },
      "source": [
        "labels.tail()"
      ],
      "execution_count": 13,
      "outputs": [
        {
          "output_type": "execute_result",
          "data": {
            "text/html": [
              "<div>\n",
              "<style scoped>\n",
              "    .dataframe tbody tr th:only-of-type {\n",
              "        vertical-align: middle;\n",
              "    }\n",
              "\n",
              "    .dataframe tbody tr th {\n",
              "        vertical-align: top;\n",
              "    }\n",
              "\n",
              "    .dataframe thead th {\n",
              "        text-align: right;\n",
              "    }\n",
              "</style>\n",
              "<table border=\"1\" class=\"dataframe\">\n",
              "  <thead>\n",
              "    <tr style=\"text-align: right;\">\n",
              "      <th></th>\n",
              "      <th>id</th>\n",
              "      <th>breed</th>\n",
              "    </tr>\n",
              "  </thead>\n",
              "  <tbody>\n",
              "    <tr>\n",
              "      <th>10217</th>\n",
              "      <td>train/ffd25009d635cfd16e793503ac5edef0.jpg</td>\n",
              "      <td>borzoi</td>\n",
              "    </tr>\n",
              "    <tr>\n",
              "      <th>10218</th>\n",
              "      <td>train/ffd3f636f7f379c51ba3648a9ff8254f.jpg</td>\n",
              "      <td>dandie_dinmont</td>\n",
              "    </tr>\n",
              "    <tr>\n",
              "      <th>10219</th>\n",
              "      <td>train/ffe2ca6c940cddfee68fa3cc6c63213f.jpg</td>\n",
              "      <td>airedale</td>\n",
              "    </tr>\n",
              "    <tr>\n",
              "      <th>10220</th>\n",
              "      <td>train/ffe5f6d8e2bff356e9482a80a6e29aac.jpg</td>\n",
              "      <td>miniature_pinscher</td>\n",
              "    </tr>\n",
              "    <tr>\n",
              "      <th>10221</th>\n",
              "      <td>train/fff43b07992508bc822f33d8ffd902ae.jpg</td>\n",
              "      <td>chesapeake_bay_retriever</td>\n",
              "    </tr>\n",
              "  </tbody>\n",
              "</table>\n",
              "</div>"
            ],
            "text/plain": [
              "                                               id                     breed\n",
              "10217  train/ffd25009d635cfd16e793503ac5edef0.jpg                    borzoi\n",
              "10218  train/ffd3f636f7f379c51ba3648a9ff8254f.jpg            dandie_dinmont\n",
              "10219  train/ffe2ca6c940cddfee68fa3cc6c63213f.jpg                  airedale\n",
              "10220  train/ffe5f6d8e2bff356e9482a80a6e29aac.jpg        miniature_pinscher\n",
              "10221  train/fff43b07992508bc822f33d8ffd902ae.jpg  chesapeake_bay_retriever"
            ]
          },
          "metadata": {
            "tags": []
          },
          "execution_count": 13
        }
      ]
    },
    {
      "cell_type": "code",
      "metadata": {
        "id": "I-DOJkoMMVYk"
      },
      "source": [
        "import tensorflow as tf"
      ],
      "execution_count": 14,
      "outputs": []
    },
    {
      "cell_type": "code",
      "metadata": {
        "id": "Xl2QUmJFLmeh"
      },
      "source": [
        "#Augment the data & pass only 128 at a time (as we have 120 outputs, so pass atlease 120 records)\r\n",
        "idg = tf.keras.preprocessing.image.ImageDataGenerator(preprocessing_function=tf.keras.applications.vgg16.preprocess_input, \r\n",
        "                                                      validation_split=0.2, rotation_range=45, horizontal_flip=True)"
      ],
      "execution_count": 15,
      "outputs": []
    },
    {
      "cell_type": "code",
      "metadata": {
        "colab": {
          "base_uri": "https://localhost:8080/"
        },
        "id": "yK0_kiuUN9Rh",
        "outputId": "895e3d31-1da3-460d-e96a-7047d8007974"
      },
      "source": [
        "#As we have already added 'train' to the file names, so folder name 'train' is not required to pass in the below.\r\n",
        "train_idg = idg.flow_from_dataframe(labels, x_col='id',y_col='breed', target_size=(224,224), batch_size=128, subset='training')\r\n",
        "val_idg = idg.flow_from_dataframe(labels, x_col='id', y_col='breed', target_size=(224,224), batch_size=128, subset='validation')"
      ],
      "execution_count": 16,
      "outputs": [
        {
          "output_type": "stream",
          "text": [
            "Found 8178 validated image filenames belonging to 120 classes.\n",
            "Found 2044 validated image filenames belonging to 120 classes.\n"
          ],
          "name": "stdout"
        }
      ]
    },
    {
      "cell_type": "code",
      "metadata": {
        "id": "J1jHgvb_O4_A",
        "colab": {
          "base_uri": "https://localhost:8080/"
        },
        "outputId": "1b13bcd7-18fd-49a9-d3a5-5e322bbc496e"
      },
      "source": [
        "vggmodel = tf.keras.applications.vgg16.VGG16() "
      ],
      "execution_count": 17,
      "outputs": [
        {
          "output_type": "stream",
          "text": [
            "Downloading data from https://storage.googleapis.com/tensorflow/keras-applications/vgg16/vgg16_weights_tf_dim_ordering_tf_kernels.h5\n",
            "553467904/553467096 [==============================] - 3s 0us/step\n"
          ],
          "name": "stdout"
        }
      ]
    },
    {
      "cell_type": "code",
      "metadata": {
        "colab": {
          "base_uri": "https://localhost:8080/"
        },
        "id": "yB5bbdD-PDsp",
        "outputId": "1188cda5-a2f2-4d7d-e395-b3d4bca745be"
      },
      "source": [
        "vggmodel.summary()"
      ],
      "execution_count": 18,
      "outputs": [
        {
          "output_type": "stream",
          "text": [
            "Model: \"vgg16\"\n",
            "_________________________________________________________________\n",
            "Layer (type)                 Output Shape              Param #   \n",
            "=================================================================\n",
            "input_1 (InputLayer)         [(None, 224, 224, 3)]     0         \n",
            "_________________________________________________________________\n",
            "block1_conv1 (Conv2D)        (None, 224, 224, 64)      1792      \n",
            "_________________________________________________________________\n",
            "block1_conv2 (Conv2D)        (None, 224, 224, 64)      36928     \n",
            "_________________________________________________________________\n",
            "block1_pool (MaxPooling2D)   (None, 112, 112, 64)      0         \n",
            "_________________________________________________________________\n",
            "block2_conv1 (Conv2D)        (None, 112, 112, 128)     73856     \n",
            "_________________________________________________________________\n",
            "block2_conv2 (Conv2D)        (None, 112, 112, 128)     147584    \n",
            "_________________________________________________________________\n",
            "block2_pool (MaxPooling2D)   (None, 56, 56, 128)       0         \n",
            "_________________________________________________________________\n",
            "block3_conv1 (Conv2D)        (None, 56, 56, 256)       295168    \n",
            "_________________________________________________________________\n",
            "block3_conv2 (Conv2D)        (None, 56, 56, 256)       590080    \n",
            "_________________________________________________________________\n",
            "block3_conv3 (Conv2D)        (None, 56, 56, 256)       590080    \n",
            "_________________________________________________________________\n",
            "block3_pool (MaxPooling2D)   (None, 28, 28, 256)       0         \n",
            "_________________________________________________________________\n",
            "block4_conv1 (Conv2D)        (None, 28, 28, 512)       1180160   \n",
            "_________________________________________________________________\n",
            "block4_conv2 (Conv2D)        (None, 28, 28, 512)       2359808   \n",
            "_________________________________________________________________\n",
            "block4_conv3 (Conv2D)        (None, 28, 28, 512)       2359808   \n",
            "_________________________________________________________________\n",
            "block4_pool (MaxPooling2D)   (None, 14, 14, 512)       0         \n",
            "_________________________________________________________________\n",
            "block5_conv1 (Conv2D)        (None, 14, 14, 512)       2359808   \n",
            "_________________________________________________________________\n",
            "block5_conv2 (Conv2D)        (None, 14, 14, 512)       2359808   \n",
            "_________________________________________________________________\n",
            "block5_conv3 (Conv2D)        (None, 14, 14, 512)       2359808   \n",
            "_________________________________________________________________\n",
            "block5_pool (MaxPooling2D)   (None, 7, 7, 512)         0         \n",
            "_________________________________________________________________\n",
            "flatten (Flatten)            (None, 25088)             0         \n",
            "_________________________________________________________________\n",
            "fc1 (Dense)                  (None, 4096)              102764544 \n",
            "_________________________________________________________________\n",
            "fc2 (Dense)                  (None, 4096)              16781312  \n",
            "_________________________________________________________________\n",
            "predictions (Dense)          (None, 1000)              4097000   \n",
            "=================================================================\n",
            "Total params: 138,357,544\n",
            "Trainable params: 138,357,544\n",
            "Non-trainable params: 0\n",
            "_________________________________________________________________\n"
          ],
          "name": "stdout"
        }
      ]
    },
    {
      "cell_type": "code",
      "metadata": {
        "id": "vBAczD8SPG6t"
      },
      "source": [
        "#Make the trainable false for all layers & change it for Dense & flatten layer at the later stage. \r\n",
        "for layer in vggmodel.layers:\r\n",
        "  layer.trainable = False"
      ],
      "execution_count": 19,
      "outputs": []
    },
    {
      "cell_type": "code",
      "metadata": {
        "colab": {
          "base_uri": "https://localhost:8080/"
        },
        "id": "l5Pku2PZQCh9",
        "outputId": "a1624004-f2e1-45a9-c9f5-4c217db978bf"
      },
      "source": [
        "for layer in vggmodel.layers:\r\n",
        "  print(layer.name, layer.trainable)"
      ],
      "execution_count": 20,
      "outputs": [
        {
          "output_type": "stream",
          "text": [
            "input_1 False\n",
            "block1_conv1 False\n",
            "block1_conv2 False\n",
            "block1_pool False\n",
            "block2_conv1 False\n",
            "block2_conv2 False\n",
            "block2_pool False\n",
            "block3_conv1 False\n",
            "block3_conv2 False\n",
            "block3_conv3 False\n",
            "block3_pool False\n",
            "block4_conv1 False\n",
            "block4_conv2 False\n",
            "block4_conv3 False\n",
            "block4_pool False\n",
            "block5_conv1 False\n",
            "block5_conv2 False\n",
            "block5_conv3 False\n",
            "block5_pool False\n",
            "flatten False\n",
            "fc1 False\n",
            "fc2 False\n",
            "predictions False\n"
          ],
          "name": "stdout"
        }
      ]
    },
    {
      "cell_type": "code",
      "metadata": {
        "id": "XQrMTszKQH6U",
        "colab": {
          "base_uri": "https://localhost:8080/",
          "height": 238
        },
        "outputId": "836611bd-e2e1-4e42-e661-01e1b4059032"
      },
      "source": [
        "#del final_model\r\n",
        "#Create functional model\r\n",
        "vggoutput = vggmodel.layers[-3].output #Take the output of vggmodel but leave the last 3.\r\n",
        "#Normalize the output of the vggmodel\r\n",
        "norm = tf.keras.layers.BatchNormalization(trainable=False) (vggoutput) #Always make trainable False for batch\r\n",
        "#Dropout some of the neurons randomly with each epoch. This will help reduce the overfitting\r\n",
        "drop = tf.keras.layers.Dropout(0.5)(norm)\r\n",
        "#Dense output\r\n",
        "dense_output = tf.keras.layers.Dense(120,activation='softmax')(drop)\r\n"
      ],
      "execution_count": 21,
      "outputs": [
        {
          "output_type": "error",
          "ename": "NameError",
          "evalue": "ignored",
          "traceback": [
            "\u001b[0;31m---------------------------------------------------------------------------\u001b[0m",
            "\u001b[0;31mNameError\u001b[0m                                 Traceback (most recent call last)",
            "\u001b[0;32m<ipython-input-21-92c484a246ae>\u001b[0m in \u001b[0;36m<module>\u001b[0;34m()\u001b[0m\n\u001b[0;32m----> 1\u001b[0;31m \u001b[0;32mdel\u001b[0m \u001b[0mfinal_model\u001b[0m\u001b[0;34m\u001b[0m\u001b[0;34m\u001b[0m\u001b[0m\n\u001b[0m\u001b[1;32m      2\u001b[0m \u001b[0;31m#Create functional model\u001b[0m\u001b[0;34m\u001b[0m\u001b[0;34m\u001b[0m\u001b[0;34m\u001b[0m\u001b[0m\n\u001b[1;32m      3\u001b[0m \u001b[0mvggoutput\u001b[0m \u001b[0;34m=\u001b[0m \u001b[0mvggmodel\u001b[0m\u001b[0;34m.\u001b[0m\u001b[0mlayers\u001b[0m\u001b[0;34m[\u001b[0m\u001b[0;34m-\u001b[0m\u001b[0;36m3\u001b[0m\u001b[0;34m]\u001b[0m\u001b[0;34m.\u001b[0m\u001b[0moutput\u001b[0m \u001b[0;31m#Take the output of vggmodel but leave the last 3.\u001b[0m\u001b[0;34m\u001b[0m\u001b[0;34m\u001b[0m\u001b[0m\n\u001b[1;32m      4\u001b[0m \u001b[0;31m#Normalize the output of the vggmodel\u001b[0m\u001b[0;34m\u001b[0m\u001b[0;34m\u001b[0m\u001b[0;34m\u001b[0m\u001b[0m\n\u001b[1;32m      5\u001b[0m \u001b[0mnorm\u001b[0m \u001b[0;34m=\u001b[0m \u001b[0mtf\u001b[0m\u001b[0;34m.\u001b[0m\u001b[0mkeras\u001b[0m\u001b[0;34m.\u001b[0m\u001b[0mlayers\u001b[0m\u001b[0;34m.\u001b[0m\u001b[0mBatchNormalization\u001b[0m\u001b[0;34m(\u001b[0m\u001b[0mtrainable\u001b[0m\u001b[0;34m=\u001b[0m\u001b[0;32mFalse\u001b[0m\u001b[0;34m)\u001b[0m \u001b[0;34m(\u001b[0m\u001b[0mvggoutput\u001b[0m\u001b[0;34m)\u001b[0m \u001b[0;31m#Always make trainable False for batch\u001b[0m\u001b[0;34m\u001b[0m\u001b[0;34m\u001b[0m\u001b[0m\n",
            "\u001b[0;31mNameError\u001b[0m: name 'final_model' is not defined"
          ]
        }
      ]
    },
    {
      "cell_type": "code",
      "metadata": {
        "id": "AZ9VwNxQUD_A"
      },
      "source": [
        "\r\n",
        "final_model = tf.keras.models.Model(inputs=[vggmodel.input], outputs = [dense_output])"
      ],
      "execution_count": null,
      "outputs": []
    },
    {
      "cell_type": "code",
      "metadata": {
        "colab": {
          "base_uri": "https://localhost:8080/"
        },
        "id": "HuN7y8XSUWLK",
        "outputId": "2874d2cc-cc2f-47ed-d737-53cad07f6055"
      },
      "source": [
        "for layer in final_model.layers:\r\n",
        "  print(layer.name, layer.trainable)"
      ],
      "execution_count": null,
      "outputs": [
        {
          "output_type": "stream",
          "text": [
            "input_1 False\n",
            "block1_conv1 False\n",
            "block1_conv2 False\n",
            "block1_pool False\n",
            "block2_conv1 False\n",
            "block2_conv2 False\n",
            "block2_pool False\n",
            "block3_conv1 False\n",
            "block3_conv2 False\n",
            "block3_conv3 False\n",
            "block3_pool False\n",
            "block4_conv1 False\n",
            "block4_conv2 False\n",
            "block4_conv3 False\n",
            "block4_pool False\n",
            "block5_conv1 False\n",
            "block5_conv2 False\n",
            "block5_conv3 False\n",
            "block5_pool False\n",
            "flatten False\n",
            "fc1 False\n",
            "batch_normalization False\n",
            "dropout True\n",
            "dense True\n"
          ],
          "name": "stdout"
        }
      ]
    },
    {
      "cell_type": "code",
      "metadata": {
        "colab": {
          "base_uri": "https://localhost:8080/"
        },
        "id": "OC5ZBnKwUtE-",
        "outputId": "d7659128-e49a-43e8-cc23-843f9c40d10a"
      },
      "source": [
        "final_model.summary()"
      ],
      "execution_count": null,
      "outputs": [
        {
          "output_type": "stream",
          "text": [
            "Model: \"model\"\n",
            "_________________________________________________________________\n",
            "Layer (type)                 Output Shape              Param #   \n",
            "=================================================================\n",
            "input_1 (InputLayer)         [(None, 224, 224, 3)]     0         \n",
            "_________________________________________________________________\n",
            "block1_conv1 (Conv2D)        (None, 224, 224, 64)      1792      \n",
            "_________________________________________________________________\n",
            "block1_conv2 (Conv2D)        (None, 224, 224, 64)      36928     \n",
            "_________________________________________________________________\n",
            "block1_pool (MaxPooling2D)   (None, 112, 112, 64)      0         \n",
            "_________________________________________________________________\n",
            "block2_conv1 (Conv2D)        (None, 112, 112, 128)     73856     \n",
            "_________________________________________________________________\n",
            "block2_conv2 (Conv2D)        (None, 112, 112, 128)     147584    \n",
            "_________________________________________________________________\n",
            "block2_pool (MaxPooling2D)   (None, 56, 56, 128)       0         \n",
            "_________________________________________________________________\n",
            "block3_conv1 (Conv2D)        (None, 56, 56, 256)       295168    \n",
            "_________________________________________________________________\n",
            "block3_conv2 (Conv2D)        (None, 56, 56, 256)       590080    \n",
            "_________________________________________________________________\n",
            "block3_conv3 (Conv2D)        (None, 56, 56, 256)       590080    \n",
            "_________________________________________________________________\n",
            "block3_pool (MaxPooling2D)   (None, 28, 28, 256)       0         \n",
            "_________________________________________________________________\n",
            "block4_conv1 (Conv2D)        (None, 28, 28, 512)       1180160   \n",
            "_________________________________________________________________\n",
            "block4_conv2 (Conv2D)        (None, 28, 28, 512)       2359808   \n",
            "_________________________________________________________________\n",
            "block4_conv3 (Conv2D)        (None, 28, 28, 512)       2359808   \n",
            "_________________________________________________________________\n",
            "block4_pool (MaxPooling2D)   (None, 14, 14, 512)       0         \n",
            "_________________________________________________________________\n",
            "block5_conv1 (Conv2D)        (None, 14, 14, 512)       2359808   \n",
            "_________________________________________________________________\n",
            "block5_conv2 (Conv2D)        (None, 14, 14, 512)       2359808   \n",
            "_________________________________________________________________\n",
            "block5_conv3 (Conv2D)        (None, 14, 14, 512)       2359808   \n",
            "_________________________________________________________________\n",
            "block5_pool (MaxPooling2D)   (None, 7, 7, 512)         0         \n",
            "_________________________________________________________________\n",
            "flatten (Flatten)            (None, 25088)             0         \n",
            "_________________________________________________________________\n",
            "fc1 (Dense)                  (None, 4096)              102764544 \n",
            "_________________________________________________________________\n",
            "batch_normalization (BatchNo (None, 4096)              16384     \n",
            "_________________________________________________________________\n",
            "dropout (Dropout)            (None, 4096)              0         \n",
            "_________________________________________________________________\n",
            "dense (Dense)                (None, 120)               491640    \n",
            "=================================================================\n",
            "Total params: 117,987,256\n",
            "Trainable params: 491,640\n",
            "Non-trainable params: 117,495,616\n",
            "_________________________________________________________________\n"
          ],
          "name": "stdout"
        }
      ]
    },
    {
      "cell_type": "code",
      "metadata": {
        "id": "-hTBfRq_U06q"
      },
      "source": [
        "final_model.compile(optimizer=tf.keras.optimizers.Adagrad(),\r\n",
        "                    loss = tf.keras.losses.categorical_crossentropy,\r\n",
        "                    metrics = ['acc'])"
      ],
      "execution_count": null,
      "outputs": []
    },
    {
      "cell_type": "code",
      "metadata": {
        "colab": {
          "base_uri": "https://localhost:8080/"
        },
        "id": "UbecjtlhVYKr",
        "outputId": "2253730b-7ed0-4463-cc8b-bccc5390d81c"
      },
      "source": [
        "final_modelhist = final_model.fit(train_idg, epochs = 20, validation_data=val_idg)"
      ],
      "execution_count": null,
      "outputs": [
        {
          "output_type": "stream",
          "text": [
            "Epoch 1/20\n",
            "64/64 [==============================] - 151s 2s/step - loss: 18.9029 - acc: 0.0239 - val_loss: 7.2497 - val_acc: 0.1355\n",
            "Epoch 2/20\n",
            "64/64 [==============================] - 135s 2s/step - loss: 12.2152 - acc: 0.0962 - val_loss: 5.5593 - val_acc: 0.2583\n",
            "Epoch 3/20\n",
            "64/64 [==============================] - 135s 2s/step - loss: 9.7006 - acc: 0.1707 - val_loss: 4.6789 - val_acc: 0.3141\n",
            "Epoch 4/20\n",
            "64/64 [==============================] - 134s 2s/step - loss: 8.6091 - acc: 0.2107 - val_loss: 4.2223 - val_acc: 0.3630\n",
            "Epoch 5/20\n",
            "64/64 [==============================] - 134s 2s/step - loss: 7.8801 - acc: 0.2483 - val_loss: 4.0072 - val_acc: 0.3968\n",
            "Epoch 6/20\n",
            "64/64 [==============================] - 135s 2s/step - loss: 7.2131 - acc: 0.2809 - val_loss: 3.7636 - val_acc: 0.4149\n",
            "Epoch 7/20\n",
            "64/64 [==============================] - 135s 2s/step - loss: 6.8587 - acc: 0.2996 - val_loss: 3.6425 - val_acc: 0.4413\n",
            "Epoch 8/20\n",
            "64/64 [==============================] - 135s 2s/step - loss: 6.4428 - acc: 0.3158 - val_loss: 3.5565 - val_acc: 0.4432\n",
            "Epoch 9/20\n",
            "64/64 [==============================] - 136s 2s/step - loss: 6.3162 - acc: 0.3464 - val_loss: 3.4963 - val_acc: 0.4584\n",
            "Epoch 10/20\n",
            "64/64 [==============================] - 136s 2s/step - loss: 5.9212 - acc: 0.3587 - val_loss: 3.3665 - val_acc: 0.4731\n",
            "Epoch 11/20\n",
            "64/64 [==============================] - 136s 2s/step - loss: 6.0301 - acc: 0.3552 - val_loss: 3.3043 - val_acc: 0.4795\n",
            "Epoch 12/20\n",
            "64/64 [==============================] - 136s 2s/step - loss: 5.7206 - acc: 0.3769 - val_loss: 3.2538 - val_acc: 0.5083\n",
            "Epoch 13/20\n",
            "64/64 [==============================] - 136s 2s/step - loss: 5.2960 - acc: 0.4130 - val_loss: 3.1978 - val_acc: 0.4956\n",
            "Epoch 14/20\n",
            "64/64 [==============================] - 135s 2s/step - loss: 5.2193 - acc: 0.4032 - val_loss: 3.2290 - val_acc: 0.5078\n",
            "Epoch 15/20\n",
            "64/64 [==============================] - 134s 2s/step - loss: 5.0807 - acc: 0.4126 - val_loss: 3.1513 - val_acc: 0.5201\n",
            "Epoch 16/20\n",
            "64/64 [==============================] - 135s 2s/step - loss: 4.8957 - acc: 0.4400 - val_loss: 3.0478 - val_acc: 0.5342\n",
            "Epoch 17/20\n",
            "64/64 [==============================] - 134s 2s/step - loss: 4.9444 - acc: 0.4231 - val_loss: 2.9694 - val_acc: 0.5284\n",
            "Epoch 18/20\n",
            "64/64 [==============================] - 134s 2s/step - loss: 4.9087 - acc: 0.4181 - val_loss: 3.0048 - val_acc: 0.5342\n",
            "Epoch 19/20\n",
            "64/64 [==============================] - 135s 2s/step - loss: 4.8400 - acc: 0.4399 - val_loss: 3.0929 - val_acc: 0.5298\n",
            "Epoch 20/20\n",
            "64/64 [==============================] - 135s 2s/step - loss: 4.5329 - acc: 0.4545 - val_loss: 3.0544 - val_acc: 0.5357\n"
          ],
          "name": "stdout"
        }
      ]
    },
    {
      "cell_type": "code",
      "metadata": {
        "colab": {
          "base_uri": "https://localhost:8080/",
          "height": 265
        },
        "id": "YclTK_kaWqMH",
        "outputId": "f86d0cdc-9fce-4055-f13e-031d5dc7ec24"
      },
      "source": [
        "plt.plot(final_modelhist.history.get('acc'), label='Accuracy')\r\n",
        "plt.plot(final_modelhist.history.get('val_acc'), label='Validation Accuracy')\r\n",
        "plt.legend()\r\n",
        "plt.show()"
      ],
      "execution_count": null,
      "outputs": [
        {
          "output_type": "display_data",
          "data": {
            "image/png": "[encoded data removed]",
            "text/plain": [
              "<Figure size 432x288 with 1 Axes>"
            ]
          },
          "metadata": {
            "tags": [],
            "needs_background": "light"
          }
        }
      ]
    },
    {
      "cell_type": "code",
      "metadata": {
        "colab": {
          "base_uri": "https://localhost:8080/",
          "height": 265
        },
        "id": "XgbAQyyaoth7",
        "outputId": "cf7979d9-18e9-4355-d38a-1cbba2da5006"
      },
      "source": [
        "plt.plot(final_modelhist.history.get('loss'), label='Loss')\r\n",
        "plt.plot(final_modelhist.history.get('val_loss'), label='Validation Loss')\r\n",
        "plt.legend()\r\n",
        "plt.show()"
      ],
      "execution_count": null,
      "outputs": [
        {
          "output_type": "display_data",
          "data": {
            "image/png": "[encoded data removed]",
            "text/plain": [
              "<Figure size 432x288 with 1 Axes>"
            ]
          },
          "metadata": {
            "tags": [],
            "needs_background": "light"
          }
        }
      ]
    },
    {
      "cell_type": "markdown",
      "metadata": {
        "id": "RmhnSAu6Bc1W"
      },
      "source": [
        "Model2:"
      ]
    },
    {
      "cell_type": "code",
      "metadata": {
        "id": "QFdSdYPlZe61"
      },
      "source": [
        "#Try with Shivam's model but with exponential learning rate drop & SGD\r\n",
        "\r\n",
        "\r\n",
        "import math\r\n",
        "def dec_lr(epoch):\r\n",
        "  initial_lr =0.01\r\n",
        "  drop = 0.5\r\n",
        "  epoch_drop = 3\r\n",
        "  #lr_rate = initial_lr*drop# if overfitting is high at later stage\r\n",
        "  lr_rate = initial_lr * math.pow(drop, math.floor(1+epoch)/epoch_drop) #exponential if overfitting is high at the start itself.\r\n",
        "  return lr_rate\r\n",
        "  \r\n",
        "lrs = tf.keras.callbacks.LearningRateScheduler(dec_lr) #use in call backs of model.fit\r\n",
        "\r\n"
      ],
      "execution_count": null,
      "outputs": []
    },
    {
      "cell_type": "code",
      "metadata": {
        "id": "wA2B6fsEoFdO"
      },
      "source": [
        "del final_model\r\n",
        "vggoutput = vggmodel.layers[-3].output #Take the output of vggmodel but leave the last 3.\r\n",
        "#Normalize the output of the vggmodel\r\n",
        "norm = tf.keras.layers.BatchNormalization(trainable=False) (vggoutput) #Always make trainable False for batch\r\n",
        "#Dropout some of the neurons randomly with each epoch. This will help reduce the overfitting\r\n",
        "drop = tf.keras.layers.Dropout(0.5)(norm)\r\n",
        "#Dense output\r\n",
        "dense_output = tf.keras.layers.Dense(120,activation='softmax')(drop)\r\n"
      ],
      "execution_count": null,
      "outputs": []
    },
    {
      "cell_type": "code",
      "metadata": {
        "id": "zIhUioZj1DwE"
      },
      "source": [
        "final_model = tf.keras.models.Model(inputs=[vggmodel.input], outputs = [dense_output])"
      ],
      "execution_count": null,
      "outputs": []
    },
    {
      "cell_type": "code",
      "metadata": {
        "colab": {
          "base_uri": "https://localhost:8080/"
        },
        "id": "nDgPvvhCaMQP",
        "outputId": "51110d54-65bd-4eae-ed3d-6564405fcc3f"
      },
      "source": [
        "\r\n",
        "final_model.compile(optimizer=tf.keras.optimizers.SGD(learning_rate=0.005),\r\n",
        "                    loss = tf.keras.losses.categorical_crossentropy,\r\n",
        "                    metrics = ['acc'])\r\n",
        "\r\n",
        "final_model_hist = final_model.fit(train_idg,epochs=20,validation_data = val_idg,callbacks=[lrs] )"
      ],
      "execution_count": null,
      "outputs": [
        {
          "output_type": "stream",
          "text": [
            "Epoch 1/20\n",
            "64/64 [==============================] - 138s 2s/step - loss: 14.4715 - acc: 0.1189 - val_loss: 3.9434 - val_acc: 0.4868\n",
            "Epoch 2/20\n",
            "64/64 [==============================] - 136s 2s/step - loss: 5.8787 - acc: 0.4095 - val_loss: 3.5389 - val_acc: 0.5455\n",
            "Epoch 3/20\n",
            "64/64 [==============================] - 135s 2s/step - loss: 4.6816 - acc: 0.4926 - val_loss: 3.2117 - val_acc: 0.5538\n",
            "Epoch 4/20\n",
            "64/64 [==============================] - 136s 2s/step - loss: 4.2277 - acc: 0.5293 - val_loss: 3.0250 - val_acc: 0.5861\n",
            "Epoch 5/20\n",
            "64/64 [==============================] - 136s 2s/step - loss: 3.7062 - acc: 0.5687 - val_loss: 3.0178 - val_acc: 0.5861\n",
            "Epoch 6/20\n",
            "64/64 [==============================] - 137s 2s/step - loss: 3.4248 - acc: 0.5712 - val_loss: 2.9078 - val_acc: 0.5866\n",
            "Epoch 7/20\n",
            "64/64 [==============================] - 136s 2s/step - loss: 3.2785 - acc: 0.5902 - val_loss: 2.9338 - val_acc: 0.5974\n",
            "Epoch 8/20\n",
            "64/64 [==============================] - 136s 2s/step - loss: 3.2393 - acc: 0.6012 - val_loss: 2.6484 - val_acc: 0.6194\n",
            "Epoch 9/20\n",
            "64/64 [==============================] - 136s 2s/step - loss: 3.0053 - acc: 0.6060 - val_loss: 2.6922 - val_acc: 0.5983\n",
            "Epoch 10/20\n",
            "64/64 [==============================] - 135s 2s/step - loss: 2.9184 - acc: 0.6157 - val_loss: 2.8309 - val_acc: 0.6023\n",
            "Epoch 11/20\n",
            "64/64 [==============================] - 135s 2s/step - loss: 2.9314 - acc: 0.6229 - val_loss: 2.7289 - val_acc: 0.6086\n",
            "Epoch 12/20\n",
            "64/64 [==============================] - 135s 2s/step - loss: 2.9341 - acc: 0.6135 - val_loss: 2.7379 - val_acc: 0.6213\n",
            "Epoch 13/20\n",
            "64/64 [==============================] - 136s 2s/step - loss: 2.8007 - acc: 0.6272 - val_loss: 2.7691 - val_acc: 0.6150\n",
            "Epoch 14/20\n",
            "64/64 [==============================] - 136s 2s/step - loss: 2.7754 - acc: 0.6259 - val_loss: 2.7202 - val_acc: 0.6159\n",
            "Epoch 15/20\n",
            "64/64 [==============================] - 136s 2s/step - loss: 2.8171 - acc: 0.6273 - val_loss: 2.7357 - val_acc: 0.6115\n",
            "Epoch 16/20\n",
            "64/64 [==============================] - 136s 2s/step - loss: 2.7867 - acc: 0.6325 - val_loss: 2.7686 - val_acc: 0.6032\n",
            "Epoch 17/20\n",
            "64/64 [==============================] - 136s 2s/step - loss: 2.7317 - acc: 0.6361 - val_loss: 2.7170 - val_acc: 0.6164\n",
            "Epoch 18/20\n",
            "64/64 [==============================] - 135s 2s/step - loss: 2.6455 - acc: 0.6393 - val_loss: 2.6980 - val_acc: 0.6238\n",
            "Epoch 19/20\n",
            "64/64 [==============================] - 136s 2s/step - loss: 2.7366 - acc: 0.6334 - val_loss: 2.7609 - val_acc: 0.6096\n",
            "Epoch 20/20\n",
            "64/64 [==============================] - 136s 2s/step - loss: 2.7004 - acc: 0.6389 - val_loss: 2.8007 - val_acc: 0.5978\n"
          ],
          "name": "stdout"
        }
      ]
    },
    {
      "cell_type": "code",
      "metadata": {
        "colab": {
          "base_uri": "https://localhost:8080/",
          "height": 265
        },
        "id": "SKRBoBYvBQk_",
        "outputId": "bc212d29-11cb-4120-d099-e59ff07e29e8"
      },
      "source": [
        "plt.plot(final_modelhist.history.get('acc'), label='Accuracy')\r\n",
        "plt.plot(final_modelhist.history.get('val_acc'), label='Validation Accuracy')\r\n",
        "plt.legend()\r\n",
        "plt.show()"
      ],
      "execution_count": null,
      "outputs": [
        {
          "output_type": "display_data",
          "data": {
            "image/png": "[encoded data removed]",
            "text/plain": [
              "<Figure size 432x288 with 1 Axes>"
            ]
          },
          "metadata": {
            "tags": [],
            "needs_background": "light"
          }
        }
      ]
    },
    {
      "cell_type": "code",
      "metadata": {
        "colab": {
          "base_uri": "https://localhost:8080/",
          "height": 265
        },
        "id": "cWFU3WTNBSxD",
        "outputId": "eeb18b71-8392-4d9d-f7a1-6ca57f6f6974"
      },
      "source": [
        "plt.plot(final_modelhist.history.get('loss'), label='Loss')\r\n",
        "plt.plot(final_modelhist.history.get('val_loss'), label='Validation Loss')\r\n",
        "plt.legend()\r\n",
        "plt.show()"
      ],
      "execution_count": null,
      "outputs": [
        {
          "output_type": "display_data",
          "data": {
            "image/png": "[encoded data removed]",
            "text/plain": [
              "<Figure size 432x288 with 1 Axes>"
            ]
          },
          "metadata": {
            "tags": [],
            "needs_background": "light"
          }
        }
      ]
    },
    {
      "cell_type": "markdown",
      "metadata": {
        "id": "Mb6zoz0VIsU0"
      },
      "source": [
        "MODEL3 : Try Shivam's model with RMSProp"
      ]
    },
    {
      "cell_type": "code",
      "metadata": {
        "id": "bLmA9zHvIyEe"
      },
      "source": [
        "del final_model\r\n",
        "vggoutput = vggmodel.layers[-3].output\r\n",
        "norm = tf.keras.layers.BatchNormalization(trainable=False)(vggoutput)\r\n",
        "drop = tf.keras.layers.Dropout(0.5)(norm)\r\n",
        "dense_output = tf.keras.layers.Dense(120, activation='softmax')(drop)"
      ],
      "execution_count": null,
      "outputs": []
    },
    {
      "cell_type": "code",
      "metadata": {
        "id": "Z1sDjD0dJyXg"
      },
      "source": [
        "final_model = tf.keras.models.Model(inputs = [vggmodel.input],\r\n",
        "                                    outputs = [dense_output])"
      ],
      "execution_count": null,
      "outputs": []
    },
    {
      "cell_type": "code",
      "metadata": {
        "id": "zqGSOUuNLEWm"
      },
      "source": [
        "final_model.compile(optimizer=tf.keras.optimizers.RMSprop(),\r\n",
        "                    loss = tf.keras.losses.categorical_crossentropy,\r\n",
        "                    metrics = ['acc'])"
      ],
      "execution_count": null,
      "outputs": []
    },
    {
      "cell_type": "code",
      "metadata": {
        "colab": {
          "base_uri": "https://localhost:8080/"
        },
        "id": "KQLOkebOLVzD",
        "outputId": "504494d6-107f-4e75-8a27-4288d9be1270"
      },
      "source": [
        "final_model_hist = final_model.fit(train_idg, epochs=30, validation_data=val_idg)"
      ],
      "execution_count": null,
      "outputs": [
        {
          "output_type": "stream",
          "text": [
            "Epoch 1/30\n",
            "64/64 [==============================] - 152s 2s/step - loss: 12.9262 - acc: 0.1684 - val_loss: 3.8807 - val_acc: 0.5171\n",
            "Epoch 2/30\n",
            "64/64 [==============================] - 135s 2s/step - loss: 5.5093 - acc: 0.4605 - val_loss: 3.9750 - val_acc: 0.5445\n",
            "Epoch 3/30\n",
            "64/64 [==============================] - 135s 2s/step - loss: 4.1360 - acc: 0.5607 - val_loss: 3.7939 - val_acc: 0.5846\n",
            "Epoch 4/30\n",
            "64/64 [==============================] - 135s 2s/step - loss: 3.5203 - acc: 0.6123 - val_loss: 3.6108 - val_acc: 0.6003\n",
            "Epoch 5/30\n",
            "64/64 [==============================] - 135s 2s/step - loss: 3.0789 - acc: 0.6568 - val_loss: 3.7142 - val_acc: 0.5983\n",
            "Epoch 6/30\n",
            "64/64 [==============================] - 135s 2s/step - loss: 2.8694 - acc: 0.6725 - val_loss: 3.8143 - val_acc: 0.6057\n",
            "Epoch 7/30\n",
            "64/64 [==============================] - 135s 2s/step - loss: 2.4992 - acc: 0.7080 - val_loss: 4.1630 - val_acc: 0.6159\n",
            "Epoch 8/30\n",
            "64/64 [==============================] - 135s 2s/step - loss: 2.3838 - acc: 0.7213 - val_loss: 3.8772 - val_acc: 0.6086\n",
            "Epoch 9/30\n",
            "64/64 [==============================] - 135s 2s/step - loss: 2.0318 - acc: 0.7527 - val_loss: 4.2118 - val_acc: 0.6037\n",
            "Epoch 10/30\n",
            "64/64 [==============================] - 135s 2s/step - loss: 1.9780 - acc: 0.7642 - val_loss: 4.0705 - val_acc: 0.6282\n",
            "Epoch 11/30\n",
            "64/64 [==============================] - 134s 2s/step - loss: 1.8545 - acc: 0.7653 - val_loss: 4.3514 - val_acc: 0.5969\n",
            "Epoch 12/30\n",
            "64/64 [==============================] - 134s 2s/step - loss: 1.6757 - acc: 0.7825 - val_loss: 4.3938 - val_acc: 0.6071\n",
            "Epoch 13/30\n",
            "64/64 [==============================] - 134s 2s/step - loss: 1.7214 - acc: 0.7867 - val_loss: 4.4271 - val_acc: 0.6125\n",
            "Epoch 14/30\n",
            "64/64 [==============================] - 133s 2s/step - loss: 1.5083 - acc: 0.8108 - val_loss: 4.4367 - val_acc: 0.6155\n",
            "Epoch 15/30\n",
            "64/64 [==============================] - 134s 2s/step - loss: 1.5841 - acc: 0.7995 - val_loss: 4.4937 - val_acc: 0.6140\n",
            "Epoch 16/30\n",
            "64/64 [==============================] - 134s 2s/step - loss: 1.4691 - acc: 0.8131 - val_loss: 4.3618 - val_acc: 0.6394\n",
            "Epoch 17/30\n",
            "64/64 [==============================] - 134s 2s/step - loss: 1.3919 - acc: 0.8171 - val_loss: 4.7074 - val_acc: 0.6062\n",
            "Epoch 18/30\n",
            "64/64 [==============================] - 134s 2s/step - loss: 1.2956 - acc: 0.8160 - val_loss: 4.7147 - val_acc: 0.6208\n",
            "Epoch 19/30\n",
            "64/64 [==============================] - 135s 2s/step - loss: 1.2339 - acc: 0.8364 - val_loss: 4.7804 - val_acc: 0.6164\n",
            "Epoch 20/30\n",
            "64/64 [==============================] - 134s 2s/step - loss: 1.2727 - acc: 0.8296 - val_loss: 4.7887 - val_acc: 0.6150\n",
            "Epoch 21/30\n",
            "64/64 [==============================] - 134s 2s/step - loss: 1.2321 - acc: 0.8443 - val_loss: 4.8348 - val_acc: 0.6057\n",
            "Epoch 22/30\n",
            "64/64 [==============================] - 134s 2s/step - loss: 1.1421 - acc: 0.8475 - val_loss: 4.9459 - val_acc: 0.6155\n",
            "Epoch 23/30\n",
            "64/64 [==============================] - 134s 2s/step - loss: 1.1416 - acc: 0.8478 - val_loss: 4.7697 - val_acc: 0.6326\n",
            "Epoch 24/30\n",
            "64/64 [==============================] - 134s 2s/step - loss: 1.1344 - acc: 0.8563 - val_loss: 4.7754 - val_acc: 0.6213\n",
            "Epoch 25/30\n",
            "64/64 [==============================] - 135s 2s/step - loss: 1.1341 - acc: 0.8495 - val_loss: 5.0520 - val_acc: 0.6140\n",
            "Epoch 26/30\n",
            "64/64 [==============================] - 136s 2s/step - loss: 1.1399 - acc: 0.8533 - val_loss: 5.0199 - val_acc: 0.6184\n",
            "Epoch 27/30\n",
            "64/64 [==============================] - 136s 2s/step - loss: 1.0901 - acc: 0.8647 - val_loss: 5.0930 - val_acc: 0.6135\n",
            "Epoch 28/30\n",
            "64/64 [==============================] - 135s 2s/step - loss: 1.0157 - acc: 0.8580 - val_loss: 5.1758 - val_acc: 0.6164\n",
            "Epoch 29/30\n",
            "64/64 [==============================] - 135s 2s/step - loss: 1.0599 - acc: 0.8528 - val_loss: 5.2373 - val_acc: 0.6248\n",
            "Epoch 30/30\n",
            "64/64 [==============================] - 135s 2s/step - loss: 1.0398 - acc: 0.8701 - val_loss: 5.1562 - val_acc: 0.6345\n"
          ],
          "name": "stdout"
        }
      ]
    },
    {
      "cell_type": "markdown",
      "metadata": {
        "id": "Cq99hfULeT5I"
      },
      "source": [
        "Model4: Try Adam with one extra layer of Dense"
      ]
    },
    {
      "cell_type": "code",
      "metadata": {
        "id": "w4zQOaNHetNt"
      },
      "source": [
        "#del final_model\r\n",
        "#Create functional model\r\n",
        "vggoutput = vggmodel.layers[-3].output #Take the output of vggmodel but leave the last 3.\r\n",
        "#Normalize the output of the vggmodel\r\n",
        "norm1 = tf.keras.layers.BatchNormalization(trainable=False) (vggoutput) #Always make trainable False for batch\r\n",
        "#Dropout some of the neurons randomly with each epoch. This will help reduce the overfitting\r\n",
        "drop1 = tf.keras.layers.Dropout(0.5)(norm1)\r\n",
        "dense2 = tf.keras.layers.Dense(64, activation='relu')(drop1)\r\n",
        "norm2 = tf.keras.layers.BatchNormalization()(dense2)\r\n",
        "drop2 = tf.keras.layers.Dropout(0.3)(norm2)\r\n",
        "dense_output = tf.keras.layers.Dense(120,activation='softmax')(drop2)"
      ],
      "execution_count": null,
      "outputs": []
    },
    {
      "cell_type": "code",
      "metadata": {
        "id": "sL-l_49ieyL8"
      },
      "source": [
        "final_model = tf.keras.models.Model(inputs=[vggmodel.input], outputs = [dense_output])"
      ],
      "execution_count": null,
      "outputs": []
    },
    {
      "cell_type": "code",
      "metadata": {
        "id": "Fu60qQQlfNZd"
      },
      "source": [
        "final_model.compile(optimizer=tf.keras.optimizers.Adam() ,\r\n",
        "                    loss = tf.keras.losses.categorical_crossentropy,\r\n",
        "                    metrics = ['acc'])\r\n"
      ],
      "execution_count": null,
      "outputs": []
    },
    {
      "cell_type": "code",
      "metadata": {
        "colab": {
          "base_uri": "https://localhost:8080/"
        },
        "id": "bT_52nr7fTtL",
        "outputId": "c2717936-2366-415b-9ec6-960fd664c401"
      },
      "source": [
        "final_modelhist = final_model.fit(train_idg, epochs = 20, validation_data=val_idg)"
      ],
      "execution_count": null,
      "outputs": [
        {
          "output_type": "stream",
          "text": [
            "Epoch 1/20\n",
            "64/64 [==============================] - 137s 2s/step - loss: 4.5353 - acc: 0.0715 - val_loss: 2.7389 - val_acc: 0.3478\n",
            "Epoch 2/20\n",
            "64/64 [==============================] - 135s 2s/step - loss: 3.0043 - acc: 0.3517 - val_loss: 2.1074 - val_acc: 0.5059\n",
            "Epoch 3/20\n",
            "64/64 [==============================] - 134s 2s/step - loss: 2.3806 - acc: 0.4685 - val_loss: 1.8122 - val_acc: 0.5773\n",
            "Epoch 4/20\n",
            "64/64 [==============================] - 135s 2s/step - loss: 2.0236 - acc: 0.5386 - val_loss: 1.6401 - val_acc: 0.6096\n",
            "Epoch 5/20\n",
            "64/64 [==============================] - 134s 2s/step - loss: 1.7549 - acc: 0.5853 - val_loss: 1.5190 - val_acc: 0.6130\n",
            "Epoch 6/20\n",
            "64/64 [==============================] - 134s 2s/step - loss: 1.5702 - acc: 0.6162 - val_loss: 1.4384 - val_acc: 0.6306\n",
            "Epoch 7/20\n",
            "64/64 [==============================] - 134s 2s/step - loss: 1.4574 - acc: 0.6282 - val_loss: 1.3721 - val_acc: 0.6497\n",
            "Epoch 8/20\n",
            "64/64 [==============================] - 134s 2s/step - loss: 1.3498 - acc: 0.6466 - val_loss: 1.3535 - val_acc: 0.6277\n",
            "Epoch 9/20\n",
            "64/64 [==============================] - 134s 2s/step - loss: 1.2566 - acc: 0.6671 - val_loss: 1.3113 - val_acc: 0.6350\n",
            "Epoch 10/20\n",
            "64/64 [==============================] - 135s 2s/step - loss: 1.2495 - acc: 0.6630 - val_loss: 1.2936 - val_acc: 0.6492\n",
            "Epoch 11/20\n",
            "64/64 [==============================] - 134s 2s/step - loss: 1.1752 - acc: 0.6856 - val_loss: 1.2595 - val_acc: 0.6614\n",
            "Epoch 12/20\n",
            "64/64 [==============================] - 136s 2s/step - loss: 1.1237 - acc: 0.6910 - val_loss: 1.2226 - val_acc: 0.6522\n",
            "Epoch 13/20\n",
            "64/64 [==============================] - 137s 2s/step - loss: 1.0943 - acc: 0.6903 - val_loss: 1.2345 - val_acc: 0.6497\n",
            "Epoch 14/20\n",
            "64/64 [==============================] - 135s 2s/step - loss: 1.0455 - acc: 0.6984 - val_loss: 1.2083 - val_acc: 0.6580\n",
            "Epoch 15/20\n",
            "64/64 [==============================] - 135s 2s/step - loss: 1.0503 - acc: 0.6998 - val_loss: 1.1971 - val_acc: 0.6580\n",
            "Epoch 16/20\n",
            "64/64 [==============================] - 135s 2s/step - loss: 0.9854 - acc: 0.7223 - val_loss: 1.2285 - val_acc: 0.6453\n",
            "Epoch 17/20\n",
            "64/64 [==============================] - 135s 2s/step - loss: 0.9950 - acc: 0.7075 - val_loss: 1.2101 - val_acc: 0.6570\n",
            "Epoch 18/20\n",
            "64/64 [==============================] - 134s 2s/step - loss: 0.9459 - acc: 0.7282 - val_loss: 1.2360 - val_acc: 0.6438\n",
            "Epoch 19/20\n",
            "64/64 [==============================] - 134s 2s/step - loss: 0.9465 - acc: 0.7248 - val_loss: 1.1976 - val_acc: 0.6580\n",
            "Epoch 20/20\n",
            "64/64 [==============================] - 134s 2s/step - loss: 0.9513 - acc: 0.7219 - val_loss: 1.1790 - val_acc: 0.6605\n"
          ],
          "name": "stdout"
        }
      ]
    },
    {
      "cell_type": "code",
      "metadata": {
        "colab": {
          "base_uri": "https://localhost:8080/",
          "height": 265
        },
        "id": "5rJXPGbBqOfQ",
        "outputId": "56d93961-9769-418a-c233-d9ff2555c300"
      },
      "source": [
        "\r\n",
        "plt.plot(final_modelhist.history.get('acc'), label='Accuracy')\r\n",
        "plt.plot(final_modelhist.history.get('val_acc'), label='Validation Accuracy')\r\n",
        "plt.legend()\r\n",
        "plt.show()\r\n"
      ],
      "execution_count": null,
      "outputs": [
        {
          "output_type": "display_data",
          "data": {
            "image/png": "[encoded data removed]",
            "text/plain": [
              "<Figure size 432x288 with 1 Axes>"
            ]
          },
          "metadata": {
            "tags": [],
            "needs_background": "light"
          }
        }
      ]
    },
    {
      "cell_type": "code",
      "metadata": {
        "colab": {
          "base_uri": "https://localhost:8080/",
          "height": 265
        },
        "id": "GcMrfvzvqQoZ",
        "outputId": "81aef14d-218a-4f96-b987-47159ec44c20"
      },
      "source": [
        "plt.plot(final_modelhist.history.get('loss'), label='Loss')\r\n",
        "plt.plot(final_modelhist.history.get('val_loss'), label='Validation Loss')\r\n",
        "plt.legend()\r\n",
        "plt.show()"
      ],
      "execution_count": null,
      "outputs": [
        {
          "output_type": "display_data",
          "data": {
            "image/png": "[encoded data removed]",
            "text/plain": [
              "<Figure size 432x288 with 1 Axes>"
            ]
          },
          "metadata": {
            "tags": [],
            "needs_background": "light"
          }
        }
      ]
    },
    {
      "cell_type": "markdown",
      "metadata": {
        "id": "9F_12uY7p6At"
      },
      "source": [
        "MODEL 5: Increase the neurons to 128 and then run the Adam again"
      ]
    },
    {
      "cell_type": "code",
      "metadata": {
        "id": "XwBa-55IqDxv"
      },
      "source": [
        "#del final_model\r\n",
        "#Create functional model\r\n",
        "vggoutput = vggmodel.layers[-3].output #Take the output of vggmodel but leave the last 3.\r\n",
        "#Normalize the output of the vggmodel\r\n",
        "norm1 = tf.keras.layers.BatchNormalization(trainable=False) (vggoutput) #Always make trainable False for batch\r\n",
        "#Dropout some of the neurons randomly with each epoch. This will help reduce the overfitting\r\n",
        "drop1 = tf.keras.layers.Dropout(0.5)(norm1)\r\n",
        "dense2 = tf.keras.layers.Dense(128, activation='relu')(drop1)\r\n",
        "norm2 = tf.keras.layers.BatchNormalization()(dense2)\r\n",
        "drop2 = tf.keras.layers.Dropout(0.3)(norm2)\r\n",
        "dense_output = tf.keras.layers.Dense(120,activation='softmax')(drop2)\r\n"
      ],
      "execution_count": 25,
      "outputs": []
    },
    {
      "cell_type": "code",
      "metadata": {
        "id": "grP5z_S0qEH7"
      },
      "source": [
        "final_model = tf.keras.models.Model(inputs=[vggmodel.input], outputs = [dense_output])"
      ],
      "execution_count": 26,
      "outputs": []
    },
    {
      "cell_type": "code",
      "metadata": {
        "id": "b8RxcwgjqELd"
      },
      "source": [
        "final_model.compile(optimizer=tf.keras.optimizers.Adam(),\r\n",
        "                    loss = tf.keras.losses.categorical_crossentropy,\r\n",
        "                    metrics = ['acc'])"
      ],
      "execution_count": 28,
      "outputs": []
    },
    {
      "cell_type": "code",
      "metadata": {
        "colab": {
          "base_uri": "https://localhost:8080/"
        },
        "id": "Vx-qoCMLqdEq",
        "outputId": "bdeb8ace-2a72-4b76-bf9d-877fac0e8042"
      },
      "source": [
        "final_modelhist = final_model.fit(train_idg, epochs = 20, validation_data=val_idg)"
      ],
      "execution_count": 29,
      "outputs": [
        {
          "output_type": "stream",
          "text": [
            "Epoch 1/20\n",
            "64/64 [==============================] - 136s 2s/step - loss: 4.3453 - acc: 0.1172 - val_loss: 2.0686 - val_acc: 0.4628\n",
            "Epoch 2/20\n",
            "64/64 [==============================] - 126s 2s/step - loss: 2.3081 - acc: 0.4667 - val_loss: 1.5534 - val_acc: 0.6081\n",
            "Epoch 3/20\n",
            "64/64 [==============================] - 126s 2s/step - loss: 1.7415 - acc: 0.5787 - val_loss: 1.4218 - val_acc: 0.6184\n",
            "Epoch 4/20\n",
            "64/64 [==============================] - 126s 2s/step - loss: 1.5040 - acc: 0.6145 - val_loss: 1.3573 - val_acc: 0.6336\n",
            "Epoch 5/20\n",
            "64/64 [==============================] - 126s 2s/step - loss: 1.3348 - acc: 0.6542 - val_loss: 1.3043 - val_acc: 0.6414\n",
            "Epoch 6/20\n",
            "64/64 [==============================] - 126s 2s/step - loss: 1.1987 - acc: 0.6807 - val_loss: 1.2559 - val_acc: 0.6610\n",
            "Epoch 7/20\n",
            "64/64 [==============================] - 125s 2s/step - loss: 1.1288 - acc: 0.6957 - val_loss: 1.2459 - val_acc: 0.6600\n",
            "Epoch 8/20\n",
            "64/64 [==============================] - 126s 2s/step - loss: 1.0128 - acc: 0.7216 - val_loss: 1.2053 - val_acc: 0.6605\n",
            "Epoch 9/20\n",
            "64/64 [==============================] - 126s 2s/step - loss: 1.0152 - acc: 0.7084 - val_loss: 1.2032 - val_acc: 0.6566\n",
            "Epoch 10/20\n",
            "64/64 [==============================] - 125s 2s/step - loss: 0.9468 - acc: 0.7266 - val_loss: 1.2209 - val_acc: 0.6468\n",
            "Epoch 11/20\n",
            "64/64 [==============================] - 126s 2s/step - loss: 0.8903 - acc: 0.7426 - val_loss: 1.2379 - val_acc: 0.6443\n",
            "Epoch 12/20\n",
            "64/64 [==============================] - 126s 2s/step - loss: 0.8620 - acc: 0.7489 - val_loss: 1.2359 - val_acc: 0.6394\n",
            "Epoch 13/20\n",
            "64/64 [==============================] - 128s 2s/step - loss: 0.8409 - acc: 0.7557 - val_loss: 1.2304 - val_acc: 0.6492\n",
            "Epoch 14/20\n",
            "64/64 [==============================] - 127s 2s/step - loss: 0.7934 - acc: 0.7732 - val_loss: 1.2007 - val_acc: 0.6443\n",
            "Epoch 15/20\n",
            "64/64 [==============================] - 127s 2s/step - loss: 0.8110 - acc: 0.7595 - val_loss: 1.2130 - val_acc: 0.6512\n",
            "Epoch 16/20\n",
            "64/64 [==============================] - 127s 2s/step - loss: 0.7442 - acc: 0.7844 - val_loss: 1.2164 - val_acc: 0.6429\n",
            "Epoch 17/20\n",
            "64/64 [==============================] - 128s 2s/step - loss: 0.7335 - acc: 0.7803 - val_loss: 1.2224 - val_acc: 0.6556\n",
            "Epoch 18/20\n",
            "64/64 [==============================] - 127s 2s/step - loss: 0.6994 - acc: 0.7915 - val_loss: 1.2199 - val_acc: 0.6443\n",
            "Epoch 19/20\n",
            "64/64 [==============================] - 128s 2s/step - loss: 0.7041 - acc: 0.7882 - val_loss: 1.2045 - val_acc: 0.6512\n",
            "Epoch 20/20\n",
            "64/64 [==============================] - 127s 2s/step - loss: 0.6894 - acc: 0.7867 - val_loss: 1.2188 - val_acc: 0.6502\n"
          ],
          "name": "stdout"
        }
      ]
    },
    {
      "cell_type": "code",
      "metadata": {
        "id": "F6VDsi9AqEWd"
      },
      "source": [
        ""
      ],
      "execution_count": null,
      "outputs": []
    },
    {
      "cell_type": "markdown",
      "metadata": {
        "id": "biCE1sP_0llS"
      },
      "source": [
        "Model 6: As Dense layer with 120 is overfitting, so try with two layers 64 & 32."
      ]
    },
    {
      "cell_type": "code",
      "metadata": {
        "id": "oKG8-l5Y0kWk"
      },
      "source": [
        "del final_model\r\n",
        "#Create functional model\r\n",
        "vggoutput = vggmodel.layers[-3].output #Take the output of vggmodel but leave the last 3.\r\n",
        "#Normalize the output of the vggmodel\r\n",
        "norm1 = tf.keras.layers.BatchNormalization(trainable=False) (vggoutput) #Always make trainable False for batch\r\n",
        "#Dropout some of the neurons randomly with each epoch. This will help reduce the overfitting\r\n",
        "drop1 = tf.keras.layers.Dropout(0.5)(norm1)\r\n",
        "dense2 = tf.keras.layers.Dense(64, activation='relu')(drop1)\r\n",
        "norm2 = tf.keras.layers.BatchNormalization()(dense2)\r\n",
        "drop2 = tf.keras.layers.Dropout(0.3)(norm2)\r\n",
        "dense3 = tf.keras.layers.Dense(32, activation='relu')(drop2)\r\n",
        "norm3 = tf.keras.layers.BatchNormalization()(dense3)\r\n",
        "drop3 = tf.keras.layers.Dropout(0.3)(norm3)\r\n",
        "dense_output = tf.keras.layers.Dense(120,activation='softmax')(drop3)"
      ],
      "execution_count": 35,
      "outputs": []
    },
    {
      "cell_type": "code",
      "metadata": {
        "id": "Xi0F5l8k0zZI"
      },
      "source": [
        "final_model = tf.keras.models.Model(inputs=[vggmodel.input], outputs = [dense_output])"
      ],
      "execution_count": 36,
      "outputs": []
    },
    {
      "cell_type": "code",
      "metadata": {
        "id": "s7ZsG2Yv013x"
      },
      "source": [
        "final_model.compile(optimizer=tf.keras.optimizers.Adam(),\r\n",
        "                    loss = tf.keras.losses.categorical_crossentropy,\r\n",
        "                    metrics = ['acc'])"
      ],
      "execution_count": 37,
      "outputs": []
    },
    {
      "cell_type": "code",
      "metadata": {
        "colab": {
          "base_uri": "https://localhost:8080/"
        },
        "id": "byGyBCcG0_Qt",
        "outputId": "70a403f4-0e36-4fbe-d2b3-422c6ffb59b0"
      },
      "source": [
        "final_modelhist = final_model.fit(train_idg, epochs = 40, validation_data=val_idg)"
      ],
      "execution_count": 38,
      "outputs": [
        {
          "output_type": "stream",
          "text": [
            "Epoch 1/40\n",
            "64/64 [==============================] - 130s 2s/step - loss: 4.7843 - acc: 0.0210 - val_loss: 3.8608 - val_acc: 0.1311\n",
            "Epoch 2/40\n",
            "64/64 [==============================] - 127s 2s/step - loss: 4.0932 - acc: 0.1217 - val_loss: 3.3582 - val_acc: 0.2808\n",
            "Epoch 3/40\n",
            "64/64 [==============================] - 127s 2s/step - loss: 3.6485 - acc: 0.2150 - val_loss: 3.0051 - val_acc: 0.3699\n",
            "Epoch 4/40\n",
            "64/64 [==============================] - 126s 2s/step - loss: 3.3092 - acc: 0.2580 - val_loss: 2.6606 - val_acc: 0.4305\n",
            "Epoch 5/40\n",
            "64/64 [==============================] - 127s 2s/step - loss: 2.9514 - acc: 0.3267 - val_loss: 2.3957 - val_acc: 0.4765\n",
            "Epoch 6/40\n",
            "64/64 [==============================] - 127s 2s/step - loss: 2.7274 - acc: 0.3483 - val_loss: 2.1463 - val_acc: 0.5073\n",
            "Epoch 7/40\n",
            "64/64 [==============================] - 127s 2s/step - loss: 2.4726 - acc: 0.4025 - val_loss: 1.9627 - val_acc: 0.5284\n",
            "Epoch 8/40\n",
            "64/64 [==============================] - 126s 2s/step - loss: 2.3470 - acc: 0.4101 - val_loss: 1.8085 - val_acc: 0.5700\n",
            "Epoch 9/40\n",
            "64/64 [==============================] - 127s 2s/step - loss: 2.1983 - acc: 0.4351 - val_loss: 1.7132 - val_acc: 0.5758\n",
            "Epoch 10/40\n",
            "64/64 [==============================] - 131s 2s/step - loss: 2.0916 - acc: 0.4572 - val_loss: 1.6506 - val_acc: 0.5934\n",
            "Epoch 11/40\n",
            "64/64 [==============================] - 127s 2s/step - loss: 2.0063 - acc: 0.4694 - val_loss: 1.5656 - val_acc: 0.5925\n",
            "Epoch 12/40\n",
            "64/64 [==============================] - 128s 2s/step - loss: 1.9306 - acc: 0.4790 - val_loss: 1.5233 - val_acc: 0.5988\n",
            "Epoch 13/40\n",
            "64/64 [==============================] - 127s 2s/step - loss: 1.8961 - acc: 0.4844 - val_loss: 1.4814 - val_acc: 0.6057\n",
            "Epoch 14/40\n",
            "64/64 [==============================] - 128s 2s/step - loss: 1.7966 - acc: 0.5031 - val_loss: 1.4700 - val_acc: 0.6159\n",
            "Epoch 15/40\n",
            "64/64 [==============================] - 128s 2s/step - loss: 1.7784 - acc: 0.5019 - val_loss: 1.4253 - val_acc: 0.6013\n",
            "Epoch 16/40\n",
            "64/64 [==============================] - 128s 2s/step - loss: 1.7462 - acc: 0.5077 - val_loss: 1.4290 - val_acc: 0.6086\n",
            "Epoch 17/40\n",
            "64/64 [==============================] - 128s 2s/step - loss: 1.7089 - acc: 0.5196 - val_loss: 1.3960 - val_acc: 0.6164\n",
            "Epoch 18/40\n",
            "64/64 [==============================] - 128s 2s/step - loss: 1.6740 - acc: 0.5184 - val_loss: 1.3758 - val_acc: 0.6150\n",
            "Epoch 19/40\n",
            "64/64 [==============================] - 127s 2s/step - loss: 1.6569 - acc: 0.5302 - val_loss: 1.3847 - val_acc: 0.6091\n",
            "Epoch 20/40\n",
            "64/64 [==============================] - 128s 2s/step - loss: 1.6534 - acc: 0.5351 - val_loss: 1.3498 - val_acc: 0.6213\n",
            "Epoch 21/40\n",
            "64/64 [==============================] - 128s 2s/step - loss: 1.6172 - acc: 0.5420 - val_loss: 1.3497 - val_acc: 0.6194\n",
            "Epoch 22/40\n",
            "64/64 [==============================] - 127s 2s/step - loss: 1.5847 - acc: 0.5498 - val_loss: 1.3236 - val_acc: 0.6336\n",
            "Epoch 23/40\n",
            "64/64 [==============================] - 127s 2s/step - loss: 1.5642 - acc: 0.5445 - val_loss: 1.2997 - val_acc: 0.6336\n",
            "Epoch 24/40\n",
            "64/64 [==============================] - 127s 2s/step - loss: 1.5645 - acc: 0.5541 - val_loss: 1.3251 - val_acc: 0.6296\n",
            "Epoch 25/40\n",
            "64/64 [==============================] - 127s 2s/step - loss: 1.5580 - acc: 0.5597 - val_loss: 1.3073 - val_acc: 0.6341\n",
            "Epoch 26/40\n",
            "64/64 [==============================] - 127s 2s/step - loss: 1.5788 - acc: 0.5426 - val_loss: 1.2855 - val_acc: 0.6321\n",
            "Epoch 27/40\n",
            "64/64 [==============================] - 127s 2s/step - loss: 1.5391 - acc: 0.5497 - val_loss: 1.3146 - val_acc: 0.6311\n",
            "Epoch 28/40\n",
            "64/64 [==============================] - 127s 2s/step - loss: 1.5098 - acc: 0.5555 - val_loss: 1.2842 - val_acc: 0.6169\n",
            "Epoch 29/40\n",
            "64/64 [==============================] - 127s 2s/step - loss: 1.4812 - acc: 0.5676 - val_loss: 1.3191 - val_acc: 0.6336\n",
            "Epoch 30/40\n",
            "64/64 [==============================] - 127s 2s/step - loss: 1.4942 - acc: 0.5714 - val_loss: 1.2856 - val_acc: 0.6331\n",
            "Epoch 31/40\n",
            "64/64 [==============================] - 128s 2s/step - loss: 1.4485 - acc: 0.5798 - val_loss: 1.2738 - val_acc: 0.6277\n",
            "Epoch 32/40\n",
            "64/64 [==============================] - 127s 2s/step - loss: 1.4627 - acc: 0.5723 - val_loss: 1.2817 - val_acc: 0.6389\n",
            "Epoch 33/40\n",
            "64/64 [==============================] - 127s 2s/step - loss: 1.4412 - acc: 0.5762 - val_loss: 1.2808 - val_acc: 0.6331\n",
            "Epoch 34/40\n",
            "64/64 [==============================] - 127s 2s/step - loss: 1.4646 - acc: 0.5735 - val_loss: 1.2494 - val_acc: 0.6350\n",
            "Epoch 35/40\n",
            "64/64 [==============================] - 128s 2s/step - loss: 1.4188 - acc: 0.5860 - val_loss: 1.2457 - val_acc: 0.6370\n",
            "Epoch 36/40\n",
            "64/64 [==============================] - 128s 2s/step - loss: 1.4201 - acc: 0.5839 - val_loss: 1.2714 - val_acc: 0.6262\n",
            "Epoch 37/40\n",
            "64/64 [==============================] - 128s 2s/step - loss: 1.4357 - acc: 0.5815 - val_loss: 1.2756 - val_acc: 0.6252\n",
            "Epoch 38/40\n",
            "64/64 [==============================] - 128s 2s/step - loss: 1.4324 - acc: 0.5858 - val_loss: 1.2888 - val_acc: 0.6282\n",
            "Epoch 39/40\n",
            "64/64 [==============================] - 128s 2s/step - loss: 1.4220 - acc: 0.5834 - val_loss: 1.2344 - val_acc: 0.6458\n",
            "Epoch 40/40\n",
            "64/64 [==============================] - 128s 2s/step - loss: 1.3692 - acc: 0.5888 - val_loss: 1.2357 - val_acc: 0.6541\n"
          ],
          "name": "stdout"
        }
      ]
    },
    {
      "cell_type": "markdown",
      "metadata": {
        "id": "OhN9wGgeCEO1"
      },
      "source": [
        "**MODEL8** : Train the last 3 layers of vgg and add our own dense layers. Also keep training rate 0.005"
      ]
    },
    {
      "cell_type": "code",
      "metadata": {
        "id": "v52bQl6p9hOc"
      },
      "source": [
        "vggmodel = tf.keras.applications.vgg16.VGG16(include_top=False, input_shape=(224,224,3))"
      ],
      "execution_count": null,
      "outputs": []
    },
    {
      "cell_type": "code",
      "metadata": {
        "colab": {
          "base_uri": "https://localhost:8080/"
        },
        "id": "_wFGnNPzowYW",
        "outputId": "0fc18b30-078b-4fb2-860b-de62268895a6"
      },
      "source": [
        "#Train the last 3 layers in VGG & slow down the learning rate in SGD\r\n",
        "for layer in vggmodel.layers:\r\n",
        "  print(layer.name, layer.trainable)"
      ],
      "execution_count": null,
      "outputs": [
        {
          "output_type": "stream",
          "text": [
            "input_4 True\n",
            "block1_conv1 True\n",
            "block1_conv2 True\n",
            "block1_pool True\n",
            "block2_conv1 True\n",
            "block2_conv2 True\n",
            "block2_pool True\n",
            "block3_conv1 True\n",
            "block3_conv2 True\n",
            "block3_conv3 True\n",
            "block3_pool True\n",
            "block4_conv1 True\n",
            "block4_conv2 True\n",
            "block4_conv3 True\n",
            "block4_pool True\n",
            "block5_conv1 True\n",
            "block5_conv2 True\n",
            "block5_conv3 True\n",
            "block5_pool True\n"
          ],
          "name": "stdout"
        }
      ]
    },
    {
      "cell_type": "code",
      "metadata": {
        "id": "VDv0RgXu3Zhb"
      },
      "source": [
        "for layer in vggmodel.layers:\r\n",
        "  layer.trainable=False"
      ],
      "execution_count": null,
      "outputs": []
    },
    {
      "cell_type": "code",
      "metadata": {
        "id": "oVbw7DfK3iKY"
      },
      "source": [
        "for layer in vggmodel.layers:\r\n",
        "  if 'block5' in layer.name:\r\n",
        "    layer.trainable = True"
      ],
      "execution_count": null,
      "outputs": []
    },
    {
      "cell_type": "code",
      "metadata": {
        "colab": {
          "base_uri": "https://localhost:8080/"
        },
        "id": "C8gEI2TL9UUl",
        "outputId": "bd9aeb99-a99d-4282-8cbc-79d057c4042f"
      },
      "source": [
        "for layer in vggmodel.layers:\r\n",
        "  print(layer.name, layer.trainable)"
      ],
      "execution_count": null,
      "outputs": [
        {
          "output_type": "stream",
          "text": [
            "input_4 False\n",
            "block1_conv1 False\n",
            "block1_conv2 False\n",
            "block1_pool False\n",
            "block2_conv1 False\n",
            "block2_conv2 False\n",
            "block2_pool False\n",
            "block3_conv1 False\n",
            "block3_conv2 False\n",
            "block3_conv3 False\n",
            "block3_pool False\n",
            "block4_conv1 False\n",
            "block4_conv2 False\n",
            "block4_conv3 False\n",
            "block4_pool False\n",
            "block5_conv1 True\n",
            "block5_conv2 True\n",
            "block5_conv3 True\n",
            "block5_pool True\n"
          ],
          "name": "stdout"
        }
      ]
    },
    {
      "cell_type": "code",
      "metadata": {
        "id": "4mfjUmJt-XIk"
      },
      "source": [
        "#Create our dense layer\r\n",
        "del final_model\r\n",
        "vgg_output = vggmodel.output\r\n",
        "flatten_output = tf.keras.layers.Flatten()(vgg_output)\r\n",
        "dense1 = tf.keras.layers.Dense(256, activation=tf.keras.activations.relu)(flatten_output)\r\n",
        "norm1 = tf.keras.layers.BatchNormalization()(dense1)\r\n",
        "drop1 = tf.keras.layers.Dropout(0.5)(norm1)\r\n",
        "dense_output = tf.keras.layers.Dense(120, activation='softmax')(drop1)"
      ],
      "execution_count": null,
      "outputs": []
    },
    {
      "cell_type": "code",
      "metadata": {
        "id": "LewtJHyo_g7T"
      },
      "source": [
        "\r\n",
        "final_model = tf.keras.models.Model(inputs = [vggmodel.input],\r\n",
        "                                    outputs =[dense_output])"
      ],
      "execution_count": null,
      "outputs": []
    },
    {
      "cell_type": "code",
      "metadata": {
        "colab": {
          "base_uri": "https://localhost:8080/"
        },
        "id": "P11jwYLgALvQ",
        "outputId": "047d14cc-0f06-431b-855d-cf8594226071"
      },
      "source": [
        "final_model.summary()"
      ],
      "execution_count": null,
      "outputs": [
        {
          "output_type": "stream",
          "text": [
            "Model: \"model_3\"\n",
            "_________________________________________________________________\n",
            "Layer (type)                 Output Shape              Param #   \n",
            "=================================================================\n",
            "input_4 (InputLayer)         [(None, 224, 224, 3)]     0         \n",
            "_________________________________________________________________\n",
            "block1_conv1 (Conv2D)        (None, 224, 224, 64)      1792      \n",
            "_________________________________________________________________\n",
            "block1_conv2 (Conv2D)        (None, 224, 224, 64)      36928     \n",
            "_________________________________________________________________\n",
            "block1_pool (MaxPooling2D)   (None, 112, 112, 64)      0         \n",
            "_________________________________________________________________\n",
            "block2_conv1 (Conv2D)        (None, 112, 112, 128)     73856     \n",
            "_________________________________________________________________\n",
            "block2_conv2 (Conv2D)        (None, 112, 112, 128)     147584    \n",
            "_________________________________________________________________\n",
            "block2_pool (MaxPooling2D)   (None, 56, 56, 128)       0         \n",
            "_________________________________________________________________\n",
            "block3_conv1 (Conv2D)        (None, 56, 56, 256)       295168    \n",
            "_________________________________________________________________\n",
            "block3_conv2 (Conv2D)        (None, 56, 56, 256)       590080    \n",
            "_________________________________________________________________\n",
            "block3_conv3 (Conv2D)        (None, 56, 56, 256)       590080    \n",
            "_________________________________________________________________\n",
            "block3_pool (MaxPooling2D)   (None, 28, 28, 256)       0         \n",
            "_________________________________________________________________\n",
            "block4_conv1 (Conv2D)        (None, 28, 28, 512)       1180160   \n",
            "_________________________________________________________________\n",
            "block4_conv2 (Conv2D)        (None, 28, 28, 512)       2359808   \n",
            "_________________________________________________________________\n",
            "block4_conv3 (Conv2D)        (None, 28, 28, 512)       2359808   \n",
            "_________________________________________________________________\n",
            "block4_pool (MaxPooling2D)   (None, 14, 14, 512)       0         \n",
            "_________________________________________________________________\n",
            "block5_conv1 (Conv2D)        (None, 14, 14, 512)       2359808   \n",
            "_________________________________________________________________\n",
            "block5_conv2 (Conv2D)        (None, 14, 14, 512)       2359808   \n",
            "_________________________________________________________________\n",
            "block5_conv3 (Conv2D)        (None, 14, 14, 512)       2359808   \n",
            "_________________________________________________________________\n",
            "block5_pool (MaxPooling2D)   (None, 7, 7, 512)         0         \n",
            "_________________________________________________________________\n",
            "flatten_2 (Flatten)          (None, 25088)             0         \n",
            "_________________________________________________________________\n",
            "dense_6 (Dense)              (None, 256)               6422784   \n",
            "_________________________________________________________________\n",
            "batch_normalization_4 (Batch (None, 256)               1024      \n",
            "_________________________________________________________________\n",
            "dropout_4 (Dropout)          (None, 256)               0         \n",
            "_________________________________________________________________\n",
            "dense_7 (Dense)              (None, 120)               30840     \n",
            "=================================================================\n",
            "Total params: 21,169,336\n",
            "Trainable params: 13,533,560\n",
            "Non-trainable params: 7,635,776\n",
            "_________________________________________________________________\n"
          ],
          "name": "stdout"
        }
      ]
    },
    {
      "cell_type": "code",
      "metadata": {
        "id": "ygQyxluCAU9C"
      },
      "source": [
        "final_model.compile(optimizer=tf.keras.optimizers.SGD(learning_rate=0.005),\r\n",
        "                    loss = tf.keras.losses.categorical_crossentropy,\r\n",
        "                    metrics = ['acc'])"
      ],
      "execution_count": null,
      "outputs": []
    },
    {
      "cell_type": "code",
      "metadata": {
        "colab": {
          "base_uri": "https://localhost:8080/"
        },
        "id": "ykiN-hIrAsr5",
        "outputId": "aeeaa0ee-f023-49e2-bd14-b2d57432956c"
      },
      "source": [
        "final_model_hist = final_model.fit(train_idg,epochs=30,validation_data = val_idg)"
      ],
      "execution_count": null,
      "outputs": [
        {
          "output_type": "stream",
          "text": [
            "Epoch 1/30\n",
            "64/64 [==============================] - 140s 2s/step - loss: 5.4007 - acc: 0.0310 - val_loss: 3.8264 - val_acc: 0.1820\n",
            "Epoch 2/30\n",
            "64/64 [==============================] - 136s 2s/step - loss: 3.6388 - acc: 0.1764 - val_loss: 2.8406 - val_acc: 0.3141\n",
            "Epoch 3/30\n",
            "64/64 [==============================] - 136s 2s/step - loss: 2.9986 - acc: 0.2874 - val_loss: 2.5115 - val_acc: 0.3855\n",
            "Epoch 4/30\n",
            "64/64 [==============================] - 136s 2s/step - loss: 2.6127 - acc: 0.3619 - val_loss: 2.3012 - val_acc: 0.4271\n",
            "Epoch 5/30\n",
            "64/64 [==============================] - 136s 2s/step - loss: 2.3800 - acc: 0.4107 - val_loss: 2.1840 - val_acc: 0.4545\n",
            "Epoch 6/30\n",
            "64/64 [==============================] - 136s 2s/step - loss: 2.1625 - acc: 0.4624 - val_loss: 2.0338 - val_acc: 0.5015\n",
            "Epoch 7/30\n",
            "64/64 [==============================] - 136s 2s/step - loss: 2.0360 - acc: 0.4812 - val_loss: 1.9612 - val_acc: 0.5171\n",
            "Epoch 8/30\n",
            "64/64 [==============================] - 137s 2s/step - loss: 1.8797 - acc: 0.5280 - val_loss: 1.9243 - val_acc: 0.5313\n",
            "Epoch 9/30\n",
            "64/64 [==============================] - 136s 2s/step - loss: 1.7578 - acc: 0.5464 - val_loss: 1.8506 - val_acc: 0.5279\n",
            "Epoch 10/30\n",
            "64/64 [==============================] - 137s 2s/step - loss: 1.6672 - acc: 0.5764 - val_loss: 1.8237 - val_acc: 0.5367\n",
            "Epoch 11/30\n",
            "64/64 [==============================] - 136s 2s/step - loss: 1.5672 - acc: 0.6031 - val_loss: 1.7678 - val_acc: 0.5734\n",
            "Epoch 12/30\n",
            "64/64 [==============================] - 137s 2s/step - loss: 1.4930 - acc: 0.6164 - val_loss: 1.7426 - val_acc: 0.5621\n",
            "Epoch 13/30\n",
            "64/64 [==============================] - 137s 2s/step - loss: 1.3998 - acc: 0.6454 - val_loss: 1.7144 - val_acc: 0.5616\n",
            "Epoch 14/30\n",
            "64/64 [==============================] - 136s 2s/step - loss: 1.3316 - acc: 0.6699 - val_loss: 1.6378 - val_acc: 0.5656\n",
            "Epoch 15/30\n",
            "64/64 [==============================] - 136s 2s/step - loss: 1.2955 - acc: 0.6740 - val_loss: 1.6301 - val_acc: 0.5837\n",
            "Epoch 16/30\n",
            "64/64 [==============================] - 136s 2s/step - loss: 1.2086 - acc: 0.6948 - val_loss: 1.6417 - val_acc: 0.5758\n",
            "Epoch 17/30\n",
            "64/64 [==============================] - 136s 2s/step - loss: 1.1656 - acc: 0.7084 - val_loss: 1.6130 - val_acc: 0.5763\n",
            "Epoch 18/30\n",
            "64/64 [==============================] - 136s 2s/step - loss: 1.1165 - acc: 0.7152 - val_loss: 1.5706 - val_acc: 0.5827\n",
            "Epoch 19/30\n",
            "64/64 [==============================] - 136s 2s/step - loss: 1.0839 - acc: 0.7253 - val_loss: 1.5382 - val_acc: 0.5871\n",
            "Epoch 20/30\n",
            "64/64 [==============================] - 136s 2s/step - loss: 1.0182 - acc: 0.7419 - val_loss: 1.4973 - val_acc: 0.5983\n",
            "Epoch 21/30\n",
            "64/64 [==============================] - 136s 2s/step - loss: 0.9561 - acc: 0.7655 - val_loss: 1.5366 - val_acc: 0.5900\n",
            "Epoch 22/30\n",
            "64/64 [==============================] - 136s 2s/step - loss: 0.9513 - acc: 0.7583 - val_loss: 1.5605 - val_acc: 0.5866\n",
            "Epoch 23/30\n",
            "64/64 [==============================] - 136s 2s/step - loss: 0.8931 - acc: 0.7790 - val_loss: 1.5335 - val_acc: 0.5861\n",
            "Epoch 24/30\n",
            "64/64 [==============================] - 136s 2s/step - loss: 0.8535 - acc: 0.7897 - val_loss: 1.4897 - val_acc: 0.5964\n",
            "Epoch 25/30\n",
            "64/64 [==============================] - 136s 2s/step - loss: 0.8354 - acc: 0.7967 - val_loss: 1.4806 - val_acc: 0.5925\n",
            "Epoch 26/30\n",
            "64/64 [==============================] - 136s 2s/step - loss: 0.8157 - acc: 0.8006 - val_loss: 1.4766 - val_acc: 0.5930\n",
            "Epoch 27/30\n",
            "64/64 [==============================] - ETA: 0s - loss: 0.7631 - acc: 0.8192"
          ],
          "name": "stdout"
        }
      ]
    },
    {
      "cell_type": "markdown",
      "metadata": {
        "id": "m2mbSamObyjl"
      },
      "source": [
        "Model9 : Adagard with the above style"
      ]
    },
    {
      "cell_type": "code",
      "metadata": {
        "id": "_5fyak41o745"
      },
      "source": [
        "del final_model\r\n",
        "vgg_output = vggmodel.output\r\n",
        "flatten_output = tf.keras.layers.Flatten()(vgg_output)\r\n",
        "dense1 = tf.keras.layers.Dense(256, activation=tf.keras.activations.relu)(flatten_output)\r\n",
        "norm1 = tf.keras.layers.BatchNormalization()(dense1)\r\n",
        "drop1 = tf.keras.layers.Dropout(0.5)(norm1)\r\n",
        "dense_output = tf.keras.layers.Dense(120, activation='softmax')(drop1)"
      ],
      "execution_count": null,
      "outputs": []
    },
    {
      "cell_type": "code",
      "metadata": {
        "id": "NfmGCulrRtrl"
      },
      "source": [
        "\r\n",
        "final_model = tf.keras.models.Model(inputs = [vggmodel.input],\r\n",
        "                                    outputs =[dense_output])"
      ],
      "execution_count": null,
      "outputs": []
    },
    {
      "cell_type": "code",
      "metadata": {
        "id": "fdsfl2hEcCa5"
      },
      "source": [
        "\r\n",
        "final_model.compile(optimizer=tf.keras.optimizers.Adagrad(),\r\n",
        "                    loss = tf.keras.losses.categorical_crossentropy,\r\n",
        "                    metrics = ['acc'])"
      ],
      "execution_count": null,
      "outputs": []
    },
    {
      "cell_type": "code",
      "metadata": {
        "colab": {
          "base_uri": "https://localhost:8080/"
        },
        "id": "9d_KQZiPcd_2",
        "outputId": "eaf170d8-9784-4247-9a09-4b656265c40a"
      },
      "source": [
        "final_model_hist = final_model.fit(train_idg,epochs=30,validation_data = val_idg)"
      ],
      "execution_count": null,
      "outputs": [
        {
          "output_type": "stream",
          "text": [
            "Epoch 1/30\n",
            "64/64 [==============================] - 139s 2s/step - loss: 5.2293 - acc: 0.0455 - val_loss: 3.5754 - val_acc: 0.2128\n",
            "Epoch 2/30\n",
            "64/64 [==============================] - 135s 2s/step - loss: 3.3633 - acc: 0.2312 - val_loss: 2.6495 - val_acc: 0.3615\n",
            "Epoch 3/30\n",
            "64/64 [==============================] - 135s 2s/step - loss: 2.7243 - acc: 0.3420 - val_loss: 2.3938 - val_acc: 0.4276\n",
            "Epoch 4/30\n",
            "64/64 [==============================] - 136s 2s/step - loss: 2.3543 - acc: 0.4279 - val_loss: 2.2317 - val_acc: 0.4746\n",
            "Epoch 5/30\n",
            "64/64 [==============================] - 136s 2s/step - loss: 2.1386 - acc: 0.4691 - val_loss: 2.0513 - val_acc: 0.5127\n",
            "Epoch 6/30\n",
            "64/64 [==============================] - 137s 2s/step - loss: 1.8937 - acc: 0.5370 - val_loss: 1.9517 - val_acc: 0.5137\n",
            "Epoch 7/30\n",
            "64/64 [==============================] - 137s 2s/step - loss: 1.8302 - acc: 0.5511 - val_loss: 1.9360 - val_acc: 0.5328\n",
            "Epoch 8/30\n",
            "64/64 [==============================] - 136s 2s/step - loss: 1.6903 - acc: 0.5730 - val_loss: 1.8506 - val_acc: 0.5431\n",
            "Epoch 9/30\n",
            "64/64 [==============================] - 137s 2s/step - loss: 1.6019 - acc: 0.5981 - val_loss: 1.8189 - val_acc: 0.5455\n",
            "Epoch 10/30\n",
            "64/64 [==============================] - 137s 2s/step - loss: 1.4809 - acc: 0.6314 - val_loss: 1.7813 - val_acc: 0.5592\n",
            "Epoch 11/30\n",
            "64/64 [==============================] - 137s 2s/step - loss: 1.4371 - acc: 0.6388 - val_loss: 1.7424 - val_acc: 0.5514\n",
            "Epoch 12/30\n",
            "64/64 [==============================] - 136s 2s/step - loss: 1.3458 - acc: 0.6634 - val_loss: 1.7348 - val_acc: 0.5533\n",
            "Epoch 13/30\n",
            "64/64 [==============================] - 136s 2s/step - loss: 1.3036 - acc: 0.6720 - val_loss: 1.6522 - val_acc: 0.5807\n",
            "Epoch 14/30\n",
            "64/64 [==============================] - 136s 2s/step - loss: 1.2841 - acc: 0.6768 - val_loss: 1.6773 - val_acc: 0.5700\n",
            "Epoch 15/30\n",
            "64/64 [==============================] - 136s 2s/step - loss: 1.2206 - acc: 0.6911 - val_loss: 1.7061 - val_acc: 0.5734\n",
            "Epoch 16/30\n",
            "64/64 [==============================] - 137s 2s/step - loss: 1.1801 - acc: 0.7124 - val_loss: 1.6593 - val_acc: 0.5665\n",
            "Epoch 17/30\n",
            "64/64 [==============================] - 136s 2s/step - loss: 1.1369 - acc: 0.7171 - val_loss: 1.6461 - val_acc: 0.5773\n",
            "Epoch 18/30\n",
            "64/64 [==============================] - 137s 2s/step - loss: 1.1205 - acc: 0.7222 - val_loss: 1.5943 - val_acc: 0.5856\n",
            "Epoch 19/30\n",
            "64/64 [==============================] - 136s 2s/step - loss: 1.0533 - acc: 0.7329 - val_loss: 1.6281 - val_acc: 0.5920\n",
            "Epoch 20/30\n",
            "64/64 [==============================] - 137s 2s/step - loss: 1.0246 - acc: 0.7530 - val_loss: 1.5788 - val_acc: 0.5739\n",
            "Epoch 21/30\n",
            "64/64 [==============================] - 136s 2s/step - loss: 0.9791 - acc: 0.7541 - val_loss: 1.5943 - val_acc: 0.5944\n",
            "Epoch 22/30\n",
            "64/64 [==============================] - 136s 2s/step - loss: 0.9483 - acc: 0.7687 - val_loss: 1.5524 - val_acc: 0.5925\n",
            "Epoch 23/30\n",
            "64/64 [==============================] - 137s 2s/step - loss: 0.9253 - acc: 0.7692 - val_loss: 1.5417 - val_acc: 0.5915\n",
            "Epoch 24/30\n",
            "64/64 [==============================] - 137s 2s/step - loss: 0.9313 - acc: 0.7718 - val_loss: 1.5734 - val_acc: 0.5939\n",
            "Epoch 25/30\n",
            "64/64 [==============================] - 137s 2s/step - loss: 0.8591 - acc: 0.7955 - val_loss: 1.5313 - val_acc: 0.5910\n",
            "Epoch 26/30\n",
            "13/64 [=====>........................] - ETA: 1:27 - loss: 0.8698 - acc: 0.7792"
          ],
          "name": "stdout"
        }
      ]
    },
    {
      "cell_type": "markdown",
      "metadata": {
        "id": "95Fbb1FupJ2R"
      },
      "source": [
        "Model5: RMSProp"
      ]
    },
    {
      "cell_type": "code",
      "metadata": {
        "id": "BtzIQivDpIoZ"
      },
      "source": [
        "del final_model\r\n",
        "vgg_output = vggmodel.output\r\n",
        "flatten_output = tf.keras.layers.Flatten()(vgg_output)\r\n",
        "dense1 = tf.keras.layers.Dense(256, activation=tf.keras.activations.relu)(flatten_output)\r\n",
        "norm1 = tf.keras.layers.BatchNormalization()(dense1)\r\n",
        "drop1 = tf.keras.layers.Dropout(0.5)(norm1)\r\n",
        "dense_output = tf.keras.layers.Dense(120, activation='softmax')(drop1)"
      ],
      "execution_count": null,
      "outputs": []
    },
    {
      "cell_type": "code",
      "metadata": {
        "id": "8EY0oNOJdL9W"
      },
      "source": [
        "\r\n",
        "final_model.compile(optimizer=tf.keras.optimizers.RMSprop(),\r\n",
        "                    loss = tf.keras.losses.categorical_crossentropy,\r\n",
        "                    metrics = ['acc'])"
      ],
      "execution_count": null,
      "outputs": []
    },
    {
      "cell_type": "code",
      "metadata": {
        "colab": {
          "base_uri": "https://localhost:8080/",
          "height": 333
        },
        "id": "SglYrhgCs6Ry",
        "outputId": "43745feb-2dca-497a-9c62-accb9fed3211"
      },
      "source": [
        "final_model_hist = final_model.fit(train_idg,epochs=30,validation_data = val_idg) #Stopped as it was overfitting"
      ],
      "execution_count": null,
      "outputs": [
        {
          "output_type": "stream",
          "text": [
            "60/64 [===========================>..] - ETA: 6s - loss: 0.4016 - acc: 0.8769"
          ],
          "name": "stdout"
        },
        {
          "output_type": "error",
          "ename": "KeyboardInterrupt",
          "evalue": "ignored",
          "traceback": [
            "\u001b[0;31m---------------------------------------------------------------------------\u001b[0m",
            "\u001b[0;31mKeyboardInterrupt\u001b[0m                         Traceback (most recent call last)",
            "\u001b[0;32m<ipython-input-28-6d4ec13dff16>\u001b[0m in \u001b[0;36m<module>\u001b[0;34m()\u001b[0m\n\u001b[0;32m----> 1\u001b[0;31m \u001b[0mfinal_model_hist\u001b[0m \u001b[0;34m=\u001b[0m \u001b[0mfinal_model\u001b[0m\u001b[0;34m.\u001b[0m\u001b[0mfit\u001b[0m\u001b[0;34m(\u001b[0m\u001b[0mtrain_idg\u001b[0m\u001b[0;34m,\u001b[0m\u001b[0mepochs\u001b[0m\u001b[0;34m=\u001b[0m\u001b[0;36m30\u001b[0m\u001b[0;34m,\u001b[0m\u001b[0mvalidation_data\u001b[0m \u001b[0;34m=\u001b[0m \u001b[0mval_idg\u001b[0m\u001b[0;34m)\u001b[0m\u001b[0;34m\u001b[0m\u001b[0;34m\u001b[0m\u001b[0m\n\u001b[0m",
            "\u001b[0;32m/usr/local/lib/python3.6/dist-packages/tensorflow/python/keras/engine/training.py\u001b[0m in \u001b[0;36mfit\u001b[0;34m(self, x, y, batch_size, epochs, verbose, callbacks, validation_split, validation_data, shuffle, class_weight, sample_weight, initial_epoch, steps_per_epoch, validation_steps, validation_batch_size, validation_freq, max_queue_size, workers, use_multiprocessing)\u001b[0m\n\u001b[1;32m   1098\u001b[0m                 _r=1):\n\u001b[1;32m   1099\u001b[0m               \u001b[0mcallbacks\u001b[0m\u001b[0;34m.\u001b[0m\u001b[0mon_train_batch_begin\u001b[0m\u001b[0;34m(\u001b[0m\u001b[0mstep\u001b[0m\u001b[0;34m)\u001b[0m\u001b[0;34m\u001b[0m\u001b[0;34m\u001b[0m\u001b[0m\n\u001b[0;32m-> 1100\u001b[0;31m               \u001b[0mtmp_logs\u001b[0m \u001b[0;34m=\u001b[0m \u001b[0mself\u001b[0m\u001b[0;34m.\u001b[0m\u001b[0mtrain_function\u001b[0m\u001b[0;34m(\u001b[0m\u001b[0miterator\u001b[0m\u001b[0;34m)\u001b[0m\u001b[0;34m\u001b[0m\u001b[0;34m\u001b[0m\u001b[0m\n\u001b[0m\u001b[1;32m   1101\u001b[0m               \u001b[0;32mif\u001b[0m \u001b[0mdata_handler\u001b[0m\u001b[0;34m.\u001b[0m\u001b[0mshould_sync\u001b[0m\u001b[0;34m:\u001b[0m\u001b[0;34m\u001b[0m\u001b[0;34m\u001b[0m\u001b[0m\n\u001b[1;32m   1102\u001b[0m                 \u001b[0mcontext\u001b[0m\u001b[0;34m.\u001b[0m\u001b[0masync_wait\u001b[0m\u001b[0;34m(\u001b[0m\u001b[0;34m)\u001b[0m\u001b[0;34m\u001b[0m\u001b[0;34m\u001b[0m\u001b[0m\n",
            "\u001b[0;32m/usr/local/lib/python3.6/dist-packages/tensorflow/python/eager/def_function.py\u001b[0m in \u001b[0;36m__call__\u001b[0;34m(self, *args, **kwds)\u001b[0m\n\u001b[1;32m    826\u001b[0m     \u001b[0mtracing_count\u001b[0m \u001b[0;34m=\u001b[0m \u001b[0mself\u001b[0m\u001b[0;34m.\u001b[0m\u001b[0mexperimental_get_tracing_count\u001b[0m\u001b[0;34m(\u001b[0m\u001b[0;34m)\u001b[0m\u001b[0;34m\u001b[0m\u001b[0;34m\u001b[0m\u001b[0m\n\u001b[1;32m    827\u001b[0m     \u001b[0;32mwith\u001b[0m \u001b[0mtrace\u001b[0m\u001b[0;34m.\u001b[0m\u001b[0mTrace\u001b[0m\u001b[0;34m(\u001b[0m\u001b[0mself\u001b[0m\u001b[0;34m.\u001b[0m\u001b[0m_name\u001b[0m\u001b[0;34m)\u001b[0m \u001b[0;32mas\u001b[0m \u001b[0mtm\u001b[0m\u001b[0;34m:\u001b[0m\u001b[0;34m\u001b[0m\u001b[0;34m\u001b[0m\u001b[0m\n\u001b[0;32m--> 828\u001b[0;31m       \u001b[0mresult\u001b[0m \u001b[0;34m=\u001b[0m \u001b[0mself\u001b[0m\u001b[0;34m.\u001b[0m\u001b[0m_call\u001b[0m\u001b[0;34m(\u001b[0m\u001b[0;34m*\u001b[0m\u001b[0margs\u001b[0m\u001b[0;34m,\u001b[0m \u001b[0;34m**\u001b[0m\u001b[0mkwds\u001b[0m\u001b[0;34m)\u001b[0m\u001b[0;34m\u001b[0m\u001b[0;34m\u001b[0m\u001b[0m\n\u001b[0m\u001b[1;32m    829\u001b[0m       \u001b[0mcompiler\u001b[0m \u001b[0;34m=\u001b[0m \u001b[0;34m\"xla\"\u001b[0m \u001b[0;32mif\u001b[0m \u001b[0mself\u001b[0m\u001b[0;34m.\u001b[0m\u001b[0m_experimental_compile\u001b[0m \u001b[0;32melse\u001b[0m \u001b[0;34m\"nonXla\"\u001b[0m\u001b[0;34m\u001b[0m\u001b[0;34m\u001b[0m\u001b[0m\n\u001b[1;32m    830\u001b[0m       \u001b[0mnew_tracing_count\u001b[0m \u001b[0;34m=\u001b[0m \u001b[0mself\u001b[0m\u001b[0;34m.\u001b[0m\u001b[0mexperimental_get_tracing_count\u001b[0m\u001b[0;34m(\u001b[0m\u001b[0;34m)\u001b[0m\u001b[0;34m\u001b[0m\u001b[0;34m\u001b[0m\u001b[0m\n",
            "\u001b[0;32m/usr/local/lib/python3.6/dist-packages/tensorflow/python/eager/def_function.py\u001b[0m in \u001b[0;36m_call\u001b[0;34m(self, *args, **kwds)\u001b[0m\n\u001b[1;32m    853\u001b[0m       \u001b[0;31m# In this case we have created variables on the first call, so we run the\u001b[0m\u001b[0;34m\u001b[0m\u001b[0;34m\u001b[0m\u001b[0;34m\u001b[0m\u001b[0m\n\u001b[1;32m    854\u001b[0m       \u001b[0;31m# defunned version which is guaranteed to never create variables.\u001b[0m\u001b[0;34m\u001b[0m\u001b[0;34m\u001b[0m\u001b[0;34m\u001b[0m\u001b[0m\n\u001b[0;32m--> 855\u001b[0;31m       \u001b[0;32mreturn\u001b[0m \u001b[0mself\u001b[0m\u001b[0;34m.\u001b[0m\u001b[0m_stateless_fn\u001b[0m\u001b[0;34m(\u001b[0m\u001b[0;34m*\u001b[0m\u001b[0margs\u001b[0m\u001b[0;34m,\u001b[0m \u001b[0;34m**\u001b[0m\u001b[0mkwds\u001b[0m\u001b[0;34m)\u001b[0m  \u001b[0;31m# pylint: disable=not-callable\u001b[0m\u001b[0;34m\u001b[0m\u001b[0;34m\u001b[0m\u001b[0m\n\u001b[0m\u001b[1;32m    856\u001b[0m     \u001b[0;32melif\u001b[0m \u001b[0mself\u001b[0m\u001b[0;34m.\u001b[0m\u001b[0m_stateful_fn\u001b[0m \u001b[0;32mis\u001b[0m \u001b[0;32mnot\u001b[0m \u001b[0;32mNone\u001b[0m\u001b[0;34m:\u001b[0m\u001b[0;34m\u001b[0m\u001b[0;34m\u001b[0m\u001b[0m\n\u001b[1;32m    857\u001b[0m       \u001b[0;31m# Release the lock early so that multiple threads can perform the call\u001b[0m\u001b[0;34m\u001b[0m\u001b[0;34m\u001b[0m\u001b[0;34m\u001b[0m\u001b[0m\n",
            "\u001b[0;32m/usr/local/lib/python3.6/dist-packages/tensorflow/python/eager/function.py\u001b[0m in \u001b[0;36m__call__\u001b[0;34m(self, *args, **kwargs)\u001b[0m\n\u001b[1;32m   2941\u001b[0m        filtered_flat_args) = self._maybe_define_function(args, kwargs)\n\u001b[1;32m   2942\u001b[0m     return graph_function._call_flat(\n\u001b[0;32m-> 2943\u001b[0;31m         filtered_flat_args, captured_inputs=graph_function.captured_inputs)  # pylint: disable=protected-access\n\u001b[0m\u001b[1;32m   2944\u001b[0m \u001b[0;34m\u001b[0m\u001b[0m\n\u001b[1;32m   2945\u001b[0m   \u001b[0;34m@\u001b[0m\u001b[0mproperty\u001b[0m\u001b[0;34m\u001b[0m\u001b[0;34m\u001b[0m\u001b[0m\n",
            "\u001b[0;32m/usr/local/lib/python3.6/dist-packages/tensorflow/python/eager/function.py\u001b[0m in \u001b[0;36m_call_flat\u001b[0;34m(self, args, captured_inputs, cancellation_manager)\u001b[0m\n\u001b[1;32m   1917\u001b[0m       \u001b[0;31m# No tape is watching; skip to running the function.\u001b[0m\u001b[0;34m\u001b[0m\u001b[0;34m\u001b[0m\u001b[0;34m\u001b[0m\u001b[0m\n\u001b[1;32m   1918\u001b[0m       return self._build_call_outputs(self._inference_function.call(\n\u001b[0;32m-> 1919\u001b[0;31m           ctx, args, cancellation_manager=cancellation_manager))\n\u001b[0m\u001b[1;32m   1920\u001b[0m     forward_backward = self._select_forward_and_backward_functions(\n\u001b[1;32m   1921\u001b[0m         \u001b[0margs\u001b[0m\u001b[0;34m,\u001b[0m\u001b[0;34m\u001b[0m\u001b[0;34m\u001b[0m\u001b[0m\n",
            "\u001b[0;32m/usr/local/lib/python3.6/dist-packages/tensorflow/python/eager/function.py\u001b[0m in \u001b[0;36mcall\u001b[0;34m(self, ctx, args, cancellation_manager)\u001b[0m\n\u001b[1;32m    558\u001b[0m               \u001b[0minputs\u001b[0m\u001b[0;34m=\u001b[0m\u001b[0margs\u001b[0m\u001b[0;34m,\u001b[0m\u001b[0;34m\u001b[0m\u001b[0;34m\u001b[0m\u001b[0m\n\u001b[1;32m    559\u001b[0m               \u001b[0mattrs\u001b[0m\u001b[0;34m=\u001b[0m\u001b[0mattrs\u001b[0m\u001b[0;34m,\u001b[0m\u001b[0;34m\u001b[0m\u001b[0;34m\u001b[0m\u001b[0m\n\u001b[0;32m--> 560\u001b[0;31m               ctx=ctx)\n\u001b[0m\u001b[1;32m    561\u001b[0m         \u001b[0;32melse\u001b[0m\u001b[0;34m:\u001b[0m\u001b[0;34m\u001b[0m\u001b[0;34m\u001b[0m\u001b[0m\n\u001b[1;32m    562\u001b[0m           outputs = execute.execute_with_cancellation(\n",
            "\u001b[0;32m/usr/local/lib/python3.6/dist-packages/tensorflow/python/eager/execute.py\u001b[0m in \u001b[0;36mquick_execute\u001b[0;34m(op_name, num_outputs, inputs, attrs, ctx, name)\u001b[0m\n\u001b[1;32m     58\u001b[0m     \u001b[0mctx\u001b[0m\u001b[0;34m.\u001b[0m\u001b[0mensure_initialized\u001b[0m\u001b[0;34m(\u001b[0m\u001b[0;34m)\u001b[0m\u001b[0;34m\u001b[0m\u001b[0;34m\u001b[0m\u001b[0m\n\u001b[1;32m     59\u001b[0m     tensors = pywrap_tfe.TFE_Py_Execute(ctx._handle, device_name, op_name,\n\u001b[0;32m---> 60\u001b[0;31m                                         inputs, attrs, num_outputs)\n\u001b[0m\u001b[1;32m     61\u001b[0m   \u001b[0;32mexcept\u001b[0m \u001b[0mcore\u001b[0m\u001b[0;34m.\u001b[0m\u001b[0m_NotOkStatusException\u001b[0m \u001b[0;32mas\u001b[0m \u001b[0me\u001b[0m\u001b[0;34m:\u001b[0m\u001b[0;34m\u001b[0m\u001b[0;34m\u001b[0m\u001b[0m\n\u001b[1;32m     62\u001b[0m     \u001b[0;32mif\u001b[0m \u001b[0mname\u001b[0m \u001b[0;32mis\u001b[0m \u001b[0;32mnot\u001b[0m \u001b[0;32mNone\u001b[0m\u001b[0;34m:\u001b[0m\u001b[0;34m\u001b[0m\u001b[0;34m\u001b[0m\u001b[0m\n",
            "\u001b[0;31mKeyboardInterrupt\u001b[0m: "
          ]
        }
      ]
    },
    {
      "cell_type": "code",
      "metadata": {
        "id": "DJhpFjkbs_Gb"
      },
      "source": [
        ""
      ],
      "execution_count": null,
      "outputs": []
    },
    {
      "cell_type": "markdown",
      "metadata": {
        "id": "h0FdC86D5VNr"
      },
      "source": [
        "Model10: Reduce the learning rate by using callback & use it"
      ]
    },
    {
      "cell_type": "code",
      "metadata": {
        "id": "z3nhkYES6QGN"
      },
      "source": [
        "import math\r\n",
        "def dec_lr(epoch):\r\n",
        "  initial_lr =0.01\r\n",
        "  drop = 0.5\r\n",
        "  epoch_drop = 3\r\n",
        "  lr_rate = initial_lr*drop# if overfitting is high at later stage\r\n",
        "  #lr_rate = inital_lr * math.pow(drop, math.floor(1+epoch)/epoch_drop) #exponential if overfitting is high at the start itself.\r\n",
        "  return lr_rate"
      ],
      "execution_count": null,
      "outputs": []
    },
    {
      "cell_type": "code",
      "metadata": {
        "id": "_Opk8eaO5ZdD"
      },
      "source": [
        "lrs = tf.keras.callbacks.LearningRateScheduler(dec_lr) #use in call backs of model.fit"
      ],
      "execution_count": null,
      "outputs": []
    },
    {
      "cell_type": "code",
      "metadata": {
        "id": "DyGC3bqb7EDU"
      },
      "source": [
        "vggmodel = tf.keras.applications.vgg16.VGG16(include_top=False, input_shape=(224,224,3))"
      ],
      "execution_count": null,
      "outputs": []
    },
    {
      "cell_type": "code",
      "metadata": {
        "colab": {
          "base_uri": "https://localhost:8080/"
        },
        "id": "nZrsCZTi9Hez",
        "outputId": "9f93ecc1-68ec-45e6-ac4d-61b3a364b2a1"
      },
      "source": [
        "for layer in vggmodel.layers:\r\n",
        "  print(layer.name, layer.trainable)"
      ],
      "execution_count": null,
      "outputs": [
        {
          "output_type": "stream",
          "text": [
            "input_3 True\n",
            "block1_conv1 True\n",
            "block1_conv2 True\n",
            "block1_pool True\n",
            "block2_conv1 True\n",
            "block2_conv2 True\n",
            "block2_pool True\n",
            "block3_conv1 True\n",
            "block3_conv2 True\n",
            "block3_conv3 True\n",
            "block3_pool True\n",
            "block4_conv1 True\n",
            "block4_conv2 True\n",
            "block4_conv3 True\n",
            "block4_pool True\n",
            "block5_conv1 True\n",
            "block5_conv2 True\n",
            "block5_conv3 True\n",
            "block5_pool True\n"
          ],
          "name": "stdout"
        }
      ]
    },
    {
      "cell_type": "code",
      "metadata": {
        "id": "M1MCeYJK9Kmq"
      },
      "source": [
        "for layer in vggmodel.layers:\r\n",
        "  layer.trainable=False"
      ],
      "execution_count": null,
      "outputs": []
    },
    {
      "cell_type": "code",
      "metadata": {
        "id": "i8Jv1IvN9N84"
      },
      "source": [
        "for layer in vggmodel.layers:\r\n",
        "  if 'block5' in layer.name:\r\n",
        "    layer.trainable = True"
      ],
      "execution_count": null,
      "outputs": []
    },
    {
      "cell_type": "code",
      "metadata": {
        "colab": {
          "base_uri": "https://localhost:8080/"
        },
        "id": "ncCamoBf9QXO",
        "outputId": "0e802f69-a1ee-4f85-e9ac-72aeaed639bf"
      },
      "source": [
        "for layer in vggmodel.layers:\r\n",
        "  print(layer.name, layer.trainable)"
      ],
      "execution_count": null,
      "outputs": [
        {
          "output_type": "stream",
          "text": [
            "input_3 False\n",
            "block1_conv1 False\n",
            "block1_conv2 False\n",
            "block1_pool False\n",
            "block2_conv1 False\n",
            "block2_conv2 False\n",
            "block2_pool False\n",
            "block3_conv1 False\n",
            "block3_conv2 False\n",
            "block3_conv3 False\n",
            "block3_pool False\n",
            "block4_conv1 False\n",
            "block4_conv2 False\n",
            "block4_conv3 False\n",
            "block4_pool False\n",
            "block5_conv1 True\n",
            "block5_conv2 True\n",
            "block5_conv3 True\n",
            "block5_pool True\n"
          ],
          "name": "stdout"
        }
      ]
    },
    {
      "cell_type": "code",
      "metadata": {
        "id": "WxCmriEE9WDN"
      },
      "source": [
        "vgg_output = vggmodel.output\r\n",
        "flatten_output = tf.keras.layers.Flatten()(vgg_output)\r\n",
        "dense1 = tf.keras.layers.Dense(256, activation=tf.keras.activations.relu)(flatten_output)\r\n",
        "norm1 = tf.keras.layers.BatchNormalization()(dense1)\r\n",
        "drop1 = tf.keras.layers.Dropout(0.5)(norm1)\r\n",
        "dense_output = tf.keras.layers.Dense(120, activation='softmax')(drop1)"
      ],
      "execution_count": null,
      "outputs": []
    },
    {
      "cell_type": "code",
      "metadata": {
        "id": "7U9DNT7l9dCq"
      },
      "source": [
        "del final_model\r\n",
        "final_model = tf.keras.models.Model(inputs = [vggmodel.input],\r\n",
        "                                    outputs =[dense_output])"
      ],
      "execution_count": null,
      "outputs": []
    },
    {
      "cell_type": "code",
      "metadata": {
        "colab": {
          "base_uri": "https://localhost:8080/"
        },
        "id": "lBpghYyl9hti",
        "outputId": "32f54f93-2323-4505-f52b-7aea00487536"
      },
      "source": [
        "final_model.summary()"
      ],
      "execution_count": null,
      "outputs": [
        {
          "output_type": "stream",
          "text": [
            "Model: \"model_2\"\n",
            "_________________________________________________________________\n",
            "Layer (type)                 Output Shape              Param #   \n",
            "=================================================================\n",
            "input_3 (InputLayer)         [(None, 224, 224, 3)]     0         \n",
            "_________________________________________________________________\n",
            "block1_conv1 (Conv2D)        (None, 224, 224, 64)      1792      \n",
            "_________________________________________________________________\n",
            "block1_conv2 (Conv2D)        (None, 224, 224, 64)      36928     \n",
            "_________________________________________________________________\n",
            "block1_pool (MaxPooling2D)   (None, 112, 112, 64)      0         \n",
            "_________________________________________________________________\n",
            "block2_conv1 (Conv2D)        (None, 112, 112, 128)     73856     \n",
            "_________________________________________________________________\n",
            "block2_conv2 (Conv2D)        (None, 112, 112, 128)     147584    \n",
            "_________________________________________________________________\n",
            "block2_pool (MaxPooling2D)   (None, 56, 56, 128)       0         \n",
            "_________________________________________________________________\n",
            "block3_conv1 (Conv2D)        (None, 56, 56, 256)       295168    \n",
            "_________________________________________________________________\n",
            "block3_conv2 (Conv2D)        (None, 56, 56, 256)       590080    \n",
            "_________________________________________________________________\n",
            "block3_conv3 (Conv2D)        (None, 56, 56, 256)       590080    \n",
            "_________________________________________________________________\n",
            "block3_pool (MaxPooling2D)   (None, 28, 28, 256)       0         \n",
            "_________________________________________________________________\n",
            "block4_conv1 (Conv2D)        (None, 28, 28, 512)       1180160   \n",
            "_________________________________________________________________\n",
            "block4_conv2 (Conv2D)        (None, 28, 28, 512)       2359808   \n",
            "_________________________________________________________________\n",
            "block4_conv3 (Conv2D)        (None, 28, 28, 512)       2359808   \n",
            "_________________________________________________________________\n",
            "block4_pool (MaxPooling2D)   (None, 14, 14, 512)       0         \n",
            "_________________________________________________________________\n",
            "block5_conv1 (Conv2D)        (None, 14, 14, 512)       2359808   \n",
            "_________________________________________________________________\n",
            "block5_conv2 (Conv2D)        (None, 14, 14, 512)       2359808   \n",
            "_________________________________________________________________\n",
            "block5_conv3 (Conv2D)        (None, 14, 14, 512)       2359808   \n",
            "_________________________________________________________________\n",
            "block5_pool (MaxPooling2D)   (None, 7, 7, 512)         0         \n",
            "_________________________________________________________________\n",
            "flatten_2 (Flatten)          (None, 25088)             0         \n",
            "_________________________________________________________________\n",
            "dense_4 (Dense)              (None, 256)               6422784   \n",
            "_________________________________________________________________\n",
            "batch_normalization_2 (Batch (None, 256)               1024      \n",
            "_________________________________________________________________\n",
            "dropout_2 (Dropout)          (None, 256)               0         \n",
            "_________________________________________________________________\n",
            "dense_5 (Dense)              (None, 120)               30840     \n",
            "=================================================================\n",
            "Total params: 21,169,336\n",
            "Trainable params: 13,533,560\n",
            "Non-trainable params: 7,635,776\n",
            "_________________________________________________________________\n"
          ],
          "name": "stdout"
        }
      ]
    },
    {
      "cell_type": "code",
      "metadata": {
        "id": "jVf5ie58-UgM"
      },
      "source": [
        "final_model.compile(optimizer=tf.keras.optimizers.SGD(),\r\n",
        "                    loss = tf.keras.losses.categorical_crossentropy,\r\n",
        "                    metrics = ['acc'])"
      ],
      "execution_count": null,
      "outputs": []
    },
    {
      "cell_type": "code",
      "metadata": {
        "colab": {
          "base_uri": "https://localhost:8080/"
        },
        "id": "uv3dgJ2R-bCn",
        "outputId": "caa297ba-47af-4571-e999-13f5e77fb4e5"
      },
      "source": [
        "final_model_hist = final_model.fit(train_idg,epochs=20,validation_data = val_idg,callbacks=[lrs] )"
      ],
      "execution_count": null,
      "outputs": [
        {
          "output_type": "stream",
          "text": [
            "Epoch 1/20\n",
            "64/64 [==============================] - 138s 2s/step - loss: 2.3575 - acc: 0.4085 - val_loss: 2.1623 - val_acc: 0.4633\n",
            "Epoch 2/20\n",
            "64/64 [==============================] - 138s 2s/step - loss: 2.1680 - acc: 0.4549 - val_loss: 2.1051 - val_acc: 0.4892\n",
            "Epoch 3/20\n",
            "64/64 [==============================] - 138s 2s/step - loss: 1.9896 - acc: 0.4946 - val_loss: 2.0005 - val_acc: 0.5137\n",
            "Epoch 4/20\n",
            "64/64 [==============================] - 138s 2s/step - loss: 1.8647 - acc: 0.5290 - val_loss: 1.9137 - val_acc: 0.5386\n",
            "Epoch 5/20\n",
            "64/64 [==============================] - 138s 2s/step - loss: 1.7476 - acc: 0.5573 - val_loss: 1.8531 - val_acc: 0.5313\n",
            "Epoch 6/20\n",
            "64/64 [==============================] - 139s 2s/step - loss: 1.6586 - acc: 0.5750 - val_loss: 1.7814 - val_acc: 0.5528\n",
            "Epoch 7/20\n",
            "64/64 [==============================] - 138s 2s/step - loss: 1.5615 - acc: 0.6030 - val_loss: 1.7522 - val_acc: 0.5514\n",
            "Epoch 8/20\n",
            "64/64 [==============================] - 137s 2s/step - loss: 1.4678 - acc: 0.6245 - val_loss: 1.7337 - val_acc: 0.5519\n",
            "Epoch 9/20\n",
            "64/64 [==============================] - 138s 2s/step - loss: 1.4048 - acc: 0.6437 - val_loss: 1.6842 - val_acc: 0.5651\n",
            "Epoch 10/20\n",
            "64/64 [==============================] - 140s 2s/step - loss: 1.3421 - acc: 0.6575 - val_loss: 1.6966 - val_acc: 0.5641\n",
            "Epoch 11/20\n",
            "64/64 [==============================] - 141s 2s/step - loss: 1.2684 - acc: 0.6757 - val_loss: 1.7018 - val_acc: 0.5607\n",
            "Epoch 12/20\n",
            "64/64 [==============================] - 142s 2s/step - loss: 1.2118 - acc: 0.6911 - val_loss: 1.6040 - val_acc: 0.5846\n",
            "Epoch 13/20\n",
            "64/64 [==============================] - 142s 2s/step - loss: 1.1957 - acc: 0.6953 - val_loss: 1.5680 - val_acc: 0.5861\n",
            "Epoch 14/20\n",
            "64/64 [==============================] - 142s 2s/step - loss: 1.0982 - acc: 0.7245 - val_loss: 1.5783 - val_acc: 0.5905\n",
            "Epoch 15/20\n",
            "64/64 [==============================] - 143s 2s/step - loss: 1.0624 - acc: 0.7331 - val_loss: 1.5126 - val_acc: 0.5886\n",
            "Epoch 16/20\n",
            "64/64 [==============================] - 143s 2s/step - loss: 1.0125 - acc: 0.7453 - val_loss: 1.5253 - val_acc: 0.5983\n",
            "Epoch 17/20\n",
            "64/64 [==============================] - 143s 2s/step - loss: 0.9692 - acc: 0.7558 - val_loss: 1.5145 - val_acc: 0.5900\n",
            "Epoch 18/20\n",
            "64/64 [==============================] - 143s 2s/step - loss: 0.9331 - acc: 0.7657 - val_loss: 1.5293 - val_acc: 0.6018\n",
            "Epoch 19/20\n",
            "64/64 [==============================] - 143s 2s/step - loss: 0.9062 - acc: 0.7738 - val_loss: 1.4764 - val_acc: 0.5983\n",
            "Epoch 20/20\n",
            "64/64 [==============================] - 142s 2s/step - loss: 0.8498 - acc: 0.7953 - val_loss: 1.5099 - val_acc: 0.5939\n"
          ],
          "name": "stdout"
        }
      ]
    },
    {
      "cell_type": "code",
      "metadata": {
        "id": "66mJLYkn-eRU"
      },
      "source": [
        ""
      ],
      "execution_count": null,
      "outputs": []
    },
    {
      "cell_type": "markdown",
      "metadata": {
        "id": "O9IJh1byLnWS"
      },
      "source": [
        "Model11: Exponential"
      ]
    },
    {
      "cell_type": "code",
      "metadata": {
        "id": "CvgsYAxLLqYZ"
      },
      "source": [
        "import math\r\n",
        "def dec_lr(epoch):\r\n",
        "  initial_lr =0.01\r\n",
        "  drop = 0.5\r\n",
        "  epoch_drop = 3\r\n",
        "  #lr_rate = initial_lr*drop# if overfitting is high at later stage\r\n",
        "  lr_rate = initial_lr * math.pow(drop, math.floor(1+epoch)/epoch_drop) #exponential if overfitting is high at the start itself.\r\n",
        "  return lr_rate"
      ],
      "execution_count": null,
      "outputs": []
    },
    {
      "cell_type": "code",
      "metadata": {
        "id": "BuQNU19JLtWP"
      },
      "source": [
        "lrs = tf.keras.callbacks.LearningRateScheduler(dec_lr) #use in call backs of model.fit"
      ],
      "execution_count": null,
      "outputs": []
    },
    {
      "cell_type": "code",
      "metadata": {
        "colab": {
          "base_uri": "https://localhost:8080/"
        },
        "id": "SNdaSF6NL2kO",
        "outputId": "4eb76d6c-4e38-485d-fc19-ec3452ab782b"
      },
      "source": [
        "final_model_hist = final_model.fit(train_idg,epochs=20,validation_data = val_idg,callbacks=[lrs] )"
      ],
      "execution_count": null,
      "outputs": [
        {
          "output_type": "stream",
          "text": [
            "Epoch 1/20\n",
            "64/64 [==============================] - 143s 2s/step - loss: 0.7373 - acc: 0.8226 - val_loss: 1.4714 - val_acc: 0.5930\n",
            "Epoch 2/20\n",
            "64/64 [==============================] - 140s 2s/step - loss: 0.6774 - acc: 0.8399 - val_loss: 1.4969 - val_acc: 0.5993\n",
            "Epoch 3/20\n",
            "64/64 [==============================] - 140s 2s/step - loss: 0.6495 - acc: 0.8487 - val_loss: 1.4360 - val_acc: 0.6130\n",
            "Epoch 4/20\n",
            "64/64 [==============================] - 140s 2s/step - loss: 0.6175 - acc: 0.8531 - val_loss: 1.4590 - val_acc: 0.6023\n",
            "Epoch 5/20\n",
            "64/64 [==============================] - 140s 2s/step - loss: 0.5855 - acc: 0.8678 - val_loss: 1.4324 - val_acc: 0.6189\n",
            "Epoch 6/20\n",
            "64/64 [==============================] - 140s 2s/step - loss: 0.5691 - acc: 0.8717 - val_loss: 1.4103 - val_acc: 0.6140\n",
            "Epoch 7/20\n",
            "64/64 [==============================] - 140s 2s/step - loss: 0.5651 - acc: 0.8754 - val_loss: 1.4235 - val_acc: 0.6199\n",
            "Epoch 8/20\n",
            "64/64 [==============================] - 139s 2s/step - loss: 0.5261 - acc: 0.8814 - val_loss: 1.4022 - val_acc: 0.6155\n",
            "Epoch 9/20\n",
            "64/64 [==============================] - 140s 2s/step - loss: 0.5289 - acc: 0.8821 - val_loss: 1.4066 - val_acc: 0.6032\n",
            "Epoch 10/20\n",
            "64/64 [==============================] - 138s 2s/step - loss: 0.5052 - acc: 0.8875 - val_loss: 1.3985 - val_acc: 0.6184\n",
            "Epoch 11/20\n",
            "64/64 [==============================] - 138s 2s/step - loss: 0.5097 - acc: 0.8881 - val_loss: 1.4148 - val_acc: 0.6194\n",
            "Epoch 12/20\n",
            "64/64 [==============================] - 138s 2s/step - loss: 0.5002 - acc: 0.8882 - val_loss: 1.4354 - val_acc: 0.6101\n",
            "Epoch 13/20\n",
            "64/64 [==============================] - 138s 2s/step - loss: 0.5102 - acc: 0.8867 - val_loss: 1.4265 - val_acc: 0.6125\n",
            "Epoch 14/20\n",
            "64/64 [==============================] - 138s 2s/step - loss: 0.4920 - acc: 0.8938 - val_loss: 1.4084 - val_acc: 0.6233\n",
            "Epoch 15/20\n",
            "64/64 [==============================] - 140s 2s/step - loss: 0.4791 - acc: 0.9031 - val_loss: 1.4226 - val_acc: 0.6159\n",
            "Epoch 16/20\n",
            "64/64 [==============================] - 139s 2s/step - loss: 0.4992 - acc: 0.8965 - val_loss: 1.4086 - val_acc: 0.6189\n",
            "Epoch 17/20\n",
            "64/64 [==============================] - 140s 2s/step - loss: 0.4943 - acc: 0.8933 - val_loss: 1.4137 - val_acc: 0.6086\n",
            "Epoch 18/20\n",
            "64/64 [==============================] - 139s 2s/step - loss: 0.4929 - acc: 0.8939 - val_loss: 1.4040 - val_acc: 0.6140\n",
            "Epoch 19/20\n",
            "64/64 [==============================] - 139s 2s/step - loss: 0.4885 - acc: 0.8972 - val_loss: 1.4087 - val_acc: 0.6189\n",
            "Epoch 20/20\n",
            "64/64 [==============================] - 139s 2s/step - loss: 0.4795 - acc: 0.8946 - val_loss: 1.3889 - val_acc: 0.6189\n"
          ],
          "name": "stdout"
        }
      ]
    },
    {
      "cell_type": "code",
      "metadata": {
        "id": "fnGg4kzbMAI0"
      },
      "source": [
        ""
      ],
      "execution_count": null,
      "outputs": []
    },
    {
      "cell_type": "markdown",
      "metadata": {
        "id": "b_hjMYQikGbB"
      },
      "source": [
        "Model12 : VGG, exponential drop in learning rate + 2 dense layers of mine"
      ]
    },
    {
      "cell_type": "code",
      "metadata": {
        "id": "tbMg4PSFkHUE"
      },
      "source": [
        "\r\n",
        "import math\r\n",
        "def dec_lr(epoch):\r\n",
        "  initial_lr =0.01\r\n",
        "  drop = 0.5\r\n",
        "  epoch_drop = 3\r\n",
        "  #lr_rate = initial_lr*drop# if overfitting is high at later stage\r\n",
        "  lr_rate = initial_lr * math.pow(drop, math.floor(1+epoch)/epoch_drop) #exponential if overfitting is high at the start itself.\r\n",
        "  return lr_rate\r\n"
      ],
      "execution_count": 21,
      "outputs": []
    },
    {
      "cell_type": "code",
      "metadata": {
        "id": "PTHV97htkkW8"
      },
      "source": [
        "lrs = tf.keras.callbacks.LearningRateScheduler(dec_lr)"
      ],
      "execution_count": 22,
      "outputs": []
    },
    {
      "cell_type": "code",
      "metadata": {
        "id": "4wTAru11kmNH"
      },
      "source": [
        "#del final_model\r\n",
        "#Create functional model\r\n",
        "vggoutput = vggmodel.layers[-3].output #Take the output of vggmodel but leave the last 3.\r\n",
        "#Normalize the output of the vggmodel\r\n",
        "norm1 = tf.keras.layers.BatchNormalization(trainable=False) (vggoutput) #Always make trainable False for batch\r\n",
        "#Dropout some of the neurons randomly with each epoch. This will help reduce the overfitting\r\n",
        "drop1 = tf.keras.layers.Dropout(0.5)(norm1)\r\n",
        "dense2 = tf.keras.layers.Dense(64, activation='relu')(drop1)\r\n",
        "norm2 = tf.keras.layers.BatchNormalization()(dense2)\r\n",
        "drop2 = tf.keras.layers.Dropout(0.5)(norm2)\r\n",
        "dense3 = tf.keras.layers.Dense(32, activation='relu')(drop2)\r\n",
        "norm3 = tf.keras.layers.BatchNormalization()(dense3)\r\n",
        "drop3 = tf.keras.layers.Dropout(0.3)(norm3)\r\n",
        "dense_output = tf.keras.layers.Dense(120,activation='softmax')(drop3)"
      ],
      "execution_count": 24,
      "outputs": []
    },
    {
      "cell_type": "code",
      "metadata": {
        "id": "jXVSL002kyKs"
      },
      "source": [
        "final_model = tf.keras.models.Model(inputs=[vggmodel.input], outputs = [dense_output])"
      ],
      "execution_count": 25,
      "outputs": []
    },
    {
      "cell_type": "code",
      "metadata": {
        "id": "GixrWOTUk3eP"
      },
      "source": [
        "final_model.compile(optimizer=tf.keras.optimizers.SGD(),\r\n",
        "                    loss = tf.keras.losses.categorical_crossentropy,\r\n",
        "                    metrics = ['acc'])"
      ],
      "execution_count": 27,
      "outputs": []
    },
    {
      "cell_type": "code",
      "metadata": {
        "colab": {
          "base_uri": "https://localhost:8080/"
        },
        "id": "GYe6uq3Bk53x",
        "outputId": "67c70635-7336-4714-ba67-449664d9574e"
      },
      "source": [
        "final_model_hist = final_model.fit(train_idg,epochs=40,validation_data = val_idg,callbacks=[lrs] )"
      ],
      "execution_count": null,
      "outputs": [
        {
          "output_type": "stream",
          "text": [
            "Epoch 1/40\n",
            "64/64 [==============================] - 152s 2s/step - loss: 5.0492 - acc: 0.0080 - val_loss: 4.7538 - val_acc: 0.0240\n",
            "Epoch 2/40\n",
            "64/64 [==============================] - 134s 2s/step - loss: 4.9564 - acc: 0.0117 - val_loss: 4.6475 - val_acc: 0.0401\n",
            "Epoch 3/40\n",
            "64/64 [==============================] - 133s 2s/step - loss: 4.8557 - acc: 0.0157 - val_loss: 4.5972 - val_acc: 0.0484\n",
            "Epoch 4/40\n",
            "64/64 [==============================] - 134s 2s/step - loss: 4.8103 - acc: 0.0234 - val_loss: 4.5650 - val_acc: 0.0543\n",
            "Epoch 5/40\n",
            "64/64 [==============================] - 133s 2s/step - loss: 4.7815 - acc: 0.0215 - val_loss: 4.5380 - val_acc: 0.0631\n",
            "Epoch 6/40\n",
            "64/64 [==============================] - 134s 2s/step - loss: 4.7568 - acc: 0.0208 - val_loss: 4.5237 - val_acc: 0.0709\n",
            "Epoch 7/40\n",
            "64/64 [==============================] - 133s 2s/step - loss: 4.7393 - acc: 0.0272 - val_loss: 4.5070 - val_acc: 0.0734\n",
            "Epoch 8/40\n",
            "64/64 [==============================] - 133s 2s/step - loss: 4.6991 - acc: 0.0248 - val_loss: 4.5022 - val_acc: 0.0744\n",
            "Epoch 9/40\n",
            "64/64 [==============================] - 133s 2s/step - loss: 4.6933 - acc: 0.0279 - val_loss: 4.4898 - val_acc: 0.0807\n",
            "Epoch 10/40\n",
            "64/64 [==============================] - 133s 2s/step - loss: 4.6816 - acc: 0.0258 - val_loss: 4.4868 - val_acc: 0.0793\n",
            "Epoch 11/40\n",
            "64/64 [==============================] - 134s 2s/step - loss: 4.6741 - acc: 0.0306 - val_loss: 4.4821 - val_acc: 0.0827\n",
            "Epoch 12/40\n",
            "64/64 [==============================] - 134s 2s/step - loss: 4.6717 - acc: 0.0305 - val_loss: 4.4718 - val_acc: 0.0827\n",
            "Epoch 13/40\n",
            "64/64 [==============================] - 134s 2s/step - loss: 4.6810 - acc: 0.0290 - val_loss: 4.4708 - val_acc: 0.0930\n",
            "Epoch 14/40\n",
            "64/64 [==============================] - 134s 2s/step - loss: 4.6750 - acc: 0.0285 - val_loss: 4.4734 - val_acc: 0.0817\n",
            "Epoch 15/40\n",
            "64/64 [==============================] - 135s 2s/step - loss: 4.6752 - acc: 0.0287 - val_loss: 4.4717 - val_acc: 0.0812\n",
            "Epoch 16/40\n",
            "64/64 [==============================] - 136s 2s/step - loss: 4.6713 - acc: 0.0294 - val_loss: 4.4605 - val_acc: 0.0817\n",
            "Epoch 17/40\n",
            "64/64 [==============================] - 136s 2s/step - loss: 4.6470 - acc: 0.0284 - val_loss: 4.4762 - val_acc: 0.0812\n",
            "Epoch 18/40\n",
            "64/64 [==============================] - 136s 2s/step - loss: 4.6820 - acc: 0.0279 - val_loss: 4.4644 - val_acc: 0.0925\n",
            "Epoch 19/40\n",
            "64/64 [==============================] - 136s 2s/step - loss: 4.6758 - acc: 0.0286 - val_loss: 4.4600 - val_acc: 0.0978\n",
            "Epoch 20/40\n",
            "64/64 [==============================] - 136s 2s/step - loss: 4.6498 - acc: 0.0270 - val_loss: 4.4594 - val_acc: 0.0890\n",
            "Epoch 21/40\n",
            "64/64 [==============================] - 136s 2s/step - loss: 4.6601 - acc: 0.0275 - val_loss: 4.4551 - val_acc: 0.0866\n",
            "Epoch 22/40\n",
            "64/64 [==============================] - 136s 2s/step - loss: 4.6540 - acc: 0.0311 - val_loss: 4.4612 - val_acc: 0.0910\n",
            "Epoch 23/40\n",
            "64/64 [==============================] - 136s 2s/step - loss: 4.6689 - acc: 0.0280 - val_loss: 4.4617 - val_acc: 0.0886\n",
            "Epoch 24/40\n",
            "64/64 [==============================] - 136s 2s/step - loss: 4.6592 - acc: 0.0264 - val_loss: 4.4548 - val_acc: 0.0949\n",
            "Epoch 25/40\n",
            "64/64 [==============================] - 136s 2s/step - loss: 4.6368 - acc: 0.0292 - val_loss: 4.4592 - val_acc: 0.0895\n",
            "Epoch 26/40\n",
            "64/64 [==============================] - 136s 2s/step - loss: 4.6528 - acc: 0.0305 - val_loss: 4.4612 - val_acc: 0.0925\n",
            "Epoch 27/40\n",
            "64/64 [==============================] - 136s 2s/step - loss: 4.6632 - acc: 0.0301 - val_loss: 4.4579 - val_acc: 0.0890\n",
            "Epoch 28/40\n",
            "64/64 [==============================] - 135s 2s/step - loss: 4.6717 - acc: 0.0247 - val_loss: 4.4630 - val_acc: 0.0886\n",
            "Epoch 29/40\n",
            "64/64 [==============================] - 135s 2s/step - loss: 4.6645 - acc: 0.0302 - val_loss: 4.4547 - val_acc: 0.0905\n",
            "Epoch 30/40\n",
            "64/64 [==============================] - 136s 2s/step - loss: 4.6490 - acc: 0.0325 - val_loss: 4.4587 - val_acc: 0.0856\n",
            "Epoch 31/40\n",
            "64/64 [==============================] - 135s 2s/step - loss: 4.6412 - acc: 0.0376 - val_loss: 4.4639 - val_acc: 0.0837\n",
            "Epoch 32/40\n",
            "30/64 [=============>................] - ETA: 56s - loss: 4.6687 - acc: 0.0293"
          ],
          "name": "stdout"
        }
      ]
    },
    {
      "cell_type": "code",
      "metadata": {
        "id": "sjdzfmVLlDLD"
      },
      "source": [
        ""
      ],
      "execution_count": null,
      "outputs": []
    }
  ]
}