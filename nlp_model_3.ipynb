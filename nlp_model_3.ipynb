{
  "nbformat": 4,
  "nbformat_minor": 0,
  "metadata": {
    "colab": {
      "name": "nlp model 3.ipynb",
      "provenance": [],
      "authorship_tag": "ABX9TyNA5SX0e2/2B5quL52aXpJL",
      "include_colab_link": true
    },
    "kernelspec": {
      "name": "python3",
      "display_name": "Python 3"
    }
  },
  "cells": [
    {
      "cell_type": "markdown",
      "metadata": {
        "id": "view-in-github",
        "colab_type": "text"
      },
      "source": [
        "<a href=\"https://colab.research.google.com/github/satyambhatt5/Natural-language-Processing-/blob/main/nlp_model_3.ipynb\" target=\"_parent\"><img src=\"https://colab.research.google.com/assets/colab-badge.svg\" alt=\"Open In Colab\"/></a>"
      ]
    },
    {
      "cell_type": "code",
      "metadata": {
        "id": "VOQAALlyq6_Z",
        "colab": {
          "base_uri": "https://localhost:8080/"
        },
        "outputId": "4bb06ce1-df70-4736-a6ce-31ca70e25b57"
      },
      "source": [
        "#Syntax tree \n",
        "\n",
        "\n",
        "import nltk\n",
        "nltk.download()\n",
        "from nltk.tokenize import word_tokenize\n",
        "nltk.download('punkt')\n",
        "\n",
        "#chunking \n",
        "\n",
        "#chiking \n",
        "\n",
        "#context free  grammer \n",
        "\n",
        "#Automatic text  Parshing "
      ],
      "execution_count": null,
      "outputs": [
        {
          "output_type": "stream",
          "text": [
            "NLTK Downloader\n",
            "---------------------------------------------------------------------------\n",
            "    d) Download   l) List    u) Update   c) Config   h) Help   q) Quit\n",
            "---------------------------------------------------------------------------\n",
            "Downloader> l\n",
            "\n",
            "Packages:\n",
            "  [ ] abc................. Australian Broadcasting Commission 2006\n",
            "  [ ] alpino.............. Alpino Dutch Treebank\n",
            "  [ ] averaged_perceptron_tagger Averaged Perceptron Tagger\n",
            "  [ ] averaged_perceptron_tagger_ru Averaged Perceptron Tagger (Russian)\n",
            "  [ ] basque_grammars..... Grammars for Basque\n",
            "  [ ] biocreative_ppi..... BioCreAtIvE (Critical Assessment of Information\n",
            "                           Extraction Systems in Biology)\n",
            "  [ ] bllip_wsj_no_aux.... BLLIP Parser: WSJ Model\n",
            "  [ ] book_grammars....... Grammars from NLTK Book\n",
            "  [ ] brown............... Brown Corpus\n",
            "  [ ] brown_tei........... Brown Corpus (TEI XML Version)\n",
            "  [ ] cess_cat............ CESS-CAT Treebank\n",
            "  [ ] cess_esp............ CESS-ESP Treebank\n",
            "  [ ] chat80.............. Chat-80 Data Files\n",
            "  [ ] city_database....... City Database\n",
            "  [ ] cmudict............. The Carnegie Mellon Pronouncing Dictionary (0.6)\n",
            "  [ ] comparative_sentences Comparative Sentence Dataset\n",
            "  [ ] comtrans............ ComTrans Corpus Sample\n",
            "  [ ] conll2000........... CONLL 2000 Chunking Corpus\n",
            "  [ ] conll2002........... CONLL 2002 Named Entity Recognition Corpus\n",
            "Hit Enter to continue: l\n",
            "  [ ] conll2007........... Dependency Treebanks from CoNLL 2007 (Catalan\n",
            "                           and Basque Subset)\n",
            "  [ ] crubadan............ Crubadan Corpus\n",
            "  [ ] dependency_treebank. Dependency Parsed Treebank\n",
            "  [ ] dolch............... Dolch Word List\n",
            "  [ ] europarl_raw........ Sample European Parliament Proceedings Parallel\n",
            "                           Corpus\n",
            "  [ ] floresta............ Portuguese Treebank\n",
            "  [ ] framenet_v15........ FrameNet 1.5\n",
            "  [ ] framenet_v17........ FrameNet 1.7\n",
            "  [ ] gazetteers.......... Gazeteer Lists\n",
            "  [ ] genesis............. Genesis Corpus\n",
            "  [ ] gutenberg........... Project Gutenberg Selections\n",
            "  [ ] ieer................ NIST IE-ER DATA SAMPLE\n",
            "  [ ] inaugural........... C-Span Inaugural Address Corpus\n",
            "  [ ] indian.............. Indian Language POS-Tagged Corpus\n",
            "  [ ] jeita............... JEITA Public Morphologically Tagged Corpus (in\n",
            "                           ChaSen format)\n",
            "  [ ] kimmo............... PC-KIMMO Data Files\n",
            "  [ ] knbc................ KNB Corpus (Annotated blog corpus)\n",
            "  [ ] large_grammars...... Large context-free and feature-based grammars\n",
            "                           for parser comparison\n",
            "Hit Enter to continue: q\n",
            "\n",
            "---------------------------------------------------------------------------\n",
            "    d) Download   l) List    u) Update   c) Config   h) Help   q) Quit\n",
            "---------------------------------------------------------------------------\n",
            "Downloader> q\n",
            "[nltk_data] Downloading package punkt to /root/nltk_data...\n",
            "[nltk_data]   Unzipping tokenizers/punkt.zip.\n"
          ],
          "name": "stdout"
        },
        {
          "output_type": "execute_result",
          "data": {
            "text/plain": [
              "True"
            ]
          },
          "metadata": {
            "tags": []
          },
          "execution_count": 1
        }
      ]
    },
    {
      "cell_type": "code",
      "metadata": {
        "id": "v7L-lsCJrvWY"
      },
      "source": [
        "#chunking: it is used for the using the regularexpression  from the text \n",
        "\n",
        "\n",
        "sample=\"\"\"Vivo V15 was launched in India last week, and its pre-bookings have now begun. The smartphone is up for pre-booking via the company's own site right now, as well as Amazon and Flipkart. The smartphone will go on sale from April 1 via the same platforms, apart from Paytm Mall, Tata CliQ, as well as offline stores. The smartphone is the smaller, more affordable sibling of the Vivo V15 Pro that was launched in India in February, and shares a few highlight features - a pop-up selfie camera and a triple rear camera setup.\"\"\""
      ],
      "execution_count": null,
      "outputs": []
    },
    {
      "cell_type": "code",
      "metadata": {
        "id": "UlkMSB12srvC"
      },
      "source": [
        "tokenized_text= nltk.word_tokenize(sample)\n"
      ],
      "execution_count": null,
      "outputs": []
    },
    {
      "cell_type": "code",
      "metadata": {
        "id": "6MyV0Rz4tIGW",
        "colab": {
          "base_uri": "https://localhost:8080/"
        },
        "outputId": "4819c4e7-b566-46d0-ff8b-e4e8f0a7e536"
      },
      "source": [
        "print(tokenized_text)"
      ],
      "execution_count": null,
      "outputs": [
        {
          "output_type": "stream",
          "text": [
            "['Vivo', 'V15', 'was', 'launched', 'in', 'India', 'last', 'week', ',', 'and', 'its', 'pre-bookings', 'have', 'now', 'begun', '.', 'The', 'smartphone', 'is', 'up', 'for', 'pre-booking', 'via', 'the', 'company', \"'s\", 'own', 'site', 'right', 'now', ',', 'as', 'well', 'as', 'Amazon', 'and', 'Flipkart', '.', 'The', 'smartphone', 'will', 'go', 'on', 'sale', 'from', 'April', '1', 'via', 'the', 'same', 'platforms', ',', 'apart', 'from', 'Paytm', 'Mall', ',', 'Tata', 'CliQ', ',', 'as', 'well', 'as', 'offline', 'stores', '.', 'The', 'smartphone', 'is', 'the', 'smaller', ',', 'more', 'affordable', 'sibling', 'of', 'the', 'Vivo', 'V15', 'Pro', 'that', 'was', 'launched', 'in', 'India', 'in', 'February', ',', 'and', 'shares', 'a', 'few', 'highlight', 'features', '-', 'a', 'pop-up', 'selfie', 'camera', 'and', 'a', 'triple', 'rear', 'camera', 'setup', '.']\n"
          ],
          "name": "stdout"
        }
      ]
    },
    {
      "cell_type": "code",
      "metadata": {
        "id": "57N1HrIVuEzi",
        "colab": {
          "base_uri": "https://localhost:8080/"
        },
        "outputId": "d0e95621-3c87-4e23-e87a-34c2ec6cfb5f"
      },
      "source": [
        "#Part of the speech (POS tag)\n",
        "nltk.download('averaged_perceptron_tagger')\n",
        "post_text=nltk.pos_tag(tokenized_text)"
      ],
      "execution_count": null,
      "outputs": [
        {
          "output_type": "stream",
          "text": [
            "[nltk_data] Downloading package averaged_perceptron_tagger to\n",
            "[nltk_data]     /root/nltk_data...\n",
            "[nltk_data]   Unzipping taggers/averaged_perceptron_tagger.zip.\n"
          ],
          "name": "stdout"
        }
      ]
    },
    {
      "cell_type": "code",
      "metadata": {
        "id": "YH2Oj-RUu4l1",
        "colab": {
          "base_uri": "https://localhost:8080/"
        },
        "outputId": "01a91ab0-34ae-40ab-dbac-4b48a69f86d2"
      },
      "source": [
        "post_text"
      ],
      "execution_count": null,
      "outputs": [
        {
          "output_type": "execute_result",
          "data": {
            "text/plain": [
              "[('Vivo', 'NNP'),\n",
              " ('V15', 'NNP'),\n",
              " ('was', 'VBD'),\n",
              " ('launched', 'VBN'),\n",
              " ('in', 'IN'),\n",
              " ('India', 'NNP'),\n",
              " ('last', 'JJ'),\n",
              " ('week', 'NN'),\n",
              " (',', ','),\n",
              " ('and', 'CC'),\n",
              " ('its', 'PRP$'),\n",
              " ('pre-bookings', 'NNS'),\n",
              " ('have', 'VBP'),\n",
              " ('now', 'RB'),\n",
              " ('begun', 'VBN'),\n",
              " ('.', '.'),\n",
              " ('The', 'DT'),\n",
              " ('smartphone', 'NN'),\n",
              " ('is', 'VBZ'),\n",
              " ('up', 'RP'),\n",
              " ('for', 'IN'),\n",
              " ('pre-booking', 'JJ'),\n",
              " ('via', 'IN'),\n",
              " ('the', 'DT'),\n",
              " ('company', 'NN'),\n",
              " (\"'s\", 'POS'),\n",
              " ('own', 'JJ'),\n",
              " ('site', 'NN'),\n",
              " ('right', 'RB'),\n",
              " ('now', 'RB'),\n",
              " (',', ','),\n",
              " ('as', 'RB'),\n",
              " ('well', 'RB'),\n",
              " ('as', 'IN'),\n",
              " ('Amazon', 'NNP'),\n",
              " ('and', 'CC'),\n",
              " ('Flipkart', 'NNP'),\n",
              " ('.', '.'),\n",
              " ('The', 'DT'),\n",
              " ('smartphone', 'NN'),\n",
              " ('will', 'MD'),\n",
              " ('go', 'VB'),\n",
              " ('on', 'IN'),\n",
              " ('sale', 'NN'),\n",
              " ('from', 'IN'),\n",
              " ('April', 'NNP'),\n",
              " ('1', 'CD'),\n",
              " ('via', 'IN'),\n",
              " ('the', 'DT'),\n",
              " ('same', 'JJ'),\n",
              " ('platforms', 'NNS'),\n",
              " (',', ','),\n",
              " ('apart', 'RB'),\n",
              " ('from', 'IN'),\n",
              " ('Paytm', 'NNP'),\n",
              " ('Mall', 'NNP'),\n",
              " (',', ','),\n",
              " ('Tata', 'NNP'),\n",
              " ('CliQ', 'NNP'),\n",
              " (',', ','),\n",
              " ('as', 'RB'),\n",
              " ('well', 'RB'),\n",
              " ('as', 'IN'),\n",
              " ('offline', 'NN'),\n",
              " ('stores', 'NNS'),\n",
              " ('.', '.'),\n",
              " ('The', 'DT'),\n",
              " ('smartphone', 'NN'),\n",
              " ('is', 'VBZ'),\n",
              " ('the', 'DT'),\n",
              " ('smaller', 'JJR'),\n",
              " (',', ','),\n",
              " ('more', 'RBR'),\n",
              " ('affordable', 'JJ'),\n",
              " ('sibling', 'NN'),\n",
              " ('of', 'IN'),\n",
              " ('the', 'DT'),\n",
              " ('Vivo', 'NNP'),\n",
              " ('V15', 'NNP'),\n",
              " ('Pro', 'NNP'),\n",
              " ('that', 'WDT'),\n",
              " ('was', 'VBD'),\n",
              " ('launched', 'VBN'),\n",
              " ('in', 'IN'),\n",
              " ('India', 'NNP'),\n",
              " ('in', 'IN'),\n",
              " ('February', 'NNP'),\n",
              " (',', ','),\n",
              " ('and', 'CC'),\n",
              " ('shares', 'NNS'),\n",
              " ('a', 'DT'),\n",
              " ('few', 'JJ'),\n",
              " ('highlight', 'NN'),\n",
              " ('features', 'NNS'),\n",
              " ('-', ':'),\n",
              " ('a', 'DT'),\n",
              " ('pop-up', 'JJ'),\n",
              " ('selfie', 'NN'),\n",
              " ('camera', 'NN'),\n",
              " ('and', 'CC'),\n",
              " ('a', 'DT'),\n",
              " ('triple', 'JJ'),\n",
              " ('rear', 'JJ'),\n",
              " ('camera', 'NN'),\n",
              " ('setup', 'NN'),\n",
              " ('.', '.')]"
            ]
          },
          "metadata": {
            "tags": []
          },
          "execution_count": 6
        }
      ]
    },
    {
      "cell_type": "code",
      "metadata": {
        "id": "oV5A5XyV243m"
      },
      "source": [
        "grammer =r\"\"\"  \n",
        "NP:{<DT|PP\\$>?<jj>*<NN>}  \n",
        "   {<NNG>+}\"\"\"           #CHUNK dtermine the /possitive,adjective and noun \n",
        "   #chunk sequence the proper nouns"
      ],
      "execution_count": null,
      "outputs": []
    },
    {
      "cell_type": "code",
      "metadata": {
        "id": "DfIN5wqJ36e0"
      },
      "source": [
        "chunkParser=nltk.RegexpParser(grammer)"
      ],
      "execution_count": null,
      "outputs": []
    },
    {
      "cell_type": "code",
      "metadata": {
        "id": "pgoDLGWv41dk"
      },
      "source": [
        "tree=chunkParser.parse(post_text)"
      ],
      "execution_count": null,
      "outputs": []
    },
    {
      "cell_type": "code",
      "metadata": {
        "id": "-bodh6wY5AAX",
        "colab": {
          "base_uri": "https://localhost:8080/"
        },
        "outputId": "21391042-5ad6-4311-dd8d-290f53a127c1"
      },
      "source": [
        "print(tree)"
      ],
      "execution_count": null,
      "outputs": [
        {
          "output_type": "stream",
          "text": [
            "(S\n",
            "  Vivo/NNP\n",
            "  V15/NNP\n",
            "  was/VBD\n",
            "  launched/VBN\n",
            "  in/IN\n",
            "  India/NNP\n",
            "  last/JJ\n",
            "  (NP week/NN)\n",
            "  ,/,\n",
            "  and/CC\n",
            "  its/PRP$\n",
            "  pre-bookings/NNS\n",
            "  have/VBP\n",
            "  now/RB\n",
            "  begun/VBN\n",
            "  ./.\n",
            "  (NP The/DT smartphone/NN)\n",
            "  is/VBZ\n",
            "  up/RP\n",
            "  for/IN\n",
            "  pre-booking/JJ\n",
            "  via/IN\n",
            "  (NP the/DT company/NN)\n",
            "  's/POS\n",
            "  own/JJ\n",
            "  (NP site/NN)\n",
            "  right/RB\n",
            "  now/RB\n",
            "  ,/,\n",
            "  as/RB\n",
            "  well/RB\n",
            "  as/IN\n",
            "  Amazon/NNP\n",
            "  and/CC\n",
            "  Flipkart/NNP\n",
            "  ./.\n",
            "  (NP The/DT smartphone/NN)\n",
            "  will/MD\n",
            "  go/VB\n",
            "  on/IN\n",
            "  (NP sale/NN)\n",
            "  from/IN\n",
            "  April/NNP\n",
            "  1/CD\n",
            "  via/IN\n",
            "  the/DT\n",
            "  same/JJ\n",
            "  platforms/NNS\n",
            "  ,/,\n",
            "  apart/RB\n",
            "  from/IN\n",
            "  Paytm/NNP\n",
            "  Mall/NNP\n",
            "  ,/,\n",
            "  Tata/NNP\n",
            "  CliQ/NNP\n",
            "  ,/,\n",
            "  as/RB\n",
            "  well/RB\n",
            "  as/IN\n",
            "  (NP offline/NN)\n",
            "  stores/NNS\n",
            "  ./.\n",
            "  (NP The/DT smartphone/NN)\n",
            "  is/VBZ\n",
            "  the/DT\n",
            "  smaller/JJR\n",
            "  ,/,\n",
            "  more/RBR\n",
            "  affordable/JJ\n",
            "  (NP sibling/NN)\n",
            "  of/IN\n",
            "  the/DT\n",
            "  Vivo/NNP\n",
            "  V15/NNP\n",
            "  Pro/NNP\n",
            "  that/WDT\n",
            "  was/VBD\n",
            "  launched/VBN\n",
            "  in/IN\n",
            "  India/NNP\n",
            "  in/IN\n",
            "  February/NNP\n",
            "  ,/,\n",
            "  and/CC\n",
            "  shares/NNS\n",
            "  a/DT\n",
            "  few/JJ\n",
            "  (NP highlight/NN)\n",
            "  features/NNS\n",
            "  -/:\n",
            "  a/DT\n",
            "  pop-up/JJ\n",
            "  (NP selfie/NN)\n",
            "  (NP camera/NN)\n",
            "  and/CC\n",
            "  a/DT\n",
            "  triple/JJ\n",
            "  rear/JJ\n",
            "  (NP camera/NN)\n",
            "  (NP setup/NN)\n",
            "  ./.)\n"
          ],
          "name": "stdout"
        }
      ]
    },
    {
      "cell_type": "code",
      "metadata": {
        "id": "SJ26c3B15CNW",
        "colab": {
          "base_uri": "https://localhost:8080/"
        },
        "outputId": "b072a4c4-77ac-4a81-8e7e-fdb76a0c3bd7"
      },
      "source": [
        "from nltk import pos_tag\n",
        "postv=pos_tag(word_tokenize(sample))\n",
        "postv\n"
      ],
      "execution_count": null,
      "outputs": [
        {
          "output_type": "execute_result",
          "data": {
            "text/plain": [
              "[('Vivo', 'NNP'),\n",
              " ('V15', 'NNP'),\n",
              " ('was', 'VBD'),\n",
              " ('launched', 'VBN'),\n",
              " ('in', 'IN'),\n",
              " ('India', 'NNP'),\n",
              " ('last', 'JJ'),\n",
              " ('week', 'NN'),\n",
              " (',', ','),\n",
              " ('and', 'CC'),\n",
              " ('its', 'PRP$'),\n",
              " ('pre-bookings', 'NNS'),\n",
              " ('have', 'VBP'),\n",
              " ('now', 'RB'),\n",
              " ('begun', 'VBN'),\n",
              " ('.', '.'),\n",
              " ('The', 'DT'),\n",
              " ('smartphone', 'NN'),\n",
              " ('is', 'VBZ'),\n",
              " ('up', 'RP'),\n",
              " ('for', 'IN'),\n",
              " ('pre-booking', 'JJ'),\n",
              " ('via', 'IN'),\n",
              " ('the', 'DT'),\n",
              " ('company', 'NN'),\n",
              " (\"'s\", 'POS'),\n",
              " ('own', 'JJ'),\n",
              " ('site', 'NN'),\n",
              " ('right', 'RB'),\n",
              " ('now', 'RB'),\n",
              " (',', ','),\n",
              " ('as', 'RB'),\n",
              " ('well', 'RB'),\n",
              " ('as', 'IN'),\n",
              " ('Amazon', 'NNP'),\n",
              " ('and', 'CC'),\n",
              " ('Flipkart', 'NNP'),\n",
              " ('.', '.'),\n",
              " ('The', 'DT'),\n",
              " ('smartphone', 'NN'),\n",
              " ('will', 'MD'),\n",
              " ('go', 'VB'),\n",
              " ('on', 'IN'),\n",
              " ('sale', 'NN'),\n",
              " ('from', 'IN'),\n",
              " ('April', 'NNP'),\n",
              " ('1', 'CD'),\n",
              " ('via', 'IN'),\n",
              " ('the', 'DT'),\n",
              " ('same', 'JJ'),\n",
              " ('platforms', 'NNS'),\n",
              " (',', ','),\n",
              " ('apart', 'RB'),\n",
              " ('from', 'IN'),\n",
              " ('Paytm', 'NNP'),\n",
              " ('Mall', 'NNP'),\n",
              " (',', ','),\n",
              " ('Tata', 'NNP'),\n",
              " ('CliQ', 'NNP'),\n",
              " (',', ','),\n",
              " ('as', 'RB'),\n",
              " ('well', 'RB'),\n",
              " ('as', 'IN'),\n",
              " ('offline', 'NN'),\n",
              " ('stores', 'NNS'),\n",
              " ('.', '.'),\n",
              " ('The', 'DT'),\n",
              " ('smartphone', 'NN'),\n",
              " ('is', 'VBZ'),\n",
              " ('the', 'DT'),\n",
              " ('smaller', 'JJR'),\n",
              " (',', ','),\n",
              " ('more', 'RBR'),\n",
              " ('affordable', 'JJ'),\n",
              " ('sibling', 'NN'),\n",
              " ('of', 'IN'),\n",
              " ('the', 'DT'),\n",
              " ('Vivo', 'NNP'),\n",
              " ('V15', 'NNP'),\n",
              " ('Pro', 'NNP'),\n",
              " ('that', 'WDT'),\n",
              " ('was', 'VBD'),\n",
              " ('launched', 'VBN'),\n",
              " ('in', 'IN'),\n",
              " ('India', 'NNP'),\n",
              " ('in', 'IN'),\n",
              " ('February', 'NNP'),\n",
              " (',', ','),\n",
              " ('and', 'CC'),\n",
              " ('shares', 'NNS'),\n",
              " ('a', 'DT'),\n",
              " ('few', 'JJ'),\n",
              " ('highlight', 'NN'),\n",
              " ('features', 'NNS'),\n",
              " ('-', ':'),\n",
              " ('a', 'DT'),\n",
              " ('pop-up', 'JJ'),\n",
              " ('selfie', 'NN'),\n",
              " ('camera', 'NN'),\n",
              " ('and', 'CC'),\n",
              " ('a', 'DT'),\n",
              " ('triple', 'JJ'),\n",
              " ('rear', 'JJ'),\n",
              " ('camera', 'NN'),\n",
              " ('setup', 'NN'),\n",
              " ('.', '.')]"
            ]
          },
          "metadata": {
            "tags": []
          },
          "execution_count": 28
        }
      ]
    },
    {
      "cell_type": "code",
      "metadata": {
        "id": "HHILxRWL5Fz0"
      },
      "source": [
        "#chunking the verb phrase (VP)\n",
        "sample1 =\"The dark cloud covered the sky\""
      ],
      "execution_count": null,
      "outputs": []
    },
    {
      "cell_type": "code",
      "metadata": {
        "id": "tiVp8Zj0_bcS"
      },
      "source": [
        "from nltk import pos_tag\n",
        "pos=pos_tag(word_tokenize(sample1))"
      ],
      "execution_count": null,
      "outputs": []
    },
    {
      "cell_type": "code",
      "metadata": {
        "id": "IElMVY-pnnnl",
        "colab": {
          "base_uri": "https://localhost:8080/"
        },
        "outputId": "fc64229e-e8a9-47d7-839a-c9b10aeabb02"
      },
      "source": [
        "pos"
      ],
      "execution_count": null,
      "outputs": [
        {
          "output_type": "execute_result",
          "data": {
            "text/plain": [
              "[('The', 'DT'),\n",
              " ('dark', 'JJ'),\n",
              " ('cloud', 'NN'),\n",
              " ('covered', 'VBD'),\n",
              " ('the', 'DT'),\n",
              " ('sky', 'NN')]"
            ]
          },
          "metadata": {
            "tags": []
          },
          "execution_count": 27
        }
      ]
    },
    {
      "cell_type": "code",
      "metadata": {
        "id": "i6mdCp16oZMy"
      },
      "source": [
        "regex=r\"\"\"\n",
        "    NP:{<DT>?<jj>*<NN>*}\n",
        "    \"\"\""
      ],
      "execution_count": null,
      "outputs": []
    },
    {
      "cell_type": "code",
      "metadata": {
        "id": "o3qrNalSpq2c"
      },
      "source": [
        "from nltk.chunk import RegexpParser\n",
        "parser=RegexpParser(regex)"
      ],
      "execution_count": null,
      "outputs": []
    },
    {
      "cell_type": "code",
      "metadata": {
        "id": "6ABqGIwKy1NX"
      },
      "source": [
        "tree=parser.parse(pos)"
      ],
      "execution_count": null,
      "outputs": []
    },
    {
      "cell_type": "code",
      "metadata": {
        "id": "y_ktEL5aztRo",
        "colab": {
          "base_uri": "https://localhost:8080/"
        },
        "outputId": "43903dbf-60de-4f12-cdfe-a01a4d36c360"
      },
      "source": [
        "print(tree)"
      ],
      "execution_count": null,
      "outputs": [
        {
          "output_type": "stream",
          "text": [
            "(S (NP The/DT) dark/JJ (NP cloud/NN) covered/VBD (NP the/DT sky/NN))\n"
          ],
          "name": "stdout"
        }
      ]
    },
    {
      "cell_type": "code",
      "metadata": {
        "id": "QzBoQLkvzwSU",
        "colab": {
          "base_uri": "https://localhost:8080/"
        },
        "outputId": "fa30da49-1053-4ad4-ca98-649deb0c6ca1"
      },
      "source": [
        "print(tree.draw)"
      ],
      "execution_count": null,
      "outputs": [
        {
          "output_type": "stream",
          "text": [
            "<bound method Tree.draw of Tree('S', [Tree('NP', [('The', 'DT')]), ('dark', 'JJ'), Tree('NP', [('cloud', 'NN')]), ('covered', 'VBD'), Tree('NP', [('the', 'DT'), ('sky', 'NN')])])>\n"
          ],
          "name": "stdout"
        }
      ]
    },
    {
      "cell_type": "code",
      "metadata": {
        "id": "Vuo3lKsi0M6c"
      },
      "source": [
        ""
      ],
      "execution_count": null,
      "outputs": []
    },
    {
      "cell_type": "code",
      "metadata": {
        "id": "v7QWYmgy0rQy"
      },
      "source": [
        "sample2=\"Rahul saw a cat sitting on the mat\"\n"
      ],
      "execution_count": null,
      "outputs": []
    },
    {
      "cell_type": "code",
      "metadata": {
        "id": "UiKc7UGg06U-",
        "colab": {
          "base_uri": "https://localhost:8080/"
        },
        "outputId": "011e0c45-1423-415f-f227-02a1058f9748"
      },
      "source": [
        "pos2=pos_tag(word_tokenize(sample2))\n",
        "pos2"
      ],
      "execution_count": null,
      "outputs": [
        {
          "output_type": "execute_result",
          "data": {
            "text/plain": [
              "[('Rahul', 'NNP'),\n",
              " ('saw', 'VBD'),\n",
              " ('a', 'DT'),\n",
              " ('cat', 'NN'),\n",
              " ('sitting', 'VBG'),\n",
              " ('on', 'IN'),\n",
              " ('the', 'DT'),\n",
              " ('mat', 'NN')]"
            ]
          },
          "metadata": {
            "tags": []
          },
          "execution_count": 46
        }
      ]
    },
    {
      "cell_type": "code",
      "metadata": {
        "id": "X2X0KCkS1GIG"
      },
      "source": [
        "regex2=r\"\"\"\n",
        "       NP:{<DT>?<JJ>*<NN.*>}   \n",
        "       P :{<IN>}            \n",
        "       V:{<V.*>}\n",
        "       PP:{<P><NP>}\n",
        "       VP:{<V><NP|PP>*}\n",
        "       \"\"\"\n",
        "        #Toextract the noun Phrases\n",
        "        # #To extract Preposition\n",
        "        #The ectract the verb\n",
        "        #the extract the preposition phase \n",
        "        #the extract the verb phrase "
      ],
      "execution_count": null,
      "outputs": []
    },
    {
      "cell_type": "code",
      "metadata": {
        "id": "46TFmIKq2gc2"
      },
      "source": [
        "parser2=RegexpParser(regex2)"
      ],
      "execution_count": null,
      "outputs": []
    },
    {
      "cell_type": "code",
      "metadata": {
        "id": "_4yWEB4b7-Kz",
        "colab": {
          "base_uri": "https://localhost:8080/"
        },
        "outputId": "3c7c8123-c49d-4a09-f7d9-bc2222be793b"
      },
      "source": [
        "tree2=parser.parse(pos2)\n",
        "print(tree2)"
      ],
      "execution_count": null,
      "outputs": [
        {
          "output_type": "stream",
          "text": [
            "(S\n",
            "  Rahul/NNP\n",
            "  saw/VBD\n",
            "  (NP a/DT cat/NN)\n",
            "  sitting/VBG\n",
            "  on/IN\n",
            "  (NP the/DT mat/NN))\n"
          ],
          "name": "stdout"
        }
      ]
    },
    {
      "cell_type": "code",
      "metadata": {
        "id": "kL4X5PAO8HS4"
      },
      "source": [
        "#CHINKING \n",
        "\n"
      ],
      "execution_count": null,
      "outputs": []
    }
  ]
}