{
  "nbformat": 4,
  "nbformat_minor": 0,
  "metadata": {
    "colab": {
      "name": "Count Vector .ipynb",
      "provenance": [],
      "authorship_tag": "ABX9TyMdael5Zi1RgaN0y9AFGdEB",
      "include_colab_link": true
    },
    "kernelspec": {
      "name": "python3",
      "display_name": "Python 3"
    }
  },
  "cells": [
    {
      "cell_type": "markdown",
      "metadata": {
        "id": "view-in-github",
        "colab_type": "text"
      },
      "source": [
        "<a href=\"https://colab.research.google.com/github/satyambhatt5/Natural-language-Processing-/blob/main/Count_Vector_.ipynb\" target=\"_parent\"><img src=\"https://colab.research.google.com/assets/colab-badge.svg\" alt=\"Open In Colab\"/></a>"
      ]
    },
    {
      "cell_type": "code",
      "metadata": {
        "id": "tnVD2BOyNB4r"
      },
      "source": [
        "import numpy as np\n",
        "import nltk\n",
        "#from the sklearn we are using the feature of the function\n",
        "\n",
        "from sklearn.feature_extraction.text import CountVectorizer\n",
        "import pandas as pd\n",
        "\n"
      ],
      "execution_count": null,
      "outputs": []
    },
    {
      "cell_type": "code",
      "metadata": {
        "id": "WURZwm8mNzZK"
      },
      "source": [
        "text_data=np.array([\"Satyam saw the train\",\n",
        "                    \"the train was late\",\n",
        "                    \"Max and Rob took the bus\",\n",
        "                    \"i looked Max and Rob at the bus station\",\n",
        "                    \"Max and Rob arrived at the bus station early but waited untill noon for the bus\"])"
      ],
      "execution_count": null,
      "outputs": []
    },
    {
      "cell_type": "code",
      "metadata": {
        "id": "ODVwDPvfNLbJ",
        "colab": {
          "base_uri": "https://localhost:8080/"
        },
        "outputId": "f9518553-10e3-4ff3-abb5-7dee39b85df7"
      },
      "source": [
        "from nltk.corpus import stopwords\n",
        "nltk.data.path\n",
        "nltk.download('stopwords')\n"
      ],
      "execution_count": null,
      "outputs": [
        {
          "output_type": "stream",
          "text": [
            "[nltk_data] Downloading package stopwords to /root/nltk_data...\n",
            "[nltk_data]   Unzipping corpora/stopwords.zip.\n"
          ],
          "name": "stdout"
        },
        {
          "output_type": "execute_result",
          "data": {
            "text/plain": [
              "True"
            ]
          },
          "metadata": {
            "tags": []
          },
          "execution_count": 16
        }
      ]
    },
    {
      "cell_type": "code",
      "metadata": {
        "id": "opYDYfzvODi6"
      },
      "source": [
        "stop_words=set(stopwords.words('english'))"
      ],
      "execution_count": null,
      "outputs": []
    },
    {
      "cell_type": "code",
      "metadata": {
        "id": "WnqmBGOOPZYR"
      },
      "source": [
        "#now vectorization \n",
        "\n",
        "count=CountVectorizer(stop_words=stop_words)\n",
        "\n",
        "bag_of_words=count.fit_transform(text_data)"
      ],
      "execution_count": null,
      "outputs": []
    },
    {
      "cell_type": "code",
      "metadata": {
        "id": "-Wqgs01TP59R",
        "colab": {
          "base_uri": "https://localhost:8080/"
        },
        "outputId": "d78742f6-f8f7-49d2-c41a-5e0f90396402"
      },
      "source": [
        "#show the feature matrix \n",
        "\n",
        "bag_of_words.toarray()"
      ],
      "execution_count": null,
      "outputs": [
        {
          "output_type": "execute_result",
          "data": {
            "text/plain": [
              "array([[0, 0, 0, 0, 0, 0, 0, 0, 1, 1, 0, 0, 1, 0, 0],\n",
              "       [0, 0, 0, 1, 0, 0, 0, 0, 0, 0, 0, 0, 1, 0, 0],\n",
              "       [0, 1, 0, 0, 0, 1, 0, 1, 0, 0, 0, 1, 0, 0, 0],\n",
              "       [0, 1, 0, 0, 1, 1, 0, 1, 0, 0, 1, 0, 0, 0, 0],\n",
              "       [1, 2, 1, 0, 0, 1, 1, 1, 0, 0, 1, 0, 0, 1, 1]])"
            ]
          },
          "metadata": {
            "tags": []
          },
          "execution_count": 20
        }
      ]
    },
    {
      "cell_type": "code",
      "metadata": {
        "id": "P0VBb-aIQF9u",
        "colab": {
          "base_uri": "https://localhost:8080/"
        },
        "outputId": "33e3c9c9-9883-417b-b0bf-75615a058944"
      },
      "source": [
        "#get the feature name \n",
        "\n",
        "feature_names=count.get_feature_names()\n",
        "\n",
        "\n",
        "#view features name \n",
        "\n",
        "feature_names"
      ],
      "execution_count": null,
      "outputs": [
        {
          "output_type": "execute_result",
          "data": {
            "text/plain": [
              "['arrived',\n",
              " 'bus',\n",
              " 'early',\n",
              " 'late',\n",
              " 'looked',\n",
              " 'max',\n",
              " 'noon',\n",
              " 'rob',\n",
              " 'satyam',\n",
              " 'saw',\n",
              " 'station',\n",
              " 'took',\n",
              " 'train',\n",
              " 'untill',\n",
              " 'waited']"
            ]
          },
          "metadata": {
            "tags": []
          },
          "execution_count": 21
        }
      ]
    },
    {
      "cell_type": "code",
      "metadata": {
        "id": "12pfaB0iQepr",
        "colab": {
          "base_uri": "https://localhost:8080/",
          "height": 204
        },
        "outputId": "7a59a005-8bfe-4264-e4d6-2e28321baae6"
      },
      "source": [
        "#create the data frame \n",
        "\n",
        "pd.DataFrame(bag_of_words.toarray(),columns=feature_names)"
      ],
      "execution_count": null,
      "outputs": [
        {
          "output_type": "execute_result",
          "data": {
            "text/html": [
              "<div>\n",
              "<style scoped>\n",
              "    .dataframe tbody tr th:only-of-type {\n",
              "        vertical-align: middle;\n",
              "    }\n",
              "\n",
              "    .dataframe tbody tr th {\n",
              "        vertical-align: top;\n",
              "    }\n",
              "\n",
              "    .dataframe thead th {\n",
              "        text-align: right;\n",
              "    }\n",
              "</style>\n",
              "<table border=\"1\" class=\"dataframe\">\n",
              "  <thead>\n",
              "    <tr style=\"text-align: right;\">\n",
              "      <th></th>\n",
              "      <th>arrived</th>\n",
              "      <th>bus</th>\n",
              "      <th>early</th>\n",
              "      <th>late</th>\n",
              "      <th>looked</th>\n",
              "      <th>max</th>\n",
              "      <th>noon</th>\n",
              "      <th>rob</th>\n",
              "      <th>satyam</th>\n",
              "      <th>saw</th>\n",
              "      <th>station</th>\n",
              "      <th>took</th>\n",
              "      <th>train</th>\n",
              "      <th>untill</th>\n",
              "      <th>waited</th>\n",
              "    </tr>\n",
              "  </thead>\n",
              "  <tbody>\n",
              "    <tr>\n",
              "      <th>0</th>\n",
              "      <td>0</td>\n",
              "      <td>0</td>\n",
              "      <td>0</td>\n",
              "      <td>0</td>\n",
              "      <td>0</td>\n",
              "      <td>0</td>\n",
              "      <td>0</td>\n",
              "      <td>0</td>\n",
              "      <td>1</td>\n",
              "      <td>1</td>\n",
              "      <td>0</td>\n",
              "      <td>0</td>\n",
              "      <td>1</td>\n",
              "      <td>0</td>\n",
              "      <td>0</td>\n",
              "    </tr>\n",
              "    <tr>\n",
              "      <th>1</th>\n",
              "      <td>0</td>\n",
              "      <td>0</td>\n",
              "      <td>0</td>\n",
              "      <td>1</td>\n",
              "      <td>0</td>\n",
              "      <td>0</td>\n",
              "      <td>0</td>\n",
              "      <td>0</td>\n",
              "      <td>0</td>\n",
              "      <td>0</td>\n",
              "      <td>0</td>\n",
              "      <td>0</td>\n",
              "      <td>1</td>\n",
              "      <td>0</td>\n",
              "      <td>0</td>\n",
              "    </tr>\n",
              "    <tr>\n",
              "      <th>2</th>\n",
              "      <td>0</td>\n",
              "      <td>1</td>\n",
              "      <td>0</td>\n",
              "      <td>0</td>\n",
              "      <td>0</td>\n",
              "      <td>1</td>\n",
              "      <td>0</td>\n",
              "      <td>1</td>\n",
              "      <td>0</td>\n",
              "      <td>0</td>\n",
              "      <td>0</td>\n",
              "      <td>1</td>\n",
              "      <td>0</td>\n",
              "      <td>0</td>\n",
              "      <td>0</td>\n",
              "    </tr>\n",
              "    <tr>\n",
              "      <th>3</th>\n",
              "      <td>0</td>\n",
              "      <td>1</td>\n",
              "      <td>0</td>\n",
              "      <td>0</td>\n",
              "      <td>1</td>\n",
              "      <td>1</td>\n",
              "      <td>0</td>\n",
              "      <td>1</td>\n",
              "      <td>0</td>\n",
              "      <td>0</td>\n",
              "      <td>1</td>\n",
              "      <td>0</td>\n",
              "      <td>0</td>\n",
              "      <td>0</td>\n",
              "      <td>0</td>\n",
              "    </tr>\n",
              "    <tr>\n",
              "      <th>4</th>\n",
              "      <td>1</td>\n",
              "      <td>2</td>\n",
              "      <td>1</td>\n",
              "      <td>0</td>\n",
              "      <td>0</td>\n",
              "      <td>1</td>\n",
              "      <td>1</td>\n",
              "      <td>1</td>\n",
              "      <td>0</td>\n",
              "      <td>0</td>\n",
              "      <td>1</td>\n",
              "      <td>0</td>\n",
              "      <td>0</td>\n",
              "      <td>1</td>\n",
              "      <td>1</td>\n",
              "    </tr>\n",
              "  </tbody>\n",
              "</table>\n",
              "</div>"
            ],
            "text/plain": [
              "   arrived  bus  early  late  looked  ...  station  took  train  untill  waited\n",
              "0        0    0      0     0       0  ...        0     0      1       0       0\n",
              "1        0    0      0     1       0  ...        0     0      1       0       0\n",
              "2        0    1      0     0       0  ...        0     1      0       0       0\n",
              "3        0    1      0     0       1  ...        1     0      0       0       0\n",
              "4        1    2      1     0       0  ...        1     0      0       1       1\n",
              "\n",
              "[5 rows x 15 columns]"
            ]
          },
          "metadata": {
            "tags": []
          },
          "execution_count": 22
        }
      ]
    },
    {
      "cell_type": "code",
      "metadata": {
        "id": "ceBuexuLQ-Ko"
      },
      "source": [
        ""
      ],
      "execution_count": null,
      "outputs": []
    }
  ]
}