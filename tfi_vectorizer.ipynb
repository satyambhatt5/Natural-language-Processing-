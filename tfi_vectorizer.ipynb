{
  "nbformat": 4,
  "nbformat_minor": 0,
  "metadata": {
    "colab": {
      "name": "tfi vectorizer.ipynb",
      "provenance": [],
      "mount_file_id": "1yoydMagejTVcxwOvhcXmDUath8d0XiSg",
      "authorship_tag": "ABX9TyOFvGpC52vesf9GEEyjv66u",
      "include_colab_link": true
    },
    "kernelspec": {
      "name": "python3",
      "display_name": "Python 3"
    }
  },
  "cells": [
    {
      "cell_type": "markdown",
      "metadata": {
        "id": "view-in-github",
        "colab_type": "text"
      },
      "source": [
        "<a href=\"https://colab.research.google.com/github/satyambhatt5/Natural-language-Processing-/blob/main/tfi_vectorizer.ipynb\" target=\"_parent\"><img src=\"https://colab.research.google.com/assets/colab-badge.svg\" alt=\"Open In Colab\"/></a>"
      ]
    },
    {
      "cell_type": "code",
      "metadata": {
        "id": "gcJ8eS3Hqdi6"
      },
      "source": [
        "import pandas as pd\n",
        "import numpy as np\n",
        "from sklearn.feature_extraction.text import TfidfVectorizer"
      ],
      "execution_count": null,
      "outputs": []
    },
    {
      "cell_type": "code",
      "metadata": {
        "id": "Wi5tNto1rbjn"
      },
      "source": [
        "#add the document \n",
        "\n",
        "corpus=[\"Satyam like to watch movies\",\n",
        "        \"Dinesh like to play football\",\n",
        "        \"Satyam like to watch the football but he does not like to play\",\n",
        "        \"both Satyam and Dinesh like to play video games\"]\n"
      ],
      "execution_count": null,
      "outputs": []
    },
    {
      "cell_type": "code",
      "metadata": {
        "id": "0X8mgYFiHXgY",
        "colab": {
          "base_uri": "https://localhost:8080/"
        },
        "outputId": "6ceb87e8-2a24-4a17-9c50-e37084bffe8c"
      },
      "source": [
        "import nltk\n",
        "from nltk.corpus import stopwords\n",
        "nltk.data.path\n",
        "nltk.download('stopwords')"
      ],
      "execution_count": null,
      "outputs": [
        {
          "output_type": "stream",
          "text": [
            "[nltk_data] Downloading package stopwords to /root/nltk_data...\n",
            "[nltk_data]   Unzipping corpora/stopwords.zip.\n"
          ],
          "name": "stdout"
        },
        {
          "output_type": "execute_result",
          "data": {
            "text/plain": [
              "True"
            ]
          },
          "metadata": {
            "tags": []
          },
          "execution_count": 7
        }
      ]
    },
    {
      "cell_type": "code",
      "metadata": {
        "id": "2IIH1tPEHl3i"
      },
      "source": [
        "stop_words=set(stopwords.words('english'))"
      ],
      "execution_count": null,
      "outputs": []
    },
    {
      "cell_type": "code",
      "metadata": {
        "id": "ODS-FCj1sAKE"
      },
      "source": [
        "#use this library for vectorizer  \n",
        "vectorizer=TfidfVectorizer(use_idf=True)"
      ],
      "execution_count": null,
      "outputs": []
    },
    {
      "cell_type": "code",
      "metadata": {
        "id": "y9jjFd8gshYV"
      },
      "source": [
        "#we will transform the document into the vector form so that we will convert into number form\n",
        "\n",
        "\n",
        "vectorizer_vector=vectorizer.fit_transform(corpus)"
      ],
      "execution_count": null,
      "outputs": []
    },
    {
      "cell_type": "code",
      "metadata": {
        "id": "OoH1fxZ1ssef",
        "colab": {
          "base_uri": "https://localhost:8080/"
        },
        "outputId": "c9ecc73d-c4ef-4325-f457-266d8997e389"
      },
      "source": [
        "#convert into the numpy array  through this \n",
        "vectorizer_vector.toarray()"
      ],
      "execution_count": null,
      "outputs": [
        {
          "output_type": "execute_result",
          "data": {
            "text/plain": [
              "array([[0.        , 0.        , 0.        , 0.        , 0.        ,\n",
              "        0.        , 0.        , 0.        , 0.32528549, 0.62334157,\n",
              "        0.        , 0.        , 0.39787085, 0.        , 0.32528549,\n",
              "        0.        , 0.49144966],\n",
              "       [0.        , 0.        , 0.        , 0.53212376, 0.        ,\n",
              "        0.53212376, 0.        , 0.        , 0.35220727, 0.        ,\n",
              "        0.        , 0.43080005, 0.        , 0.        , 0.35220727,\n",
              "        0.        , 0.        ],\n",
              "       [0.        , 0.        , 0.3290372 , 0.        , 0.3290372 ,\n",
              "        0.25941671, 0.        , 0.3290372 , 0.34341053, 0.        ,\n",
              "        0.3290372 , 0.21002018, 0.21002018, 0.3290372 , 0.34341053,\n",
              "        0.        , 0.25941671],\n",
              "       [0.4088945 , 0.4088945 , 0.        , 0.32237712, 0.        ,\n",
              "        0.        , 0.4088945 , 0.        , 0.21337811, 0.        ,\n",
              "        0.        , 0.26099206, 0.26099206, 0.        , 0.21337811,\n",
              "        0.4088945 , 0.        ]])"
            ]
          },
          "metadata": {
            "tags": []
          },
          "execution_count": 17
        }
      ]
    },
    {
      "cell_type": "code",
      "metadata": {
        "id": "1M9lPnyxszYd",
        "colab": {
          "base_uri": "https://localhost:8080/"
        },
        "outputId": "c0162b31-d4cf-49ee-8a4b-d8b2fe7ac07e"
      },
      "source": [
        "# if i need check he vacabulary of the model \n",
        "\n",
        "feature_names=vectorizer.get_feature_names()\n",
        "\n",
        "feature_names"
      ],
      "execution_count": null,
      "outputs": [
        {
          "output_type": "execute_result",
          "data": {
            "text/plain": [
              "['and',\n",
              " 'both',\n",
              " 'but',\n",
              " 'dinesh',\n",
              " 'does',\n",
              " 'football',\n",
              " 'games',\n",
              " 'he',\n",
              " 'like',\n",
              " 'movies',\n",
              " 'not',\n",
              " 'play',\n",
              " 'satyam',\n",
              " 'the',\n",
              " 'to',\n",
              " 'video',\n",
              " 'watch']"
            ]
          },
          "metadata": {
            "tags": []
          },
          "execution_count": 18
        }
      ]
    },
    {
      "cell_type": "code",
      "metadata": {
        "id": "UfTRKeSltkul",
        "colab": {
          "base_uri": "https://localhost:8080/",
          "height": 193
        },
        "outputId": "94e5c6d7-a2e6-48ab-e621-196714ad974e"
      },
      "source": [
        "#convert into the dataframe \n",
        "#through this we try to find the weightage if the word \n",
        "\n",
        "\n",
        "df=pd.DataFrame(vectorizer_vector.toarray(), columns=feature_names)\n",
        "df"
      ],
      "execution_count": null,
      "outputs": [
        {
          "output_type": "execute_result",
          "data": {
            "text/html": [
              "<div>\n",
              "<style scoped>\n",
              "    .dataframe tbody tr th:only-of-type {\n",
              "        vertical-align: middle;\n",
              "    }\n",
              "\n",
              "    .dataframe tbody tr th {\n",
              "        vertical-align: top;\n",
              "    }\n",
              "\n",
              "    .dataframe thead th {\n",
              "        text-align: right;\n",
              "    }\n",
              "</style>\n",
              "<table border=\"1\" class=\"dataframe\">\n",
              "  <thead>\n",
              "    <tr style=\"text-align: right;\">\n",
              "      <th></th>\n",
              "      <th>and</th>\n",
              "      <th>both</th>\n",
              "      <th>but</th>\n",
              "      <th>dinesh</th>\n",
              "      <th>does</th>\n",
              "      <th>football</th>\n",
              "      <th>games</th>\n",
              "      <th>he</th>\n",
              "      <th>like</th>\n",
              "      <th>movies</th>\n",
              "      <th>not</th>\n",
              "      <th>play</th>\n",
              "      <th>satyam</th>\n",
              "      <th>the</th>\n",
              "      <th>to</th>\n",
              "      <th>video</th>\n",
              "      <th>watch</th>\n",
              "    </tr>\n",
              "  </thead>\n",
              "  <tbody>\n",
              "    <tr>\n",
              "      <th>0</th>\n",
              "      <td>0.000000</td>\n",
              "      <td>0.000000</td>\n",
              "      <td>0.000000</td>\n",
              "      <td>0.000000</td>\n",
              "      <td>0.000000</td>\n",
              "      <td>0.000000</td>\n",
              "      <td>0.000000</td>\n",
              "      <td>0.000000</td>\n",
              "      <td>0.325285</td>\n",
              "      <td>0.623342</td>\n",
              "      <td>0.000000</td>\n",
              "      <td>0.000000</td>\n",
              "      <td>0.397871</td>\n",
              "      <td>0.000000</td>\n",
              "      <td>0.325285</td>\n",
              "      <td>0.000000</td>\n",
              "      <td>0.491450</td>\n",
              "    </tr>\n",
              "    <tr>\n",
              "      <th>1</th>\n",
              "      <td>0.000000</td>\n",
              "      <td>0.000000</td>\n",
              "      <td>0.000000</td>\n",
              "      <td>0.532124</td>\n",
              "      <td>0.000000</td>\n",
              "      <td>0.532124</td>\n",
              "      <td>0.000000</td>\n",
              "      <td>0.000000</td>\n",
              "      <td>0.352207</td>\n",
              "      <td>0.000000</td>\n",
              "      <td>0.000000</td>\n",
              "      <td>0.430800</td>\n",
              "      <td>0.000000</td>\n",
              "      <td>0.000000</td>\n",
              "      <td>0.352207</td>\n",
              "      <td>0.000000</td>\n",
              "      <td>0.000000</td>\n",
              "    </tr>\n",
              "    <tr>\n",
              "      <th>2</th>\n",
              "      <td>0.000000</td>\n",
              "      <td>0.000000</td>\n",
              "      <td>0.329037</td>\n",
              "      <td>0.000000</td>\n",
              "      <td>0.329037</td>\n",
              "      <td>0.259417</td>\n",
              "      <td>0.000000</td>\n",
              "      <td>0.329037</td>\n",
              "      <td>0.343411</td>\n",
              "      <td>0.000000</td>\n",
              "      <td>0.329037</td>\n",
              "      <td>0.210020</td>\n",
              "      <td>0.210020</td>\n",
              "      <td>0.329037</td>\n",
              "      <td>0.343411</td>\n",
              "      <td>0.000000</td>\n",
              "      <td>0.259417</td>\n",
              "    </tr>\n",
              "    <tr>\n",
              "      <th>3</th>\n",
              "      <td>0.408894</td>\n",
              "      <td>0.408894</td>\n",
              "      <td>0.000000</td>\n",
              "      <td>0.322377</td>\n",
              "      <td>0.000000</td>\n",
              "      <td>0.000000</td>\n",
              "      <td>0.408894</td>\n",
              "      <td>0.000000</td>\n",
              "      <td>0.213378</td>\n",
              "      <td>0.000000</td>\n",
              "      <td>0.000000</td>\n",
              "      <td>0.260992</td>\n",
              "      <td>0.260992</td>\n",
              "      <td>0.000000</td>\n",
              "      <td>0.213378</td>\n",
              "      <td>0.408894</td>\n",
              "      <td>0.000000</td>\n",
              "    </tr>\n",
              "  </tbody>\n",
              "</table>\n",
              "</div>"
            ],
            "text/plain": [
              "        and      both       but  ...        to     video     watch\n",
              "0  0.000000  0.000000  0.000000  ...  0.325285  0.000000  0.491450\n",
              "1  0.000000  0.000000  0.000000  ...  0.352207  0.000000  0.000000\n",
              "2  0.000000  0.000000  0.329037  ...  0.343411  0.000000  0.259417\n",
              "3  0.408894  0.408894  0.000000  ...  0.213378  0.408894  0.000000\n",
              "\n",
              "[4 rows x 17 columns]"
            ]
          },
          "metadata": {
            "tags": []
          },
          "execution_count": 19
        }
      ]
    },
    {
      "cell_type": "code",
      "metadata": {
        "id": "BDpzRF-EuR68",
        "colab": {
          "base_uri": "https://localhost:8080/",
          "height": 317
        },
        "outputId": "2f62b46e-e103-4794-eea9-7a6b3c0cbfe9"
      },
      "source": [
        "df.describe()"
      ],
      "execution_count": null,
      "outputs": [
        {
          "output_type": "execute_result",
          "data": {
            "text/html": [
              "<div>\n",
              "<style scoped>\n",
              "    .dataframe tbody tr th:only-of-type {\n",
              "        vertical-align: middle;\n",
              "    }\n",
              "\n",
              "    .dataframe tbody tr th {\n",
              "        vertical-align: top;\n",
              "    }\n",
              "\n",
              "    .dataframe thead th {\n",
              "        text-align: right;\n",
              "    }\n",
              "</style>\n",
              "<table border=\"1\" class=\"dataframe\">\n",
              "  <thead>\n",
              "    <tr style=\"text-align: right;\">\n",
              "      <th></th>\n",
              "      <th>and</th>\n",
              "      <th>both</th>\n",
              "      <th>but</th>\n",
              "      <th>dinesh</th>\n",
              "      <th>does</th>\n",
              "      <th>football</th>\n",
              "      <th>games</th>\n",
              "      <th>he</th>\n",
              "      <th>like</th>\n",
              "      <th>movies</th>\n",
              "      <th>not</th>\n",
              "      <th>play</th>\n",
              "      <th>satyam</th>\n",
              "      <th>the</th>\n",
              "      <th>to</th>\n",
              "      <th>video</th>\n",
              "      <th>watch</th>\n",
              "    </tr>\n",
              "  </thead>\n",
              "  <tbody>\n",
              "    <tr>\n",
              "      <th>count</th>\n",
              "      <td>4.000000</td>\n",
              "      <td>4.000000</td>\n",
              "      <td>4.000000</td>\n",
              "      <td>4.000000</td>\n",
              "      <td>4.000000</td>\n",
              "      <td>4.000000</td>\n",
              "      <td>4.000000</td>\n",
              "      <td>4.000000</td>\n",
              "      <td>4.000000</td>\n",
              "      <td>4.000000</td>\n",
              "      <td>4.000000</td>\n",
              "      <td>4.000000</td>\n",
              "      <td>4.000000</td>\n",
              "      <td>4.000000</td>\n",
              "      <td>4.000000</td>\n",
              "      <td>4.000000</td>\n",
              "      <td>4.000000</td>\n",
              "    </tr>\n",
              "    <tr>\n",
              "      <th>mean</th>\n",
              "      <td>0.102224</td>\n",
              "      <td>0.102224</td>\n",
              "      <td>0.082259</td>\n",
              "      <td>0.213625</td>\n",
              "      <td>0.082259</td>\n",
              "      <td>0.197885</td>\n",
              "      <td>0.102224</td>\n",
              "      <td>0.082259</td>\n",
              "      <td>0.308570</td>\n",
              "      <td>0.155835</td>\n",
              "      <td>0.082259</td>\n",
              "      <td>0.225453</td>\n",
              "      <td>0.217221</td>\n",
              "      <td>0.082259</td>\n",
              "      <td>0.308570</td>\n",
              "      <td>0.102224</td>\n",
              "      <td>0.187717</td>\n",
              "    </tr>\n",
              "    <tr>\n",
              "      <th>std</th>\n",
              "      <td>0.204447</td>\n",
              "      <td>0.204447</td>\n",
              "      <td>0.164519</td>\n",
              "      <td>0.261113</td>\n",
              "      <td>0.164519</td>\n",
              "      <td>0.254178</td>\n",
              "      <td>0.204447</td>\n",
              "      <td>0.164519</td>\n",
              "      <td>0.064444</td>\n",
              "      <td>0.311671</td>\n",
              "      <td>0.164519</td>\n",
              "      <td>0.177480</td>\n",
              "      <td>0.165113</td>\n",
              "      <td>0.164519</td>\n",
              "      <td>0.064444</td>\n",
              "      <td>0.204447</td>\n",
              "      <td>0.236551</td>\n",
              "    </tr>\n",
              "    <tr>\n",
              "      <th>min</th>\n",
              "      <td>0.000000</td>\n",
              "      <td>0.000000</td>\n",
              "      <td>0.000000</td>\n",
              "      <td>0.000000</td>\n",
              "      <td>0.000000</td>\n",
              "      <td>0.000000</td>\n",
              "      <td>0.000000</td>\n",
              "      <td>0.000000</td>\n",
              "      <td>0.213378</td>\n",
              "      <td>0.000000</td>\n",
              "      <td>0.000000</td>\n",
              "      <td>0.000000</td>\n",
              "      <td>0.000000</td>\n",
              "      <td>0.000000</td>\n",
              "      <td>0.213378</td>\n",
              "      <td>0.000000</td>\n",
              "      <td>0.000000</td>\n",
              "    </tr>\n",
              "    <tr>\n",
              "      <th>25%</th>\n",
              "      <td>0.000000</td>\n",
              "      <td>0.000000</td>\n",
              "      <td>0.000000</td>\n",
              "      <td>0.000000</td>\n",
              "      <td>0.000000</td>\n",
              "      <td>0.000000</td>\n",
              "      <td>0.000000</td>\n",
              "      <td>0.000000</td>\n",
              "      <td>0.297309</td>\n",
              "      <td>0.000000</td>\n",
              "      <td>0.000000</td>\n",
              "      <td>0.157515</td>\n",
              "      <td>0.157515</td>\n",
              "      <td>0.000000</td>\n",
              "      <td>0.297309</td>\n",
              "      <td>0.000000</td>\n",
              "      <td>0.000000</td>\n",
              "    </tr>\n",
              "    <tr>\n",
              "      <th>50%</th>\n",
              "      <td>0.000000</td>\n",
              "      <td>0.000000</td>\n",
              "      <td>0.000000</td>\n",
              "      <td>0.161189</td>\n",
              "      <td>0.000000</td>\n",
              "      <td>0.129708</td>\n",
              "      <td>0.000000</td>\n",
              "      <td>0.000000</td>\n",
              "      <td>0.334348</td>\n",
              "      <td>0.000000</td>\n",
              "      <td>0.000000</td>\n",
              "      <td>0.235506</td>\n",
              "      <td>0.235506</td>\n",
              "      <td>0.000000</td>\n",
              "      <td>0.334348</td>\n",
              "      <td>0.000000</td>\n",
              "      <td>0.129708</td>\n",
              "    </tr>\n",
              "    <tr>\n",
              "      <th>75%</th>\n",
              "      <td>0.102224</td>\n",
              "      <td>0.102224</td>\n",
              "      <td>0.082259</td>\n",
              "      <td>0.374814</td>\n",
              "      <td>0.082259</td>\n",
              "      <td>0.327593</td>\n",
              "      <td>0.102224</td>\n",
              "      <td>0.082259</td>\n",
              "      <td>0.345610</td>\n",
              "      <td>0.155835</td>\n",
              "      <td>0.082259</td>\n",
              "      <td>0.303444</td>\n",
              "      <td>0.295212</td>\n",
              "      <td>0.082259</td>\n",
              "      <td>0.345610</td>\n",
              "      <td>0.102224</td>\n",
              "      <td>0.317425</td>\n",
              "    </tr>\n",
              "    <tr>\n",
              "      <th>max</th>\n",
              "      <td>0.408894</td>\n",
              "      <td>0.408894</td>\n",
              "      <td>0.329037</td>\n",
              "      <td>0.532124</td>\n",
              "      <td>0.329037</td>\n",
              "      <td>0.532124</td>\n",
              "      <td>0.408894</td>\n",
              "      <td>0.329037</td>\n",
              "      <td>0.352207</td>\n",
              "      <td>0.623342</td>\n",
              "      <td>0.329037</td>\n",
              "      <td>0.430800</td>\n",
              "      <td>0.397871</td>\n",
              "      <td>0.329037</td>\n",
              "      <td>0.352207</td>\n",
              "      <td>0.408894</td>\n",
              "      <td>0.491450</td>\n",
              "    </tr>\n",
              "  </tbody>\n",
              "</table>\n",
              "</div>"
            ],
            "text/plain": [
              "            and      both       but  ...        to     video     watch\n",
              "count  4.000000  4.000000  4.000000  ...  4.000000  4.000000  4.000000\n",
              "mean   0.102224  0.102224  0.082259  ...  0.308570  0.102224  0.187717\n",
              "std    0.204447  0.204447  0.164519  ...  0.064444  0.204447  0.236551\n",
              "min    0.000000  0.000000  0.000000  ...  0.213378  0.000000  0.000000\n",
              "25%    0.000000  0.000000  0.000000  ...  0.297309  0.000000  0.000000\n",
              "50%    0.000000  0.000000  0.000000  ...  0.334348  0.000000  0.129708\n",
              "75%    0.102224  0.102224  0.082259  ...  0.345610  0.102224  0.317425\n",
              "max    0.408894  0.408894  0.329037  ...  0.352207  0.408894  0.491450\n",
              "\n",
              "[8 rows x 17 columns]"
            ]
          },
          "metadata": {
            "tags": []
          },
          "execution_count": 20
        }
      ]
    },
    {
      "cell_type": "code",
      "metadata": {
        "id": "sBcWpAf9vGU0"
      },
      "source": [
        ""
      ],
      "execution_count": null,
      "outputs": []
    }
  ]
}