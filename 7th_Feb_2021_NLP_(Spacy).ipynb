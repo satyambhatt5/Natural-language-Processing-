{
  "nbformat": 4,
  "nbformat_minor": 0,
  "metadata": {
    "colab": {
      "name": "7th Feb 2021 NLP (Spacy).ipynb",
      "provenance": [],
      "collapsed_sections": []
    },
    "kernelspec": {
      "name": "python3",
      "display_name": "Python 3"
    }
  },
  "cells": [
    {
      "cell_type": "code",
      "metadata": {
        "id": "YBbVtPw48jQK"
      },
      "source": [
        "# NLP -> nltk, spacy, textblob  "
      ],
      "execution_count": 1,
      "outputs": []
    },
    {
      "cell_type": "code",
      "metadata": {
        "id": "gKWAJ6J19Tj9"
      },
      "source": [
        "# ! pip install spacy # Install Spacy\r\n",
        "import spacy"
      ],
      "execution_count": 2,
      "outputs": []
    },
    {
      "cell_type": "code",
      "metadata": {
        "colab": {
          "base_uri": "https://localhost:8080/",
          "height": 35
        },
        "id": "2vDAr6qW9aEH",
        "outputId": "fb4b9451-07dd-455c-e3d1-86b4c0766c9b"
      },
      "source": [
        "spacy.__version__"
      ],
      "execution_count": 4,
      "outputs": [
        {
          "output_type": "execute_result",
          "data": {
            "application/vnd.google.colaboratory.intrinsic+json": {
              "type": "string"
            },
            "text/plain": [
              "'2.2.4'"
            ]
          },
          "metadata": {
            "tags": []
          },
          "execution_count": 4
        }
      ]
    },
    {
      "cell_type": "code",
      "metadata": {
        "id": "fJrdcHra9bqN"
      },
      "source": [
        "sample_text = \"\"\"\r\n",
        "One of the most difficult problems in finance right now is figuring out the fundamental economic value of cryptocurrencies. And the past week has complicated this further.\r\n",
        "\r\n",
        "For many cryptocurrency investors, the value of Bitcoin is based on the fact it is artificially scarce. A hard cap on “minting” new coins means there will only ever be 21 million Bitcoin in existence. And unlike national currencies such as the Australian dollar, the rate of release for new Bitcoin is slowing down over time.\r\n",
        "\r\n",
        "Dogecoin, a cryptocurrency that takes its name and logo from a Shiba Inu meme that was popular several years ago, does not have a cap. Launched in 2013, there are now 100 billion Dogecoin in existence, with as many as five billion new coins minted each year.\r\n",
        "\"\"\""
      ],
      "execution_count": 8,
      "outputs": []
    },
    {
      "cell_type": "code",
      "metadata": {
        "colab": {
          "base_uri": "https://localhost:8080/"
        },
        "id": "wuJyYJP_972-",
        "outputId": "c56a3f57-a5c8-476a-8801-70967cd6e548"
      },
      "source": [
        "print(sample_text)"
      ],
      "execution_count": 9,
      "outputs": [
        {
          "output_type": "stream",
          "text": [
            "\n",
            "One of the most difficult problems in finance right now is figuring out the fundamental economic value of cryptocurrencies. And the past week has complicated this further.\n",
            "\n",
            "For many cryptocurrency investors, the value of Bitcoin is based on the fact it is artificially scarce. A hard cap on “minting” new coins means there will only ever be 21 million Bitcoin in existence. And unlike national currencies such as the Australian dollar, the rate of release for new Bitcoin is slowing down over time.\n",
            "\n",
            "Dogecoin, a cryptocurrency that takes its name and logo from a Shiba Inu meme that was popular several years ago, does not have a cap. Launched in 2013, there are now 100 billion Dogecoin in existence, with as many as five billion new coins minted each year.\n",
            "\n"
          ],
          "name": "stdout"
        }
      ]
    },
    {
      "cell_type": "code",
      "metadata": {
        "colab": {
          "base_uri": "https://localhost:8080/",
          "height": 35
        },
        "id": "gGONRqDV9-Q5",
        "outputId": "e842b4a5-d4a9-4eee-d17e-23060985190c"
      },
      "source": [
        "\"The steel cube with volume of 34 cubic c.m. is not working. We need a better cube\""
      ],
      "execution_count": 10,
      "outputs": [
        {
          "output_type": "execute_result",
          "data": {
            "application/vnd.google.colaboratory.intrinsic+json": {
              "type": "string"
            },
            "text/plain": [
              "'The steel cube with volume of 34 cubic c.m. is not working. We need a better cube'"
            ]
          },
          "metadata": {
            "tags": []
          },
          "execution_count": 10
        }
      ]
    },
    {
      "cell_type": "code",
      "metadata": {
        "colab": {
          "base_uri": "https://localhost:8080/"
        },
        "id": "XmAgg9Ge-g52",
        "outputId": "cb616bb0-382e-43ba-b2da-13aeaf0c3519"
      },
      "source": [
        "# Language Models!\r\n",
        "# Download the medium English model\r\n",
        "spacy.cli.download(\"en_core_web_md\") \r\n",
        "nlp = spacy.load(\"en_core_web_md\")"
      ],
      "execution_count": 14,
      "outputs": [
        {
          "output_type": "stream",
          "text": [
            "\u001b[38;5;2m✔ Download and installation successful\u001b[0m\n",
            "You can now load the model via spacy.load('en_core_web_md')\n"
          ],
          "name": "stdout"
        }
      ]
    },
    {
      "cell_type": "code",
      "metadata": {
        "colab": {
          "base_uri": "https://localhost:8080/"
        },
        "id": "eXWMITecAuMA",
        "outputId": "42400fb5-e4a5-4b19-8d8b-6479f484ec22"
      },
      "source": [
        "  nlp"
      ],
      "execution_count": 15,
      "outputs": [
        {
          "output_type": "execute_result",
          "data": {
            "text/plain": [
              "<spacy.lang.en.English at 0x7f37bcd8bc88>"
            ]
          },
          "metadata": {
            "tags": []
          },
          "execution_count": 15
        }
      ]
    },
    {
      "cell_type": "code",
      "metadata": {
        "id": "JcweoQMDBm-g"
      },
      "source": [
        "st2 = \"The steel cube with volume of 34 cubic c.m. is not working. We need a better cube\""
      ],
      "execution_count": 22,
      "outputs": []
    },
    {
      "cell_type": "code",
      "metadata": {
        "id": "HQ-FcigqBIiy"
      },
      "source": [
        "doc = nlp(st2)"
      ],
      "execution_count": 23,
      "outputs": []
    },
    {
      "cell_type": "code",
      "metadata": {
        "colab": {
          "base_uri": "https://localhost:8080/"
        },
        "id": "cp9xon1kBMV3",
        "outputId": "0c04af7b-bec9-4484-c757-b0f8b6b5211d"
      },
      "source": [
        "type(doc)"
      ],
      "execution_count": 24,
      "outputs": [
        {
          "output_type": "execute_result",
          "data": {
            "text/plain": [
              "spacy.tokens.doc.Doc"
            ]
          },
          "metadata": {
            "tags": []
          },
          "execution_count": 24
        }
      ]
    },
    {
      "cell_type": "code",
      "metadata": {
        "colab": {
          "base_uri": "https://localhost:8080/"
        },
        "id": "S2NaSr43BZHn",
        "outputId": "22734b65-8331-4637-f648-0bdecf974698"
      },
      "source": [
        "doc"
      ],
      "execution_count": 25,
      "outputs": [
        {
          "output_type": "execute_result",
          "data": {
            "text/plain": [
              "The steel cube with volume of 34 cubic c.m. is not working. We need a better cube"
            ]
          },
          "metadata": {
            "tags": []
          },
          "execution_count": 25
        }
      ]
    },
    {
      "cell_type": "code",
      "metadata": {
        "colab": {
          "base_uri": "https://localhost:8080/"
        },
        "id": "hvJm7AuvBcFb",
        "outputId": "8e3bfa35-ab68-473b-dd5b-b45297a043bb"
      },
      "source": [
        "for word in doc:\r\n",
        "  print(word.text, word.is_punct)"
      ],
      "execution_count": 27,
      "outputs": [
        {
          "output_type": "stream",
          "text": [
            "The False\n",
            "steel False\n",
            "cube False\n",
            "with False\n",
            "volume False\n",
            "of False\n",
            "34 False\n",
            "cubic False\n",
            "c.m False\n",
            ". True\n",
            "is False\n",
            "not False\n",
            "working False\n",
            ". True\n",
            "We False\n",
            "need False\n",
            "a False\n",
            "better False\n",
            "cube False\n"
          ],
          "name": "stdout"
        }
      ]
    },
    {
      "cell_type": "code",
      "metadata": {
        "id": "nIhpkyGRBh4i"
      },
      "source": [
        "doc2 = nlp(\"This is a sample text with some #hashtag & some more 90%. I will also add $300\")"
      ],
      "execution_count": 28,
      "outputs": []
    },
    {
      "cell_type": "code",
      "metadata": {
        "colab": {
          "base_uri": "https://localhost:8080/"
        },
        "id": "dpMLTfnWCMDj",
        "outputId": "db4b850c-fe7a-454d-91f8-6539d5cd0a24"
      },
      "source": [
        "for word in doc2:\r\n",
        "  print(word.text, word.is_currency)"
      ],
      "execution_count": 34,
      "outputs": [
        {
          "output_type": "stream",
          "text": [
            "This False\n",
            "is False\n",
            "a False\n",
            "sample False\n",
            "text False\n",
            "with False\n",
            "some False\n",
            "# False\n",
            "hashtag False\n",
            "& False\n",
            "some False\n",
            "more False\n",
            "90 False\n",
            "% False\n",
            ". False\n",
            "I False\n",
            "will False\n",
            "also False\n",
            "add False\n",
            "$ True\n",
            "300 False\n"
          ],
          "name": "stdout"
        }
      ]
    },
    {
      "cell_type": "code",
      "metadata": {
        "colab": {
          "base_uri": "https://localhost:8080/"
        },
        "id": "vdsz0HY_CPn7",
        "outputId": "4135ef72-2e04-4ec5-8c5d-13dc6a3b4786"
      },
      "source": [
        "doc2"
      ],
      "execution_count": 35,
      "outputs": [
        {
          "output_type": "execute_result",
          "data": {
            "text/plain": [
              "This is a sample text with some #hashtag & some more 90%. I will also add $300"
            ]
          },
          "metadata": {
            "tags": []
          },
          "execution_count": 35
        }
      ]
    },
    {
      "cell_type": "code",
      "metadata": {
        "id": "8s01RgwVC4xP"
      },
      "source": [
        "doc3 = nlp(sample_text)"
      ],
      "execution_count": 36,
      "outputs": []
    },
    {
      "cell_type": "code",
      "metadata": {
        "colab": {
          "base_uri": "https://localhost:8080/"
        },
        "id": "qwPf9khkDGzN",
        "outputId": "2237c7eb-d646-4d81-b92b-b2ec2927a879"
      },
      "source": [
        "doc3"
      ],
      "execution_count": 38,
      "outputs": [
        {
          "output_type": "execute_result",
          "data": {
            "text/plain": [
              "\n",
              "One of the most difficult problems in finance right now is figuring out the fundamental economic value of cryptocurrencies. And the past week has complicated this further.\n",
              "\n",
              "For many cryptocurrency investors, the value of Bitcoin is based on the fact it is artificially scarce. A hard cap on “minting” new coins means there will only ever be 21 million Bitcoin in existence. And unlike national currencies such as the Australian dollar, the rate of release for new Bitcoin is slowing down over time.\n",
              "\n",
              "Dogecoin, a cryptocurrency that takes its name and logo from a Shiba Inu meme that was popular several years ago, does not have a cap. Launched in 2013, there are now 100 billion Dogecoin in existence, with as many as five billion new coins minted each year."
            ]
          },
          "metadata": {
            "tags": []
          },
          "execution_count": 38
        }
      ]
    },
    {
      "cell_type": "code",
      "metadata": {
        "colab": {
          "base_uri": "https://localhost:8080/"
        },
        "id": "TZg0UETMC_MS",
        "outputId": "bc9eb6f1-57ae-4d7c-dd33-baacb8e313d5"
      },
      "source": [
        "for ent in doc3.ents:\r\n",
        "  print(ent.text, ent.label_)"
      ],
      "execution_count": 37,
      "outputs": [
        {
          "output_type": "stream",
          "text": [
            "the past week DATE\n",
            "Bitcoin GPE\n",
            "21 million Bitcoin MONEY\n",
            "Australian NORP\n",
            "Bitcoin GPE\n",
            "Dogecoin ORG\n",
            "Shiba Inu LAW\n",
            "several years ago DATE\n",
            "2013 DATE\n",
            "100 billion Dogecoin MONEY\n",
            "as many as five billion CARDINAL\n",
            "each year DATE\n"
          ],
          "name": "stdout"
        }
      ]
    },
    {
      "cell_type": "code",
      "metadata": {
        "colab": {
          "base_uri": "https://localhost:8080/",
          "height": 296
        },
        "id": "fZ5xZdUZDFc6",
        "outputId": "7efcee6b-6e1a-412b-ab40-d94b04802583"
      },
      "source": [
        "spacy.displacy.render(doc3, style=\"ent\", jupyter=True)"
      ],
      "execution_count": 40,
      "outputs": [
        {
          "output_type": "display_data",
          "data": {
            "text/html": [
              "<span class=\"tex2jax_ignore\"><div class=\"entities\" style=\"line-height: 2.5; direction: ltr\"></br>One of the most difficult problems in finance right now is figuring out the fundamental economic value of cryptocurrencies. And \n",
              "<mark class=\"entity\" style=\"background: #bfe1d9; padding: 0.45em 0.6em; margin: 0 0.25em; line-height: 1; border-radius: 0.35em;\">\n",
              "    the past week\n",
              "    <span style=\"font-size: 0.8em; font-weight: bold; line-height: 1; border-radius: 0.35em; text-transform: uppercase; vertical-align: middle; margin-left: 0.5rem\">DATE</span>\n",
              "</mark>\n",
              " has complicated this further.</br></br>For many cryptocurrency investors, the value of \n",
              "<mark class=\"entity\" style=\"background: #feca74; padding: 0.45em 0.6em; margin: 0 0.25em; line-height: 1; border-radius: 0.35em;\">\n",
              "    Bitcoin\n",
              "    <span style=\"font-size: 0.8em; font-weight: bold; line-height: 1; border-radius: 0.35em; text-transform: uppercase; vertical-align: middle; margin-left: 0.5rem\">GPE</span>\n",
              "</mark>\n",
              " is based on the fact it is artificially scarce. A hard cap on “minting” new coins means there will only ever be \n",
              "<mark class=\"entity\" style=\"background: #e4e7d2; padding: 0.45em 0.6em; margin: 0 0.25em; line-height: 1; border-radius: 0.35em;\">\n",
              "    21 million Bitcoin\n",
              "    <span style=\"font-size: 0.8em; font-weight: bold; line-height: 1; border-radius: 0.35em; text-transform: uppercase; vertical-align: middle; margin-left: 0.5rem\">MONEY</span>\n",
              "</mark>\n",
              " in existence. And unlike national currencies such as the \n",
              "<mark class=\"entity\" style=\"background: #c887fb; padding: 0.45em 0.6em; margin: 0 0.25em; line-height: 1; border-radius: 0.35em;\">\n",
              "    Australian\n",
              "    <span style=\"font-size: 0.8em; font-weight: bold; line-height: 1; border-radius: 0.35em; text-transform: uppercase; vertical-align: middle; margin-left: 0.5rem\">NORP</span>\n",
              "</mark>\n",
              " dollar, the rate of release for new \n",
              "<mark class=\"entity\" style=\"background: #feca74; padding: 0.45em 0.6em; margin: 0 0.25em; line-height: 1; border-radius: 0.35em;\">\n",
              "    Bitcoin\n",
              "    <span style=\"font-size: 0.8em; font-weight: bold; line-height: 1; border-radius: 0.35em; text-transform: uppercase; vertical-align: middle; margin-left: 0.5rem\">GPE</span>\n",
              "</mark>\n",
              " is slowing down over time.</br></br>\n",
              "<mark class=\"entity\" style=\"background: #7aecec; padding: 0.45em 0.6em; margin: 0 0.25em; line-height: 1; border-radius: 0.35em;\">\n",
              "    Dogecoin\n",
              "    <span style=\"font-size: 0.8em; font-weight: bold; line-height: 1; border-radius: 0.35em; text-transform: uppercase; vertical-align: middle; margin-left: 0.5rem\">ORG</span>\n",
              "</mark>\n",
              ", a cryptocurrency that takes its name and logo from a \n",
              "<mark class=\"entity\" style=\"background: #ff8197; padding: 0.45em 0.6em; margin: 0 0.25em; line-height: 1; border-radius: 0.35em;\">\n",
              "    Shiba Inu\n",
              "    <span style=\"font-size: 0.8em; font-weight: bold; line-height: 1; border-radius: 0.35em; text-transform: uppercase; vertical-align: middle; margin-left: 0.5rem\">LAW</span>\n",
              "</mark>\n",
              " meme that was popular \n",
              "<mark class=\"entity\" style=\"background: #bfe1d9; padding: 0.45em 0.6em; margin: 0 0.25em; line-height: 1; border-radius: 0.35em;\">\n",
              "    several years ago\n",
              "    <span style=\"font-size: 0.8em; font-weight: bold; line-height: 1; border-radius: 0.35em; text-transform: uppercase; vertical-align: middle; margin-left: 0.5rem\">DATE</span>\n",
              "</mark>\n",
              ", does not have a cap. Launched in \n",
              "<mark class=\"entity\" style=\"background: #bfe1d9; padding: 0.45em 0.6em; margin: 0 0.25em; line-height: 1; border-radius: 0.35em;\">\n",
              "    2013\n",
              "    <span style=\"font-size: 0.8em; font-weight: bold; line-height: 1; border-radius: 0.35em; text-transform: uppercase; vertical-align: middle; margin-left: 0.5rem\">DATE</span>\n",
              "</mark>\n",
              ", there are now \n",
              "<mark class=\"entity\" style=\"background: #e4e7d2; padding: 0.45em 0.6em; margin: 0 0.25em; line-height: 1; border-radius: 0.35em;\">\n",
              "    100 billion Dogecoin\n",
              "    <span style=\"font-size: 0.8em; font-weight: bold; line-height: 1; border-radius: 0.35em; text-transform: uppercase; vertical-align: middle; margin-left: 0.5rem\">MONEY</span>\n",
              "</mark>\n",
              " in existence, with \n",
              "<mark class=\"entity\" style=\"background: #e4e7d2; padding: 0.45em 0.6em; margin: 0 0.25em; line-height: 1; border-radius: 0.35em;\">\n",
              "    as many as five billion\n",
              "    <span style=\"font-size: 0.8em; font-weight: bold; line-height: 1; border-radius: 0.35em; text-transform: uppercase; vertical-align: middle; margin-left: 0.5rem\">CARDINAL</span>\n",
              "</mark>\n",
              " new coins minted \n",
              "<mark class=\"entity\" style=\"background: #bfe1d9; padding: 0.45em 0.6em; margin: 0 0.25em; line-height: 1; border-radius: 0.35em;\">\n",
              "    each year\n",
              "    <span style=\"font-size: 0.8em; font-weight: bold; line-height: 1; border-radius: 0.35em; text-transform: uppercase; vertical-align: middle; margin-left: 0.5rem\">DATE</span>\n",
              "</mark>\n",
              ".\n",
              "</div></span>"
            ],
            "text/plain": [
              "<IPython.core.display.HTML object>"
            ]
          },
          "metadata": {
            "tags": []
          }
        }
      ]
    },
    {
      "cell_type": "code",
      "metadata": {
        "colab": {
          "base_uri": "https://localhost:8080/"
        },
        "id": "wREDaaV2DXd9",
        "outputId": "79528843-4d2b-4236-a1e4-249fdf7b4f32"
      },
      "source": [
        "for word in doc3:\r\n",
        "  print(word, word.is_stop)"
      ],
      "execution_count": 41,
      "outputs": [
        {
          "output_type": "stream",
          "text": [
            "\n",
            " False\n",
            "One True\n",
            "of True\n",
            "the True\n",
            "most True\n",
            "difficult False\n",
            "problems False\n",
            "in True\n",
            "finance False\n",
            "right False\n",
            "now True\n",
            "is True\n",
            "figuring False\n",
            "out True\n",
            "the True\n",
            "fundamental False\n",
            "economic False\n",
            "value False\n",
            "of True\n",
            "cryptocurrencies False\n",
            ". False\n",
            "And True\n",
            "the True\n",
            "past False\n",
            "week False\n",
            "has True\n",
            "complicated False\n",
            "this True\n",
            "further True\n",
            ". False\n",
            "\n",
            "\n",
            " False\n",
            "For True\n",
            "many True\n",
            "cryptocurrency False\n",
            "investors False\n",
            ", False\n",
            "the True\n",
            "value False\n",
            "of True\n",
            "Bitcoin False\n",
            "is True\n",
            "based False\n",
            "on True\n",
            "the True\n",
            "fact False\n",
            "it True\n",
            "is True\n",
            "artificially False\n",
            "scarce False\n",
            ". False\n",
            "A True\n",
            "hard False\n",
            "cap False\n",
            "on True\n",
            "“ False\n",
            "minting False\n",
            "” False\n",
            "new False\n",
            "coins False\n",
            "means False\n",
            "there True\n",
            "will True\n",
            "only True\n",
            "ever True\n",
            "be True\n",
            "21 False\n",
            "million False\n",
            "Bitcoin False\n",
            "in True\n",
            "existence False\n",
            ". False\n",
            "And True\n",
            "unlike False\n",
            "national False\n",
            "currencies False\n",
            "such True\n",
            "as True\n",
            "the True\n",
            "Australian False\n",
            "dollar False\n",
            ", False\n",
            "the True\n",
            "rate False\n",
            "of True\n",
            "release False\n",
            "for True\n",
            "new False\n",
            "Bitcoin False\n",
            "is True\n",
            "slowing False\n",
            "down True\n",
            "over True\n",
            "time False\n",
            ". False\n",
            "\n",
            "\n",
            " False\n",
            "Dogecoin False\n",
            ", False\n",
            "a True\n",
            "cryptocurrency False\n",
            "that True\n",
            "takes False\n",
            "its True\n",
            "name True\n",
            "and True\n",
            "logo False\n",
            "from True\n",
            "a True\n",
            "Shiba False\n",
            "Inu False\n",
            "meme False\n",
            "that True\n",
            "was True\n",
            "popular False\n",
            "several True\n",
            "years False\n",
            "ago False\n",
            ", False\n",
            "does True\n",
            "not True\n",
            "have True\n",
            "a True\n",
            "cap False\n",
            ". False\n",
            "Launched False\n",
            "in True\n",
            "2013 False\n",
            ", False\n",
            "there True\n",
            "are True\n",
            "now True\n",
            "100 False\n",
            "billion False\n",
            "Dogecoin False\n",
            "in True\n",
            "existence False\n",
            ", False\n",
            "with True\n",
            "as True\n",
            "many True\n",
            "as True\n",
            "five True\n",
            "billion False\n",
            "new False\n",
            "coins False\n",
            "minted False\n",
            "each True\n",
            "year False\n",
            ". False\n",
            "\n",
            " False\n"
          ],
          "name": "stdout"
        }
      ]
    },
    {
      "cell_type": "code",
      "metadata": {
        "colab": {
          "base_uri": "https://localhost:8080/"
        },
        "id": "iU1KjrP1FWv7",
        "outputId": "84077cfa-e456-4e0a-e9c3-c8d5bc75227f"
      },
      "source": [
        "[word for word in doc3 if word.is_stop]"
      ],
      "execution_count": 42,
      "outputs": [
        {
          "output_type": "execute_result",
          "data": {
            "text/plain": [
              "[One,\n",
              " of,\n",
              " the,\n",
              " most,\n",
              " in,\n",
              " now,\n",
              " is,\n",
              " out,\n",
              " the,\n",
              " of,\n",
              " And,\n",
              " the,\n",
              " has,\n",
              " this,\n",
              " further,\n",
              " For,\n",
              " many,\n",
              " the,\n",
              " of,\n",
              " is,\n",
              " on,\n",
              " the,\n",
              " it,\n",
              " is,\n",
              " A,\n",
              " on,\n",
              " there,\n",
              " will,\n",
              " only,\n",
              " ever,\n",
              " be,\n",
              " in,\n",
              " And,\n",
              " such,\n",
              " as,\n",
              " the,\n",
              " the,\n",
              " of,\n",
              " for,\n",
              " is,\n",
              " down,\n",
              " over,\n",
              " a,\n",
              " that,\n",
              " its,\n",
              " name,\n",
              " and,\n",
              " from,\n",
              " a,\n",
              " that,\n",
              " was,\n",
              " several,\n",
              " does,\n",
              " not,\n",
              " have,\n",
              " a,\n",
              " in,\n",
              " there,\n",
              " are,\n",
              " now,\n",
              " in,\n",
              " with,\n",
              " as,\n",
              " many,\n",
              " as,\n",
              " five,\n",
              " each]"
            ]
          },
          "metadata": {
            "tags": []
          },
          "execution_count": 42
        }
      ]
    },
    {
      "cell_type": "code",
      "metadata": {
        "colab": {
          "base_uri": "https://localhost:8080/"
        },
        "id": "2m6LaNySFeuH",
        "outputId": "58b6edc6-4ba7-4775-9ff2-774c4a591e9c"
      },
      "source": [
        "for sent in doc3.sents:\r\n",
        "  print(sent)\r\n",
        "  print(\"********************************\")"
      ],
      "execution_count": 44,
      "outputs": [
        {
          "output_type": "stream",
          "text": [
            "\n",
            "One of the most difficult problems in finance right now is figuring out the fundamental economic value of cryptocurrencies.\n",
            "********************************\n",
            "And the past week has complicated this further.\n",
            "\n",
            "\n",
            "********************************\n",
            "For many cryptocurrency investors, the value of Bitcoin is based on the fact it is artificially scarce.\n",
            "********************************\n",
            "A hard cap on “minting” new coins means there will only ever be 21 million Bitcoin in existence.\n",
            "********************************\n",
            "And unlike national currencies such as the Australian dollar, the rate of release for new Bitcoin is slowing down over time.\n",
            "\n",
            "\n",
            "********************************\n",
            "Dogecoin, a cryptocurrency that takes its name and logo from a Shiba Inu meme that was popular several years ago, does not have a cap.\n",
            "********************************\n",
            "Launched in 2013, there are now 100 billion Dogecoin in existence, with as many as five billion new coins minted each year.\n",
            "\n",
            "********************************\n"
          ],
          "name": "stdout"
        }
      ]
    },
    {
      "cell_type": "code",
      "metadata": {
        "id": "byyZXYERFtHw"
      },
      "source": [
        "non_stop_words = []\r\n",
        "for word in doc3:\r\n",
        "  if word.is_stop == False:\r\n",
        "    non_stop_words.append(word.text)"
      ],
      "execution_count": 51,
      "outputs": []
    },
    {
      "cell_type": "code",
      "metadata": {
        "colab": {
          "base_uri": "https://localhost:8080/"
        },
        "id": "gSCD-_msGA93",
        "outputId": "b6dcf083-c95f-4271-80a2-cdaba516ea21"
      },
      "source": [
        "len(non_stop_words)"
      ],
      "execution_count": 52,
      "outputs": [
        {
          "output_type": "execute_result",
          "data": {
            "text/plain": [
              "82"
            ]
          },
          "metadata": {
            "tags": []
          },
          "execution_count": 52
        }
      ]
    },
    {
      "cell_type": "code",
      "metadata": {
        "id": "CxSkEHh0GCib"
      },
      "source": [
        "non_stop_words_and_no_punct = []\r\n",
        "for word in doc3:\r\n",
        "  if word.is_stop == False:\r\n",
        "    if word.is_punct == False:\r\n",
        "      non_stop_words_and_no_punct.append(word.text)"
      ],
      "execution_count": 68,
      "outputs": []
    },
    {
      "cell_type": "code",
      "metadata": {
        "colab": {
          "base_uri": "https://localhost:8080/"
        },
        "id": "fYwytiUDGDWU",
        "outputId": "21fbd304-257f-488c-81eb-d7d27a4c7057"
      },
      "source": [
        "len(non_stop_words_and_no_punct)"
      ],
      "execution_count": 69,
      "outputs": [
        {
          "output_type": "execute_result",
          "data": {
            "text/plain": [
              "67"
            ]
          },
          "metadata": {
            "tags": []
          },
          "execution_count": 69
        }
      ]
    },
    {
      "cell_type": "code",
      "metadata": {
        "colab": {
          "base_uri": "https://localhost:8080/"
        },
        "id": "MLqGBSP9GOfc",
        "outputId": "02bd1e49-4a99-40d7-b863-5be78b23aad2"
      },
      "source": [
        "non_stop_words_and_no_punct = [word  for word in non_stop_words_and_no_punct if word.startswith(\"\\n\")==False]\r\n",
        "non_stop_words_and_no_punct"
      ],
      "execution_count": 70,
      "outputs": [
        {
          "output_type": "execute_result",
          "data": {
            "text/plain": [
              "['difficult',\n",
              " 'problems',\n",
              " 'finance',\n",
              " 'right',\n",
              " 'figuring',\n",
              " 'fundamental',\n",
              " 'economic',\n",
              " 'value',\n",
              " 'cryptocurrencies',\n",
              " 'past',\n",
              " 'week',\n",
              " 'complicated',\n",
              " 'cryptocurrency',\n",
              " 'investors',\n",
              " 'value',\n",
              " 'Bitcoin',\n",
              " 'based',\n",
              " 'fact',\n",
              " 'artificially',\n",
              " 'scarce',\n",
              " 'hard',\n",
              " 'cap',\n",
              " 'minting',\n",
              " 'new',\n",
              " 'coins',\n",
              " 'means',\n",
              " '21',\n",
              " 'million',\n",
              " 'Bitcoin',\n",
              " 'existence',\n",
              " 'unlike',\n",
              " 'national',\n",
              " 'currencies',\n",
              " 'Australian',\n",
              " 'dollar',\n",
              " 'rate',\n",
              " 'release',\n",
              " 'new',\n",
              " 'Bitcoin',\n",
              " 'slowing',\n",
              " 'time',\n",
              " 'Dogecoin',\n",
              " 'cryptocurrency',\n",
              " 'takes',\n",
              " 'logo',\n",
              " 'Shiba',\n",
              " 'Inu',\n",
              " 'meme',\n",
              " 'popular',\n",
              " 'years',\n",
              " 'ago',\n",
              " 'cap',\n",
              " 'Launched',\n",
              " '2013',\n",
              " '100',\n",
              " 'billion',\n",
              " 'Dogecoin',\n",
              " 'existence',\n",
              " 'billion',\n",
              " 'new',\n",
              " 'coins',\n",
              " 'minted',\n",
              " 'year']"
            ]
          },
          "metadata": {
            "tags": []
          },
          "execution_count": 70
        }
      ]
    },
    {
      "cell_type": "code",
      "metadata": {
        "id": "vQpWjQF1GeOr"
      },
      "source": [
        "from collections import Counter"
      ],
      "execution_count": 71,
      "outputs": []
    },
    {
      "cell_type": "code",
      "metadata": {
        "id": "fWn4MGucHL0f"
      },
      "source": [
        "c = Counter(non_stop_words_and_no_punct)"
      ],
      "execution_count": 72,
      "outputs": []
    },
    {
      "cell_type": "code",
      "metadata": {
        "colab": {
          "base_uri": "https://localhost:8080/"
        },
        "id": "DeFD07AqHO-X",
        "outputId": "b1fac2d0-c1a7-4b7c-be2a-d5231712d64b"
      },
      "source": [
        "c.most_common(5)"
      ],
      "execution_count": 73,
      "outputs": [
        {
          "output_type": "execute_result",
          "data": {
            "text/plain": [
              "[('Bitcoin', 3), ('new', 3), ('value', 2), ('cryptocurrency', 2), ('cap', 2)]"
            ]
          },
          "metadata": {
            "tags": []
          },
          "execution_count": 73
        }
      ]
    },
    {
      "cell_type": "code",
      "metadata": {
        "colab": {
          "base_uri": "https://localhost:8080/"
        },
        "id": "MWnAbPrmHRCs",
        "outputId": "0b6eeb46-88a7-4dce-dd19-fef3660bd09c"
      },
      "source": [
        "# See all stopwords\r\n",
        "print(nlp.Defaults.stop_words)"
      ],
      "execution_count": 75,
      "outputs": [
        {
          "output_type": "stream",
          "text": [
            "{'mostly', 'no', 'in', 'thence', 'though', 'have', 'sometime', 'forty', 'whereas', 'doing', 'thereby', 'somehow', 'you', 'hers', 'five', 'or', 'out', 'yourself', \"'re\", '’ve', 'become', 'perhaps', 'still', 'we', 'when', 'had', 'along', 'whither', 'whose', 'every', 'enough', 'except', 'regarding', 'did', 'used', 'amongst', 'such', 'but', 'full', 'per', \"'s\", 'at', 'sixty', 'nevertheless', 'beyond', 'others', 'thereafter', 'yourselves', 'own', \"n't\", 'several', 'whoever', 'something', 'until', 'who', 'well', 'eight', 'a', 'nobody', 'first', 'been', 'neither', '‘m', 'former', 'hence', 'more', 'although', 'into', 'here', 'might', 'then', 'fifteen', '‘s', 'only', 'made', 'if', 'four', 'with', 'n’t', 'around', 'her', 'anyone', 'the', 'side', 'another', 'often', 'over', 'throughout', 'within', \"'m\", \"'ve\", 'almost', 'am', 'anywhere', 'get', 'not', 'seems', 'and', 'must', 'yet', '’d', 'anyway', 'as', 'should', 'upon', 'became', 'even', 'each', 'also', 'than', 'seem', 'on', 'up', 'among', 'rather', 'thus', 'i', 'using', 'hereby', 'whatever', 'before', 'back', 'somewhere', 'third', 'whence', 'him', 'call', 'few', 'some', 'myself', 'once', 'she', 'it', 'too', 'would', 'alone', 'your', 'beforehand', 'anything', '‘d', 'an', 'its', 'therefore', 'toward', 'herein', 'those', 'unless', 'below', 'why', 'their', 'next', 'there', 'further', 'could', 'them', 'done', 'nothing', 'go', 'through', 'from', 'keep', '’ll', 'will', '’m', 'either', 'three', 'whereupon', 'nowhere', '’re', 'quite', 'ca', 'between', 'someone', 'whole', 'becoming', 'do', 'amount', 'can', 'herself', 'meanwhile', 'of', 'sometimes', 'give', 'becomes', 'ourselves', 'seemed', 'hereupon', 'show', 'therein', 'whereby', 'without', 'ever', 'latter', 'else', 'fifty', 'most', 'my', 'together', 'whenever', 'eleven', 'one', 'cannot', 'take', 'because', 'bottom', 'by', 'many', 'our', 'to', 'mine', 'hereafter', 'any', 'however', 'other', 'via', 'being', 'where', 'much', 'yours', 'be', 'his', 'two', '‘ve', 'same', 'onto', 'so', '’s', 'against', 'last', 'make', 'namely', 'none', 'n‘t', '‘re', 'anyhow', 'seeming', 'moreover', 'itself', 'what', 'during', 'this', 'himself', 'us', 'ours', 'about', 'elsewhere', 'very', 'due', 'least', 'whom', 'above', 'across', 'he', 'was', 'after', 'besides', 'are', 'just', 'serious', 'again', 'were', 'everywhere', 'always', 'otherwise', 'already', 'please', 'twelve', 'all', \"'ll\", 'top', 'whereafter', 'indeed', 'does', 'everything', 'nor', 'how', 'front', 'off', 'part', 'they', 'for', 'which', '‘ll', 'down', 'formerly', 'move', \"'d\", 'less', 'twenty', 'everyone', 'since', 'while', 'see', 're', 'under', 'has', 'ten', 'afterwards', 'nine', 'say', 'behind', 'put', 'name', 'now', 'beside', 'hundred', 'wherein', 'is', 'may', 'really', 'themselves', 'both', 'towards', 'never', 'whether', 'noone', 'me', 'these', 'thru', 'various', 'latterly', 'wherever', 'thereupon', 'that', 'six', 'empty'}\n"
          ],
          "name": "stdout"
        }
      ]
    },
    {
      "cell_type": "code",
      "metadata": {
        "colab": {
          "base_uri": "https://localhost:8080/"
        },
        "id": "SjarxzDpH5zp",
        "outputId": "edccccb1-76ac-4dfd-c56c-dd2b2b134c52"
      },
      "source": [
        "for word in doc3:\r\n",
        "  print(word.text, word.pos_)"
      ],
      "execution_count": 79,
      "outputs": [
        {
          "output_type": "stream",
          "text": [
            "\n",
            " SPACE\n",
            "One NUM\n",
            "of ADP\n",
            "the DET\n",
            "most ADV\n",
            "difficult ADJ\n",
            "problems NOUN\n",
            "in ADP\n",
            "finance NOUN\n",
            "right ADV\n",
            "now ADV\n",
            "is AUX\n",
            "figuring VERB\n",
            "out ADP\n",
            "the DET\n",
            "fundamental ADJ\n",
            "economic ADJ\n",
            "value NOUN\n",
            "of ADP\n",
            "cryptocurrencies NOUN\n",
            ". PUNCT\n",
            "And CCONJ\n",
            "the DET\n",
            "past ADJ\n",
            "week NOUN\n",
            "has AUX\n",
            "complicated VERB\n",
            "this DET\n",
            "further ADV\n",
            ". PUNCT\n",
            "\n",
            "\n",
            " SPACE\n",
            "For ADP\n",
            "many ADJ\n",
            "cryptocurrency NOUN\n",
            "investors NOUN\n",
            ", PUNCT\n",
            "the DET\n",
            "value NOUN\n",
            "of ADP\n",
            "Bitcoin PROPN\n",
            "is AUX\n",
            "based VERB\n",
            "on ADP\n",
            "the DET\n",
            "fact NOUN\n",
            "it PRON\n",
            "is AUX\n",
            "artificially ADV\n",
            "scarce ADJ\n",
            ". PUNCT\n",
            "A DET\n",
            "hard ADJ\n",
            "cap NOUN\n",
            "on ADP\n",
            "“ PUNCT\n",
            "minting VERB\n",
            "” PUNCT\n",
            "new ADJ\n",
            "coins NOUN\n",
            "means VERB\n",
            "there PRON\n",
            "will VERB\n",
            "only ADV\n",
            "ever ADV\n",
            "be AUX\n",
            "21 NUM\n",
            "million NUM\n",
            "Bitcoin PROPN\n",
            "in ADP\n",
            "existence NOUN\n",
            ". PUNCT\n",
            "And CCONJ\n",
            "unlike ADP\n",
            "national ADJ\n",
            "currencies NOUN\n",
            "such ADJ\n",
            "as SCONJ\n",
            "the DET\n",
            "Australian ADJ\n",
            "dollar NOUN\n",
            ", PUNCT\n",
            "the DET\n",
            "rate NOUN\n",
            "of ADP\n",
            "release NOUN\n",
            "for ADP\n",
            "new ADJ\n",
            "Bitcoin PROPN\n",
            "is AUX\n",
            "slowing VERB\n",
            "down ADP\n",
            "over ADP\n",
            "time NOUN\n",
            ". PUNCT\n",
            "\n",
            "\n",
            " SPACE\n",
            "Dogecoin PROPN\n",
            ", PUNCT\n",
            "a DET\n",
            "cryptocurrency NOUN\n",
            "that DET\n",
            "takes VERB\n",
            "its DET\n",
            "name NOUN\n",
            "and CCONJ\n",
            "logo NOUN\n",
            "from ADP\n",
            "a DET\n",
            "Shiba PROPN\n",
            "Inu PROPN\n",
            "meme NOUN\n",
            "that DET\n",
            "was AUX\n",
            "popular ADJ\n",
            "several ADJ\n",
            "years NOUN\n",
            "ago ADV\n",
            ", PUNCT\n",
            "does AUX\n",
            "not PART\n",
            "have AUX\n",
            "a DET\n",
            "cap NOUN\n",
            ". PUNCT\n",
            "Launched VERB\n",
            "in ADP\n",
            "2013 NUM\n",
            ", PUNCT\n",
            "there PRON\n",
            "are AUX\n",
            "now ADV\n",
            "100 NUM\n",
            "billion NUM\n",
            "Dogecoin PROPN\n",
            "in ADP\n",
            "existence NOUN\n",
            ", PUNCT\n",
            "with ADP\n",
            "as ADV\n",
            "many ADJ\n",
            "as SCONJ\n",
            "five NUM\n",
            "billion NUM\n",
            "new ADJ\n",
            "coins NOUN\n",
            "minted VERB\n",
            "each DET\n",
            "year NOUN\n",
            ". PUNCT\n",
            "\n",
            " SPACE\n"
          ],
          "name": "stdout"
        }
      ]
    },
    {
      "cell_type": "code",
      "metadata": {
        "id": "waKQLH1FJhul"
      },
      "source": [
        "doc4 = nlp(\"Sam is a wonderful guy, he is a good actor too.\")"
      ],
      "execution_count": 81,
      "outputs": []
    },
    {
      "cell_type": "code",
      "metadata": {
        "colab": {
          "base_uri": "https://localhost:8080/",
          "height": 615
        },
        "id": "lDJDtaQRJ8B6",
        "outputId": "82146d05-7154-4898-f78c-f9c6b09428f4"
      },
      "source": [
        "spacy.displacy.render(doc4, style=\"dep\", jupyter=True)"
      ],
      "execution_count": 82,
      "outputs": [
        {
          "output_type": "display_data",
          "data": {
            "text/html": [
              "<span class=\"tex2jax_ignore\"><svg xmlns=\"http://www.w3.org/2000/svg\" xmlns:xlink=\"http://www.w3.org/1999/xlink\" xml:lang=\"en\" id=\"fa4d8de043e94e6684f0720fc6cf97be-0\" class=\"displacy\" width=\"1975\" height=\"574.5\" direction=\"ltr\" style=\"max-width: none; height: 574.5px; color: #000000; background: #ffffff; font-family: Arial; direction: ltr\">\n",
              "<text class=\"displacy-token\" fill=\"currentColor\" text-anchor=\"middle\" y=\"484.5\">\n",
              "    <tspan class=\"displacy-word\" fill=\"currentColor\" x=\"50\">Sam</tspan>\n",
              "    <tspan class=\"displacy-tag\" dy=\"2em\" fill=\"currentColor\" x=\"50\">PROPN</tspan>\n",
              "</text>\n",
              "\n",
              "<text class=\"displacy-token\" fill=\"currentColor\" text-anchor=\"middle\" y=\"484.5\">\n",
              "    <tspan class=\"displacy-word\" fill=\"currentColor\" x=\"225\">is</tspan>\n",
              "    <tspan class=\"displacy-tag\" dy=\"2em\" fill=\"currentColor\" x=\"225\">AUX</tspan>\n",
              "</text>\n",
              "\n",
              "<text class=\"displacy-token\" fill=\"currentColor\" text-anchor=\"middle\" y=\"484.5\">\n",
              "    <tspan class=\"displacy-word\" fill=\"currentColor\" x=\"400\">a</tspan>\n",
              "    <tspan class=\"displacy-tag\" dy=\"2em\" fill=\"currentColor\" x=\"400\">DET</tspan>\n",
              "</text>\n",
              "\n",
              "<text class=\"displacy-token\" fill=\"currentColor\" text-anchor=\"middle\" y=\"484.5\">\n",
              "    <tspan class=\"displacy-word\" fill=\"currentColor\" x=\"575\">wonderful</tspan>\n",
              "    <tspan class=\"displacy-tag\" dy=\"2em\" fill=\"currentColor\" x=\"575\">ADJ</tspan>\n",
              "</text>\n",
              "\n",
              "<text class=\"displacy-token\" fill=\"currentColor\" text-anchor=\"middle\" y=\"484.5\">\n",
              "    <tspan class=\"displacy-word\" fill=\"currentColor\" x=\"750\">guy,</tspan>\n",
              "    <tspan class=\"displacy-tag\" dy=\"2em\" fill=\"currentColor\" x=\"750\">NOUN</tspan>\n",
              "</text>\n",
              "\n",
              "<text class=\"displacy-token\" fill=\"currentColor\" text-anchor=\"middle\" y=\"484.5\">\n",
              "    <tspan class=\"displacy-word\" fill=\"currentColor\" x=\"925\">he</tspan>\n",
              "    <tspan class=\"displacy-tag\" dy=\"2em\" fill=\"currentColor\" x=\"925\">PRON</tspan>\n",
              "</text>\n",
              "\n",
              "<text class=\"displacy-token\" fill=\"currentColor\" text-anchor=\"middle\" y=\"484.5\">\n",
              "    <tspan class=\"displacy-word\" fill=\"currentColor\" x=\"1100\">is</tspan>\n",
              "    <tspan class=\"displacy-tag\" dy=\"2em\" fill=\"currentColor\" x=\"1100\">AUX</tspan>\n",
              "</text>\n",
              "\n",
              "<text class=\"displacy-token\" fill=\"currentColor\" text-anchor=\"middle\" y=\"484.5\">\n",
              "    <tspan class=\"displacy-word\" fill=\"currentColor\" x=\"1275\">a</tspan>\n",
              "    <tspan class=\"displacy-tag\" dy=\"2em\" fill=\"currentColor\" x=\"1275\">DET</tspan>\n",
              "</text>\n",
              "\n",
              "<text class=\"displacy-token\" fill=\"currentColor\" text-anchor=\"middle\" y=\"484.5\">\n",
              "    <tspan class=\"displacy-word\" fill=\"currentColor\" x=\"1450\">good</tspan>\n",
              "    <tspan class=\"displacy-tag\" dy=\"2em\" fill=\"currentColor\" x=\"1450\">ADJ</tspan>\n",
              "</text>\n",
              "\n",
              "<text class=\"displacy-token\" fill=\"currentColor\" text-anchor=\"middle\" y=\"484.5\">\n",
              "    <tspan class=\"displacy-word\" fill=\"currentColor\" x=\"1625\">actor</tspan>\n",
              "    <tspan class=\"displacy-tag\" dy=\"2em\" fill=\"currentColor\" x=\"1625\">NOUN</tspan>\n",
              "</text>\n",
              "\n",
              "<text class=\"displacy-token\" fill=\"currentColor\" text-anchor=\"middle\" y=\"484.5\">\n",
              "    <tspan class=\"displacy-word\" fill=\"currentColor\" x=\"1800\">too.</tspan>\n",
              "    <tspan class=\"displacy-tag\" dy=\"2em\" fill=\"currentColor\" x=\"1800\">ADV</tspan>\n",
              "</text>\n",
              "\n",
              "<g class=\"displacy-arrow\">\n",
              "    <path class=\"displacy-arc\" id=\"arrow-fa4d8de043e94e6684f0720fc6cf97be-0-0\" stroke-width=\"2px\" d=\"M70,439.5 C70,352.0 205.0,352.0 205.0,439.5\" fill=\"none\" stroke=\"currentColor\"/>\n",
              "    <text dy=\"1.25em\" style=\"font-size: 0.8em; letter-spacing: 1px\">\n",
              "        <textPath xlink:href=\"#arrow-fa4d8de043e94e6684f0720fc6cf97be-0-0\" class=\"displacy-label\" startOffset=\"50%\" side=\"left\" fill=\"currentColor\" text-anchor=\"middle\">nsubj</textPath>\n",
              "    </text>\n",
              "    <path class=\"displacy-arrowhead\" d=\"M70,441.5 L62,429.5 78,429.5\" fill=\"currentColor\"/>\n",
              "</g>\n",
              "\n",
              "<g class=\"displacy-arrow\">\n",
              "    <path class=\"displacy-arc\" id=\"arrow-fa4d8de043e94e6684f0720fc6cf97be-0-1\" stroke-width=\"2px\" d=\"M245,439.5 C245,2.0 1100.0,2.0 1100.0,439.5\" fill=\"none\" stroke=\"currentColor\"/>\n",
              "    <text dy=\"1.25em\" style=\"font-size: 0.8em; letter-spacing: 1px\">\n",
              "        <textPath xlink:href=\"#arrow-fa4d8de043e94e6684f0720fc6cf97be-0-1\" class=\"displacy-label\" startOffset=\"50%\" side=\"left\" fill=\"currentColor\" text-anchor=\"middle\">ccomp</textPath>\n",
              "    </text>\n",
              "    <path class=\"displacy-arrowhead\" d=\"M245,441.5 L237,429.5 253,429.5\" fill=\"currentColor\"/>\n",
              "</g>\n",
              "\n",
              "<g class=\"displacy-arrow\">\n",
              "    <path class=\"displacy-arc\" id=\"arrow-fa4d8de043e94e6684f0720fc6cf97be-0-2\" stroke-width=\"2px\" d=\"M420,439.5 C420,264.5 735.0,264.5 735.0,439.5\" fill=\"none\" stroke=\"currentColor\"/>\n",
              "    <text dy=\"1.25em\" style=\"font-size: 0.8em; letter-spacing: 1px\">\n",
              "        <textPath xlink:href=\"#arrow-fa4d8de043e94e6684f0720fc6cf97be-0-2\" class=\"displacy-label\" startOffset=\"50%\" side=\"left\" fill=\"currentColor\" text-anchor=\"middle\">det</textPath>\n",
              "    </text>\n",
              "    <path class=\"displacy-arrowhead\" d=\"M420,441.5 L412,429.5 428,429.5\" fill=\"currentColor\"/>\n",
              "</g>\n",
              "\n",
              "<g class=\"displacy-arrow\">\n",
              "    <path class=\"displacy-arc\" id=\"arrow-fa4d8de043e94e6684f0720fc6cf97be-0-3\" stroke-width=\"2px\" d=\"M595,439.5 C595,352.0 730.0,352.0 730.0,439.5\" fill=\"none\" stroke=\"currentColor\"/>\n",
              "    <text dy=\"1.25em\" style=\"font-size: 0.8em; letter-spacing: 1px\">\n",
              "        <textPath xlink:href=\"#arrow-fa4d8de043e94e6684f0720fc6cf97be-0-3\" class=\"displacy-label\" startOffset=\"50%\" side=\"left\" fill=\"currentColor\" text-anchor=\"middle\">amod</textPath>\n",
              "    </text>\n",
              "    <path class=\"displacy-arrowhead\" d=\"M595,441.5 L587,429.5 603,429.5\" fill=\"currentColor\"/>\n",
              "</g>\n",
              "\n",
              "<g class=\"displacy-arrow\">\n",
              "    <path class=\"displacy-arc\" id=\"arrow-fa4d8de043e94e6684f0720fc6cf97be-0-4\" stroke-width=\"2px\" d=\"M245,439.5 C245,177.0 740.0,177.0 740.0,439.5\" fill=\"none\" stroke=\"currentColor\"/>\n",
              "    <text dy=\"1.25em\" style=\"font-size: 0.8em; letter-spacing: 1px\">\n",
              "        <textPath xlink:href=\"#arrow-fa4d8de043e94e6684f0720fc6cf97be-0-4\" class=\"displacy-label\" startOffset=\"50%\" side=\"left\" fill=\"currentColor\" text-anchor=\"middle\">attr</textPath>\n",
              "    </text>\n",
              "    <path class=\"displacy-arrowhead\" d=\"M740.0,441.5 L748.0,429.5 732.0,429.5\" fill=\"currentColor\"/>\n",
              "</g>\n",
              "\n",
              "<g class=\"displacy-arrow\">\n",
              "    <path class=\"displacy-arc\" id=\"arrow-fa4d8de043e94e6684f0720fc6cf97be-0-5\" stroke-width=\"2px\" d=\"M945,439.5 C945,352.0 1080.0,352.0 1080.0,439.5\" fill=\"none\" stroke=\"currentColor\"/>\n",
              "    <text dy=\"1.25em\" style=\"font-size: 0.8em; letter-spacing: 1px\">\n",
              "        <textPath xlink:href=\"#arrow-fa4d8de043e94e6684f0720fc6cf97be-0-5\" class=\"displacy-label\" startOffset=\"50%\" side=\"left\" fill=\"currentColor\" text-anchor=\"middle\">nsubj</textPath>\n",
              "    </text>\n",
              "    <path class=\"displacy-arrowhead\" d=\"M945,441.5 L937,429.5 953,429.5\" fill=\"currentColor\"/>\n",
              "</g>\n",
              "\n",
              "<g class=\"displacy-arrow\">\n",
              "    <path class=\"displacy-arc\" id=\"arrow-fa4d8de043e94e6684f0720fc6cf97be-0-6\" stroke-width=\"2px\" d=\"M1295,439.5 C1295,264.5 1610.0,264.5 1610.0,439.5\" fill=\"none\" stroke=\"currentColor\"/>\n",
              "    <text dy=\"1.25em\" style=\"font-size: 0.8em; letter-spacing: 1px\">\n",
              "        <textPath xlink:href=\"#arrow-fa4d8de043e94e6684f0720fc6cf97be-0-6\" class=\"displacy-label\" startOffset=\"50%\" side=\"left\" fill=\"currentColor\" text-anchor=\"middle\">det</textPath>\n",
              "    </text>\n",
              "    <path class=\"displacy-arrowhead\" d=\"M1295,441.5 L1287,429.5 1303,429.5\" fill=\"currentColor\"/>\n",
              "</g>\n",
              "\n",
              "<g class=\"displacy-arrow\">\n",
              "    <path class=\"displacy-arc\" id=\"arrow-fa4d8de043e94e6684f0720fc6cf97be-0-7\" stroke-width=\"2px\" d=\"M1470,439.5 C1470,352.0 1605.0,352.0 1605.0,439.5\" fill=\"none\" stroke=\"currentColor\"/>\n",
              "    <text dy=\"1.25em\" style=\"font-size: 0.8em; letter-spacing: 1px\">\n",
              "        <textPath xlink:href=\"#arrow-fa4d8de043e94e6684f0720fc6cf97be-0-7\" class=\"displacy-label\" startOffset=\"50%\" side=\"left\" fill=\"currentColor\" text-anchor=\"middle\">amod</textPath>\n",
              "    </text>\n",
              "    <path class=\"displacy-arrowhead\" d=\"M1470,441.5 L1462,429.5 1478,429.5\" fill=\"currentColor\"/>\n",
              "</g>\n",
              "\n",
              "<g class=\"displacy-arrow\">\n",
              "    <path class=\"displacy-arc\" id=\"arrow-fa4d8de043e94e6684f0720fc6cf97be-0-8\" stroke-width=\"2px\" d=\"M1120,439.5 C1120,177.0 1615.0,177.0 1615.0,439.5\" fill=\"none\" stroke=\"currentColor\"/>\n",
              "    <text dy=\"1.25em\" style=\"font-size: 0.8em; letter-spacing: 1px\">\n",
              "        <textPath xlink:href=\"#arrow-fa4d8de043e94e6684f0720fc6cf97be-0-8\" class=\"displacy-label\" startOffset=\"50%\" side=\"left\" fill=\"currentColor\" text-anchor=\"middle\">attr</textPath>\n",
              "    </text>\n",
              "    <path class=\"displacy-arrowhead\" d=\"M1615.0,441.5 L1623.0,429.5 1607.0,429.5\" fill=\"currentColor\"/>\n",
              "</g>\n",
              "\n",
              "<g class=\"displacy-arrow\">\n",
              "    <path class=\"displacy-arc\" id=\"arrow-fa4d8de043e94e6684f0720fc6cf97be-0-9\" stroke-width=\"2px\" d=\"M1120,439.5 C1120,89.5 1795.0,89.5 1795.0,439.5\" fill=\"none\" stroke=\"currentColor\"/>\n",
              "    <text dy=\"1.25em\" style=\"font-size: 0.8em; letter-spacing: 1px\">\n",
              "        <textPath xlink:href=\"#arrow-fa4d8de043e94e6684f0720fc6cf97be-0-9\" class=\"displacy-label\" startOffset=\"50%\" side=\"left\" fill=\"currentColor\" text-anchor=\"middle\">advmod</textPath>\n",
              "    </text>\n",
              "    <path class=\"displacy-arrowhead\" d=\"M1795.0,441.5 L1803.0,429.5 1787.0,429.5\" fill=\"currentColor\"/>\n",
              "</g>\n",
              "</svg></span>"
            ],
            "text/plain": [
              "<IPython.core.display.HTML object>"
            ]
          },
          "metadata": {
            "tags": []
          }
        }
      ]
    },
    {
      "cell_type": "code",
      "metadata": {
        "id": "2Cxv7DaaKB9N"
      },
      "source": [
        "a = nlp(\"Apple\")\r\n",
        "g = nlp(\"Google\")\r\n",
        "f = nlp(\"Facebook\")\r\n",
        "s = nlp(\"Spotify\")"
      ],
      "execution_count": 83,
      "outputs": []
    },
    {
      "cell_type": "code",
      "metadata": {
        "colab": {
          "base_uri": "https://localhost:8080/"
        },
        "id": "w3Pcb4zSKzrF",
        "outputId": "75e35659-b129-43be-8900-3c7c8522aac4"
      },
      "source": [
        "a.similarity(g), a.similarity(f), a.similarity(s)  # Distance between these points"
      ],
      "execution_count": 84,
      "outputs": [
        {
          "output_type": "execute_result",
          "data": {
            "text/plain": [
              "(0.45252646115676337, 0.3428470190946878, 0.2714729550267788)"
            ]
          },
          "metadata": {
            "tags": []
          },
          "execution_count": 84
        }
      ]
    },
    {
      "cell_type": "code",
      "metadata": {
        "colab": {
          "base_uri": "https://localhost:8080/"
        },
        "id": "EuFU8xpnK7EI",
        "outputId": "3101fbbe-1bfb-42b4-98d8-f7c2cdca90ed"
      },
      "source": [
        "nlp(\"Google is a very good company\").similarity(nlp(\"Google is awesome\"))"
      ],
      "execution_count": 88,
      "outputs": [
        {
          "output_type": "execute_result",
          "data": {
            "text/plain": [
              "0.8426915035493286"
            ]
          },
          "metadata": {
            "tags": []
          },
          "execution_count": 88
        }
      ]
    },
    {
      "cell_type": "code",
      "metadata": {
        "id": "taaoCN5nLMUE"
      },
      "source": [
        "# Food is awesome\r\n",
        "# Delivery is bad"
      ],
      "execution_count": null,
      "outputs": []
    },
    {
      "cell_type": "code",
      "metadata": {
        "id": "0PC_J2hUUXWX"
      },
      "source": [
        "nlp(\"Food was awesome\").vector"
      ],
      "execution_count": null,
      "outputs": []
    },
    {
      "cell_type": "code",
      "metadata": {
        "colab": {
          "base_uri": "https://localhost:8080/"
        },
        "id": "bUns3zGiLwkK",
        "outputId": "309b0d00-6650-4e11-a002-566f384168af"
      },
      "source": [
        "nlp(\"Food was awesome\").similarity(nlp(\"Delivery is bad\"))"
      ],
      "execution_count": 89,
      "outputs": [
        {
          "output_type": "execute_result",
          "data": {
            "text/plain": [
              "0.6666713351839578"
            ]
          },
          "metadata": {
            "tags": []
          },
          "execution_count": 89
        }
      ]
    },
    {
      "cell_type": "code",
      "metadata": {
        "id": "GXOIiCtQL1kp"
      },
      "source": [
        "g = nlp(\"Google\")"
      ],
      "execution_count": 91,
      "outputs": []
    },
    {
      "cell_type": "code",
      "metadata": {
        "colab": {
          "base_uri": "https://localhost:8080/"
        },
        "id": "CFamcUpvMHYE",
        "outputId": "09e4eba5-a9b9-4f8e-9928-e765fd2bbabd"
      },
      "source": [
        "g.vector.shape"
      ],
      "execution_count": 93,
      "outputs": [
        {
          "output_type": "execute_result",
          "data": {
            "text/plain": [
              "(300,)"
            ]
          },
          "metadata": {
            "tags": []
          },
          "execution_count": 93
        }
      ]
    },
    {
      "cell_type": "code",
      "metadata": {
        "id": "sw5TLao5QTmc"
      },
      "source": [
        "g.vector, f.vector"
      ],
      "execution_count": null,
      "outputs": []
    },
    {
      "cell_type": "code",
      "metadata": {
        "id": "qbh-PtB4MMGD"
      },
      "source": [
        "import numpy as np"
      ],
      "execution_count": 94,
      "outputs": []
    },
    {
      "cell_type": "code",
      "metadata": {
        "colab": {
          "base_uri": "https://localhost:8080/"
        },
        "id": "Nh78nX5NN182",
        "outputId": "6514a7e4-ee7d-4d02-d8a0-896ae8b3a438"
      },
      "source": [
        "np_a = np.random.rand(10)\r\n",
        "print(np_a)\r\n",
        "print(np_a.shape)"
      ],
      "execution_count": 99,
      "outputs": [
        {
          "output_type": "stream",
          "text": [
            "[0.86561055 0.49256484 0.4351087  0.01256148 0.74790385 0.77089955\n",
            " 0.53280839 0.52105834 0.27733225 0.03876138]\n",
            "(10,)\n"
          ],
          "name": "stdout"
        }
      ]
    },
    {
      "cell_type": "markdown",
      "metadata": {
        "id": "rkU08c_UOocz"
      },
      "source": [
        "<img src=\"https://miro.medium.com/max/3902/1*hELlVp9hmZbDZVFstS61pg.png\">"
      ]
    },
    {
      "cell_type": "code",
      "metadata": {
        "id": "g6KJCJ61N44h"
      },
      "source": [
        "import nltk"
      ],
      "execution_count": 101,
      "outputs": []
    },
    {
      "cell_type": "code",
      "metadata": {
        "colab": {
          "base_uri": "https://localhost:8080/"
        },
        "id": "ViGSsfG0Rak3",
        "outputId": "adc7cf7b-5541-4912-c0d6-3f9a94236e45"
      },
      "source": [
        "nltk.download(\"stem\")"
      ],
      "execution_count": 103,
      "outputs": [
        {
          "output_type": "stream",
          "text": [
            "[nltk_data] Error loading stem: Package 'stem' not found in index\n"
          ],
          "name": "stdout"
        },
        {
          "output_type": "execute_result",
          "data": {
            "text/plain": [
              "False"
            ]
          },
          "metadata": {
            "tags": []
          },
          "execution_count": 103
        }
      ]
    },
    {
      "cell_type": "code",
      "metadata": {
        "colab": {
          "base_uri": "https://localhost:8080/",
          "height": 35
        },
        "id": "3UsqKgFZQ3K0",
        "outputId": "36a9b103-191e-4261-8ef7-6ef6875c70cc"
      },
      "source": [
        "ps = nltk.stem.PorterStemmer()\r\n",
        "ps.stem(\"fishing\")"
      ],
      "execution_count": 107,
      "outputs": [
        {
          "output_type": "execute_result",
          "data": {
            "application/vnd.google.colaboratory.intrinsic+json": {
              "type": "string"
            },
            "text/plain": [
              "'fish'"
            ]
          },
          "metadata": {
            "tags": []
          },
          "execution_count": 107
        }
      ]
    },
    {
      "cell_type": "code",
      "metadata": {
        "colab": {
          "base_uri": "https://localhost:8080/",
          "height": 35
        },
        "id": "SR1qG7H0RYPd",
        "outputId": "850c6ad3-0e7e-42db-8059-db1a204c00e9"
      },
      "source": [
        "ps.stem(\"fished\")"
      ],
      "execution_count": 109,
      "outputs": [
        {
          "output_type": "execute_result",
          "data": {
            "application/vnd.google.colaboratory.intrinsic+json": {
              "type": "string"
            },
            "text/plain": [
              "'fish'"
            ]
          },
          "metadata": {
            "tags": []
          },
          "execution_count": 109
        }
      ]
    },
    {
      "cell_type": "code",
      "metadata": {
        "colab": {
          "base_uri": "https://localhost:8080/",
          "height": 35
        },
        "id": "3IHe5hmcRywJ",
        "outputId": "d1ffec68-d1f7-4d92-bb0f-5fa942bd68f1"
      },
      "source": [
        "ps.stem(\"king\")"
      ],
      "execution_count": 112,
      "outputs": [
        {
          "output_type": "execute_result",
          "data": {
            "application/vnd.google.colaboratory.intrinsic+json": {
              "type": "string"
            },
            "text/plain": [
              "'king'"
            ]
          },
          "metadata": {
            "tags": []
          },
          "execution_count": 112
        }
      ]
    },
    {
      "cell_type": "code",
      "metadata": {
        "colab": {
          "base_uri": "https://localhost:8080/"
        },
        "id": "5hy19jLFSRQu",
        "outputId": "95fda84d-918a-4d6f-90b6-1958e9cfca63"
      },
      "source": [
        "nltk.download('wordnet')"
      ],
      "execution_count": 115,
      "outputs": [
        {
          "output_type": "stream",
          "text": [
            "[nltk_data] Downloading package wordnet to /root/nltk_data...\n",
            "[nltk_data]   Unzipping corpora/wordnet.zip.\n"
          ],
          "name": "stdout"
        },
        {
          "output_type": "execute_result",
          "data": {
            "text/plain": [
              "True"
            ]
          },
          "metadata": {
            "tags": []
          },
          "execution_count": 115
        }
      ]
    },
    {
      "cell_type": "code",
      "metadata": {
        "id": "HeoBtm-ITl82"
      },
      "source": [
        "# Lemma works with POS = \"n\"/\"v\"/\"a\"/\"r\""
      ],
      "execution_count": null,
      "outputs": []
    },
    {
      "cell_type": "code",
      "metadata": {
        "colab": {
          "base_uri": "https://localhost:8080/",
          "height": 35
        },
        "id": "Q3ZxeppnR6MQ",
        "outputId": "eeabf621-92ae-44db-854c-e40085d06dd1"
      },
      "source": [
        "lm = nltk.stem.WordNetLemmatizer()\r\n",
        "lm.lemmatize(\"running\", pos=\"v\")"
      ],
      "execution_count": 135,
      "outputs": [
        {
          "output_type": "execute_result",
          "data": {
            "application/vnd.google.colaboratory.intrinsic+json": {
              "type": "string"
            },
            "text/plain": [
              "'run'"
            ]
          },
          "metadata": {
            "tags": []
          },
          "execution_count": 135
        }
      ]
    },
    {
      "cell_type": "code",
      "metadata": {
        "colab": {
          "base_uri": "https://localhost:8080/",
          "height": 35
        },
        "id": "vt1UXu_qTxuK",
        "outputId": "65eeac58-1d4c-4228-d7d0-b7db8d5dd668"
      },
      "source": [
        "lm.lemmatize(\"ran\", 'v')"
      ],
      "execution_count": 137,
      "outputs": [
        {
          "output_type": "execute_result",
          "data": {
            "application/vnd.google.colaboratory.intrinsic+json": {
              "type": "string"
            },
            "text/plain": [
              "'run'"
            ]
          },
          "metadata": {
            "tags": []
          },
          "execution_count": 137
        }
      ]
    },
    {
      "cell_type": "code",
      "metadata": {
        "colab": {
          "base_uri": "https://localhost:8080/"
        },
        "id": "M2HKI7dlSJE2",
        "outputId": "1af99e40-07c6-4994-d547-a5790366b5e5"
      },
      "source": [
        "nltk.pos_tag([\"running\"])"
      ],
      "execution_count": 131,
      "outputs": [
        {
          "output_type": "execute_result",
          "data": {
            "text/plain": [
              "[('running', 'VBG')]"
            ]
          },
          "metadata": {
            "tags": []
          },
          "execution_count": 131
        }
      ]
    },
    {
      "cell_type": "code",
      "metadata": {
        "colab": {
          "base_uri": "https://localhost:8080/",
          "height": 35
        },
        "id": "fn82ENNNS7KZ",
        "outputId": "7716b2d4-e4a6-46ef-dd31-47531f9dd1e8"
      },
      "source": [
        "lm.lemmatize(\"believed\", 'v')"
      ],
      "execution_count": 139,
      "outputs": [
        {
          "output_type": "execute_result",
          "data": {
            "application/vnd.google.colaboratory.intrinsic+json": {
              "type": "string"
            },
            "text/plain": [
              "'believe'"
            ]
          },
          "metadata": {
            "tags": []
          },
          "execution_count": 139
        }
      ]
    },
    {
      "cell_type": "code",
      "metadata": {
        "id": "-dNNVDu3TNWz"
      },
      "source": [
        "\"What does word2vec do\"\r\n",
        "# 1 gram - \"what\", \"does\", \"word2vec\", \"do\"\r\n",
        "# 2 gram - \"what does\", \"does word2vec\", \"word2vec do\"\r\n",
        "# 3 gram - \"\""
      ],
      "execution_count": null,
      "outputs": []
    },
    {
      "cell_type": "code",
      "metadata": {
        "colab": {
          "base_uri": "https://localhost:8080/"
        },
        "id": "3ZSEgWRDVKze",
        "outputId": "d626334f-b3bf-44ba-c2ed-24ce77817c09"
      },
      "source": [
        "nlp(\"NLP\").vector"
      ],
      "execution_count": 141,
      "outputs": [
        {
          "output_type": "execute_result",
          "data": {
            "text/plain": [
              "array([-0.0080689,  0.17201  , -0.36143  , -0.52395  , -0.15279  ,\n",
              "       -0.34861  , -0.036767 , -0.53732  ,  0.44094  , -0.36079  ,\n",
              "       -0.4784   , -0.056812 , -0.24766  ,  0.10597  ,  0.41365  ,\n",
              "       -1.088    ,  0.19286  ,  0.28928  , -0.087171 ,  0.77045  ,\n",
              "        0.25926  ,  0.060863 , -0.12351  , -0.38785  , -0.42876  ,\n",
              "        0.48097  ,  0.48476  , -0.42188  , -0.18591  ,  0.067789 ,\n",
              "        0.51135  , -0.63264  ,  0.072284 ,  0.91496  ,  0.3255   ,\n",
              "        0.99644  , -0.24083  ,  0.11028  , -0.54889  ,  0.36591  ,\n",
              "       -0.09808  , -0.3543   , -0.23814  ,  0.49636  ,  0.10786  ,\n",
              "        0.031344 , -0.27557  ,  0.28765  , -0.63515  , -0.20711  ,\n",
              "       -0.44874  , -0.50543  ,  0.10289  ,  0.27115  , -0.074156 ,\n",
              "        0.57831  , -0.25995  ,  0.18628  , -0.22099  , -0.46459  ,\n",
              "       -0.11055  ,  0.39854  ,  0.15971  , -0.8858   ,  0.29029  ,\n",
              "       -0.24326  , -0.047822 , -0.097751 , -0.49836  ,  0.24001  ,\n",
              "       -0.22119  , -0.15564  ,  0.42348  , -0.036272 ,  1.1548   ,\n",
              "        0.31605  ,  0.088542 , -0.031927 , -0.063066 , -0.048259 ,\n",
              "        0.020346 ,  0.16526  ,  0.48541  ,  0.25581  , -0.51612  ,\n",
              "       -0.2273   ,  1.0575   , -0.8083   ,  0.055999 , -0.29787  ,\n",
              "       -0.28641  ,  0.08266  ,  0.088037 , -0.048004 , -0.20818  ,\n",
              "       -0.051167 ,  0.36321  , -0.71516  ,  0.063304 , -1.0239   ,\n",
              "       -0.11567  ,  0.0043209,  0.23609  ,  0.064734 ,  0.081885 ,\n",
              "       -1.9807   ,  0.18874  ,  0.10143  , -0.33867  ,  0.075872 ,\n",
              "       -0.49032  , -0.36595  , -0.18845  , -0.080881 , -0.19707  ,\n",
              "        0.73221  , -0.32061  , -0.11996  ,  0.57567  , -0.21523  ,\n",
              "        0.21882  , -0.0068371, -0.12269  , -0.096942 , -0.029382 ,\n",
              "        0.43065  , -0.70042  , -0.03663  ,  0.35463  , -0.33172  ,\n",
              "       -0.3929   , -0.64374  , -0.81228  ,  0.041261 ,  0.45013  ,\n",
              "       -0.34736  , -0.097275 , -0.16342  , -0.055496 , -0.39753  ,\n",
              "       -0.36672  ,  0.66679  , -0.054053 ,  0.52131  ,  0.49966  ,\n",
              "        0.16281  ,  0.16773  ,  0.17052  , -0.28781  , -0.31941  ,\n",
              "       -0.056714 , -0.65757  , -0.055213 ,  0.094287 , -0.41753  ,\n",
              "       -0.0099484,  0.35859  , -0.3583   , -0.39562  , -0.44507  ,\n",
              "       -0.2755   , -0.16131  , -0.65154  ,  0.13316  ,  0.42209  ,\n",
              "       -0.029555 , -0.42262  , -0.077319 , -0.14587  , -0.29419  ,\n",
              "       -0.40894  , -0.16328  ,  0.26921  ,  0.26955  ,  0.11     ,\n",
              "       -0.20865  ,  0.46751  ,  0.22874  ,  0.2829   ,  0.17569  ,\n",
              "        0.67821  ,  0.23541  , -0.90776  ,  0.41344  ,  0.49803  ,\n",
              "        0.10693  ,  0.31922  ,  0.84183  ,  0.037831 , -0.35726  ,\n",
              "       -0.12281  , -0.31795  , -0.30857  , -0.91246  , -0.45557  ,\n",
              "        0.056292 ,  0.13218  , -0.59133  ,  1.0699   , -0.23665  ,\n",
              "       -0.68037  , -0.41814  ,  0.21918  ,  0.41373  , -0.3897   ,\n",
              "        0.052102 , -0.11587  , -0.1232   , -0.78361  , -0.094418 ,\n",
              "       -0.29128  ,  0.72153  ,  0.50136  ,  0.13189  , -0.63968  ,\n",
              "       -0.2523   , -0.28444  ,  0.29659  ,  0.51556  ,  0.072911 ,\n",
              "       -0.6206   ,  0.37613  ,  0.16979  , -0.89081  , -0.80593  ,\n",
              "        0.10588  ,  0.45481  ,  0.01824  , -0.43123  , -0.39197  ,\n",
              "       -0.2355   ,  0.083242 ,  0.80196  , -0.11903  ,  0.37487  ,\n",
              "       -0.052276 ,  0.40123  ,  0.58962  , -0.20418  , -0.62036  ,\n",
              "        0.39894  ,  0.54031  , -0.19601  , -0.6514   , -0.27663  ,\n",
              "        0.021055 , -0.609    , -0.013596 , -0.22885  , -0.6003   ,\n",
              "        0.6758   , -0.43675  ,  0.015452 , -0.36667  ,  0.44217  ,\n",
              "       -0.83882  , -0.68263  , -0.38946  ,  0.22731  ,  0.29086  ,\n",
              "       -0.069119 , -0.34048  ,  0.20938  ,  0.10592  ,  0.22526  ,\n",
              "        0.11047  , -0.53391  ,  0.10466  , -0.48908  , -0.01534  ,\n",
              "       -0.52741  , -0.10003  , -0.26274  , -0.089274 , -0.16102  ,\n",
              "       -0.5606   , -0.38068  , -0.62487  , -0.08466  ,  0.035755 ,\n",
              "        0.18811  ,  0.1949   , -0.24743  , -0.50669  ,  0.18283  ,\n",
              "        0.8632   ,  0.085555 , -0.057575 , -0.098477 ,  0.37928  ,\n",
              "        0.36104  , -0.18173  , -0.45813  ,  0.98848  ,  0.49311  ,\n",
              "       -0.098344 ,  0.37193  ,  0.28615  , -0.71471  ,  0.46446  ],\n",
              "      dtype=float32)"
            ]
          },
          "metadata": {
            "tags": []
          },
          "execution_count": 141
        }
      ]
    },
    {
      "cell_type": "code",
      "metadata": {
        "id": "LsIDBQNLVKqj"
      },
      "source": [
        ""
      ],
      "execution_count": null,
      "outputs": []
    }
  ]
}