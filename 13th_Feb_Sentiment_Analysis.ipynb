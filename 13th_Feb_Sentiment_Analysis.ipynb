{
  "nbformat": 4,
  "nbformat_minor": 0,
  "metadata": {
    "colab": {
      "name": "13th Feb Sentiment Analysis.ipynb",
      "provenance": [],
      "collapsed_sections": []
    },
    "kernelspec": {
      "name": "python3",
      "display_name": "Python 3"
    }
  },
  "cells": [
    {
      "cell_type": "code",
      "metadata": {
        "id": "6lQ-pJTfAtue"
      },
      "source": [
        "import pandas as pd\r\n",
        "import numpy as np \r\n",
        "import matplotlib.pyplot as plt \r\n",
        "import seaborn as sns \r\n",
        "sns.set()\r\n",
        "import tensorflow as tf "
      ],
      "execution_count": 1,
      "outputs": []
    },
    {
      "cell_type": "code",
      "metadata": {
        "id": "xpCfXTsaC7S_"
      },
      "source": [
        "df = pd.read_csv(\"Sentiment.csv\")"
      ],
      "execution_count": 29,
      "outputs": []
    },
    {
      "cell_type": "code",
      "metadata": {
        "colab": {
          "base_uri": "https://localhost:8080/",
          "height": 412
        },
        "id": "jQMmDTs_C-f-",
        "outputId": "4941d013-6eac-4b3e-fb4a-10cc7b69632c"
      },
      "source": [
        "df.head()"
      ],
      "execution_count": 30,
      "outputs": [
        {
          "output_type": "execute_result",
          "data": {
            "text/html": [
              "<div>\n",
              "<style scoped>\n",
              "    .dataframe tbody tr th:only-of-type {\n",
              "        vertical-align: middle;\n",
              "    }\n",
              "\n",
              "    .dataframe tbody tr th {\n",
              "        vertical-align: top;\n",
              "    }\n",
              "\n",
              "    .dataframe thead th {\n",
              "        text-align: right;\n",
              "    }\n",
              "</style>\n",
              "<table border=\"1\" class=\"dataframe\">\n",
              "  <thead>\n",
              "    <tr style=\"text-align: right;\">\n",
              "      <th></th>\n",
              "      <th>id</th>\n",
              "      <th>candidate</th>\n",
              "      <th>candidate_confidence</th>\n",
              "      <th>relevant_yn</th>\n",
              "      <th>relevant_yn_confidence</th>\n",
              "      <th>sentiment</th>\n",
              "      <th>sentiment_confidence</th>\n",
              "      <th>subject_matter</th>\n",
              "      <th>subject_matter_confidence</th>\n",
              "      <th>candidate_gold</th>\n",
              "      <th>name</th>\n",
              "      <th>relevant_yn_gold</th>\n",
              "      <th>retweet_count</th>\n",
              "      <th>sentiment_gold</th>\n",
              "      <th>subject_matter_gold</th>\n",
              "      <th>text</th>\n",
              "      <th>tweet_coord</th>\n",
              "      <th>tweet_created</th>\n",
              "      <th>tweet_id</th>\n",
              "      <th>tweet_location</th>\n",
              "      <th>user_timezone</th>\n",
              "    </tr>\n",
              "  </thead>\n",
              "  <tbody>\n",
              "    <tr>\n",
              "      <th>0</th>\n",
              "      <td>1</td>\n",
              "      <td>No candidate mentioned</td>\n",
              "      <td>1.0</td>\n",
              "      <td>yes</td>\n",
              "      <td>1.0</td>\n",
              "      <td>Neutral</td>\n",
              "      <td>0.6578</td>\n",
              "      <td>None of the above</td>\n",
              "      <td>1.0000</td>\n",
              "      <td>NaN</td>\n",
              "      <td>I_Am_Kenzi</td>\n",
              "      <td>NaN</td>\n",
              "      <td>5</td>\n",
              "      <td>NaN</td>\n",
              "      <td>NaN</td>\n",
              "      <td>RT @NancyLeeGrahn: How did everyone feel about...</td>\n",
              "      <td>NaN</td>\n",
              "      <td>2015-08-07 09:54:46 -0700</td>\n",
              "      <td>629697200650592256</td>\n",
              "      <td>NaN</td>\n",
              "      <td>Quito</td>\n",
              "    </tr>\n",
              "    <tr>\n",
              "      <th>1</th>\n",
              "      <td>2</td>\n",
              "      <td>Scott Walker</td>\n",
              "      <td>1.0</td>\n",
              "      <td>yes</td>\n",
              "      <td>1.0</td>\n",
              "      <td>Positive</td>\n",
              "      <td>0.6333</td>\n",
              "      <td>None of the above</td>\n",
              "      <td>1.0000</td>\n",
              "      <td>NaN</td>\n",
              "      <td>PeacefulQuest</td>\n",
              "      <td>NaN</td>\n",
              "      <td>26</td>\n",
              "      <td>NaN</td>\n",
              "      <td>NaN</td>\n",
              "      <td>RT @ScottWalker: Didn't catch the full #GOPdeb...</td>\n",
              "      <td>NaN</td>\n",
              "      <td>2015-08-07 09:54:46 -0700</td>\n",
              "      <td>629697199560069120</td>\n",
              "      <td>NaN</td>\n",
              "      <td>NaN</td>\n",
              "    </tr>\n",
              "    <tr>\n",
              "      <th>2</th>\n",
              "      <td>3</td>\n",
              "      <td>No candidate mentioned</td>\n",
              "      <td>1.0</td>\n",
              "      <td>yes</td>\n",
              "      <td>1.0</td>\n",
              "      <td>Neutral</td>\n",
              "      <td>0.6629</td>\n",
              "      <td>None of the above</td>\n",
              "      <td>0.6629</td>\n",
              "      <td>NaN</td>\n",
              "      <td>PussssyCroook</td>\n",
              "      <td>NaN</td>\n",
              "      <td>27</td>\n",
              "      <td>NaN</td>\n",
              "      <td>NaN</td>\n",
              "      <td>RT @TJMShow: No mention of Tamir Rice and the ...</td>\n",
              "      <td>NaN</td>\n",
              "      <td>2015-08-07 09:54:46 -0700</td>\n",
              "      <td>629697199312482304</td>\n",
              "      <td>NaN</td>\n",
              "      <td>NaN</td>\n",
              "    </tr>\n",
              "    <tr>\n",
              "      <th>3</th>\n",
              "      <td>4</td>\n",
              "      <td>No candidate mentioned</td>\n",
              "      <td>1.0</td>\n",
              "      <td>yes</td>\n",
              "      <td>1.0</td>\n",
              "      <td>Positive</td>\n",
              "      <td>1.0000</td>\n",
              "      <td>None of the above</td>\n",
              "      <td>0.7039</td>\n",
              "      <td>NaN</td>\n",
              "      <td>MattFromTexas31</td>\n",
              "      <td>NaN</td>\n",
              "      <td>138</td>\n",
              "      <td>NaN</td>\n",
              "      <td>NaN</td>\n",
              "      <td>RT @RobGeorge: That Carly Fiorina is trending ...</td>\n",
              "      <td>NaN</td>\n",
              "      <td>2015-08-07 09:54:45 -0700</td>\n",
              "      <td>629697197118861312</td>\n",
              "      <td>Texas</td>\n",
              "      <td>Central Time (US &amp; Canada)</td>\n",
              "    </tr>\n",
              "    <tr>\n",
              "      <th>4</th>\n",
              "      <td>5</td>\n",
              "      <td>Donald Trump</td>\n",
              "      <td>1.0</td>\n",
              "      <td>yes</td>\n",
              "      <td>1.0</td>\n",
              "      <td>Positive</td>\n",
              "      <td>0.7045</td>\n",
              "      <td>None of the above</td>\n",
              "      <td>1.0000</td>\n",
              "      <td>NaN</td>\n",
              "      <td>sharonDay5</td>\n",
              "      <td>NaN</td>\n",
              "      <td>156</td>\n",
              "      <td>NaN</td>\n",
              "      <td>NaN</td>\n",
              "      <td>RT @DanScavino: #GOPDebate w/ @realDonaldTrump...</td>\n",
              "      <td>NaN</td>\n",
              "      <td>2015-08-07 09:54:45 -0700</td>\n",
              "      <td>629697196967903232</td>\n",
              "      <td>NaN</td>\n",
              "      <td>Arizona</td>\n",
              "    </tr>\n",
              "  </tbody>\n",
              "</table>\n",
              "</div>"
            ],
            "text/plain": [
              "   id               candidate  ...  tweet_location               user_timezone\n",
              "0   1  No candidate mentioned  ...             NaN                       Quito\n",
              "1   2            Scott Walker  ...             NaN                         NaN\n",
              "2   3  No candidate mentioned  ...             NaN                         NaN\n",
              "3   4  No candidate mentioned  ...           Texas  Central Time (US & Canada)\n",
              "4   5            Donald Trump  ...             NaN                     Arizona\n",
              "\n",
              "[5 rows x 21 columns]"
            ]
          },
          "metadata": {
            "tags": []
          },
          "execution_count": 30
        }
      ]
    },
    {
      "cell_type": "code",
      "metadata": {
        "colab": {
          "base_uri": "https://localhost:8080/",
          "height": 202
        },
        "id": "TR1YdjLAC_Xg",
        "outputId": "1e1c0ff2-ce51-4957-f59d-61b537c7f409"
      },
      "source": [
        "df = df.loc[:, [\"candidate\", \"sentiment\", \"text\"]]\r\n",
        "df.head()"
      ],
      "execution_count": 31,
      "outputs": [
        {
          "output_type": "execute_result",
          "data": {
            "text/html": [
              "<div>\n",
              "<style scoped>\n",
              "    .dataframe tbody tr th:only-of-type {\n",
              "        vertical-align: middle;\n",
              "    }\n",
              "\n",
              "    .dataframe tbody tr th {\n",
              "        vertical-align: top;\n",
              "    }\n",
              "\n",
              "    .dataframe thead th {\n",
              "        text-align: right;\n",
              "    }\n",
              "</style>\n",
              "<table border=\"1\" class=\"dataframe\">\n",
              "  <thead>\n",
              "    <tr style=\"text-align: right;\">\n",
              "      <th></th>\n",
              "      <th>candidate</th>\n",
              "      <th>sentiment</th>\n",
              "      <th>text</th>\n",
              "    </tr>\n",
              "  </thead>\n",
              "  <tbody>\n",
              "    <tr>\n",
              "      <th>0</th>\n",
              "      <td>No candidate mentioned</td>\n",
              "      <td>Neutral</td>\n",
              "      <td>RT @NancyLeeGrahn: How did everyone feel about...</td>\n",
              "    </tr>\n",
              "    <tr>\n",
              "      <th>1</th>\n",
              "      <td>Scott Walker</td>\n",
              "      <td>Positive</td>\n",
              "      <td>RT @ScottWalker: Didn't catch the full #GOPdeb...</td>\n",
              "    </tr>\n",
              "    <tr>\n",
              "      <th>2</th>\n",
              "      <td>No candidate mentioned</td>\n",
              "      <td>Neutral</td>\n",
              "      <td>RT @TJMShow: No mention of Tamir Rice and the ...</td>\n",
              "    </tr>\n",
              "    <tr>\n",
              "      <th>3</th>\n",
              "      <td>No candidate mentioned</td>\n",
              "      <td>Positive</td>\n",
              "      <td>RT @RobGeorge: That Carly Fiorina is trending ...</td>\n",
              "    </tr>\n",
              "    <tr>\n",
              "      <th>4</th>\n",
              "      <td>Donald Trump</td>\n",
              "      <td>Positive</td>\n",
              "      <td>RT @DanScavino: #GOPDebate w/ @realDonaldTrump...</td>\n",
              "    </tr>\n",
              "  </tbody>\n",
              "</table>\n",
              "</div>"
            ],
            "text/plain": [
              "                candidate  ...                                               text\n",
              "0  No candidate mentioned  ...  RT @NancyLeeGrahn: How did everyone feel about...\n",
              "1            Scott Walker  ...  RT @ScottWalker: Didn't catch the full #GOPdeb...\n",
              "2  No candidate mentioned  ...  RT @TJMShow: No mention of Tamir Rice and the ...\n",
              "3  No candidate mentioned  ...  RT @RobGeorge: That Carly Fiorina is trending ...\n",
              "4            Donald Trump  ...  RT @DanScavino: #GOPDebate w/ @realDonaldTrump...\n",
              "\n",
              "[5 rows x 3 columns]"
            ]
          },
          "metadata": {
            "tags": []
          },
          "execution_count": 31
        }
      ]
    },
    {
      "cell_type": "code",
      "metadata": {
        "colab": {
          "base_uri": "https://localhost:8080/",
          "height": 285
        },
        "id": "NcxZ7ZUNEC9-",
        "outputId": "cae5bc65-464a-4431-a473-36bc2b1e63a2"
      },
      "source": [
        "df.candidate.value_counts().plot.barh()"
      ],
      "execution_count": 32,
      "outputs": [
        {
          "output_type": "execute_result",
          "data": {
            "text/plain": [
              "<matplotlib.axes._subplots.AxesSubplot at 0x7fc896ab2c18>"
            ]
          },
          "metadata": {
            "tags": []
          },
          "execution_count": 32
        },
        {
          "output_type": "display_data",
          "data": {
            "image/png": "[encoded data removed]",
            "text/plain": [
              "<Figure size 432x288 with 1 Axes>"
            ]
          },
          "metadata": {
            "tags": [],
            "needs_background": "light"
          }
        }
      ]
    },
    {
      "cell_type": "code",
      "metadata": {
        "colab": {
          "base_uri": "https://localhost:8080/",
          "height": 1000
        },
        "id": "2g36qRreEe-y",
        "outputId": "b337ba2e-be51-48bc-a51b-8a970341a966"
      },
      "source": [
        "df.groupby([\"candidate\", \"sentiment\"]).count()"
      ],
      "execution_count": 33,
      "outputs": [
        {
          "output_type": "execute_result",
          "data": {
            "text/html": [
              "<div>\n",
              "<style scoped>\n",
              "    .dataframe tbody tr th:only-of-type {\n",
              "        vertical-align: middle;\n",
              "    }\n",
              "\n",
              "    .dataframe tbody tr th {\n",
              "        vertical-align: top;\n",
              "    }\n",
              "\n",
              "    .dataframe thead th {\n",
              "        text-align: right;\n",
              "    }\n",
              "</style>\n",
              "<table border=\"1\" class=\"dataframe\">\n",
              "  <thead>\n",
              "    <tr style=\"text-align: right;\">\n",
              "      <th></th>\n",
              "      <th></th>\n",
              "      <th>text</th>\n",
              "    </tr>\n",
              "    <tr>\n",
              "      <th>candidate</th>\n",
              "      <th>sentiment</th>\n",
              "      <th></th>\n",
              "    </tr>\n",
              "  </thead>\n",
              "  <tbody>\n",
              "    <tr>\n",
              "      <th rowspan=\"3\" valign=\"top\">Ben Carson</th>\n",
              "      <th>Negative</th>\n",
              "      <td>186</td>\n",
              "    </tr>\n",
              "    <tr>\n",
              "      <th>Neutral</th>\n",
              "      <td>54</td>\n",
              "    </tr>\n",
              "    <tr>\n",
              "      <th>Positive</th>\n",
              "      <td>164</td>\n",
              "    </tr>\n",
              "    <tr>\n",
              "      <th rowspan=\"3\" valign=\"top\">Chris Christie</th>\n",
              "      <th>Negative</th>\n",
              "      <td>218</td>\n",
              "    </tr>\n",
              "    <tr>\n",
              "      <th>Neutral</th>\n",
              "      <td>42</td>\n",
              "    </tr>\n",
              "    <tr>\n",
              "      <th>Positive</th>\n",
              "      <td>33</td>\n",
              "    </tr>\n",
              "    <tr>\n",
              "      <th rowspan=\"3\" valign=\"top\">Donald Trump</th>\n",
              "      <th>Negative</th>\n",
              "      <td>1758</td>\n",
              "    </tr>\n",
              "    <tr>\n",
              "      <th>Neutral</th>\n",
              "      <td>446</td>\n",
              "    </tr>\n",
              "    <tr>\n",
              "      <th>Positive</th>\n",
              "      <td>609</td>\n",
              "    </tr>\n",
              "    <tr>\n",
              "      <th rowspan=\"3\" valign=\"top\">Jeb Bush</th>\n",
              "      <th>Negative</th>\n",
              "      <td>589</td>\n",
              "    </tr>\n",
              "    <tr>\n",
              "      <th>Neutral</th>\n",
              "      <td>72</td>\n",
              "    </tr>\n",
              "    <tr>\n",
              "      <th>Positive</th>\n",
              "      <td>44</td>\n",
              "    </tr>\n",
              "    <tr>\n",
              "      <th rowspan=\"3\" valign=\"top\">John Kasich</th>\n",
              "      <th>Negative</th>\n",
              "      <td>82</td>\n",
              "    </tr>\n",
              "    <tr>\n",
              "      <th>Neutral</th>\n",
              "      <td>47</td>\n",
              "    </tr>\n",
              "    <tr>\n",
              "      <th>Positive</th>\n",
              "      <td>113</td>\n",
              "    </tr>\n",
              "    <tr>\n",
              "      <th rowspan=\"3\" valign=\"top\">Marco Rubio</th>\n",
              "      <th>Negative</th>\n",
              "      <td>105</td>\n",
              "    </tr>\n",
              "    <tr>\n",
              "      <th>Neutral</th>\n",
              "      <td>51</td>\n",
              "    </tr>\n",
              "    <tr>\n",
              "      <th>Positive</th>\n",
              "      <td>119</td>\n",
              "    </tr>\n",
              "    <tr>\n",
              "      <th rowspan=\"3\" valign=\"top\">Mike Huckabee</th>\n",
              "      <th>Negative</th>\n",
              "      <td>237</td>\n",
              "    </tr>\n",
              "    <tr>\n",
              "      <th>Neutral</th>\n",
              "      <td>83</td>\n",
              "    </tr>\n",
              "    <tr>\n",
              "      <th>Positive</th>\n",
              "      <td>73</td>\n",
              "    </tr>\n",
              "    <tr>\n",
              "      <th rowspan=\"3\" valign=\"top\">No candidate mentioned</th>\n",
              "      <th>Negative</th>\n",
              "      <td>4724</td>\n",
              "    </tr>\n",
              "    <tr>\n",
              "      <th>Neutral</th>\n",
              "      <td>2087</td>\n",
              "    </tr>\n",
              "    <tr>\n",
              "      <th>Positive</th>\n",
              "      <td>680</td>\n",
              "    </tr>\n",
              "    <tr>\n",
              "      <th rowspan=\"3\" valign=\"top\">Rand Paul</th>\n",
              "      <th>Negative</th>\n",
              "      <td>148</td>\n",
              "    </tr>\n",
              "    <tr>\n",
              "      <th>Neutral</th>\n",
              "      <td>60</td>\n",
              "    </tr>\n",
              "    <tr>\n",
              "      <th>Positive</th>\n",
              "      <td>55</td>\n",
              "    </tr>\n",
              "    <tr>\n",
              "      <th rowspan=\"3\" valign=\"top\">Scott Walker</th>\n",
              "      <th>Negative</th>\n",
              "      <td>179</td>\n",
              "    </tr>\n",
              "    <tr>\n",
              "      <th>Neutral</th>\n",
              "      <td>38</td>\n",
              "    </tr>\n",
              "    <tr>\n",
              "      <th>Positive</th>\n",
              "      <td>42</td>\n",
              "    </tr>\n",
              "    <tr>\n",
              "      <th rowspan=\"3\" valign=\"top\">Ted Cruz</th>\n",
              "      <th>Negative</th>\n",
              "      <td>221</td>\n",
              "    </tr>\n",
              "    <tr>\n",
              "      <th>Neutral</th>\n",
              "      <td>126</td>\n",
              "    </tr>\n",
              "    <tr>\n",
              "      <th>Positive</th>\n",
              "      <td>290</td>\n",
              "    </tr>\n",
              "  </tbody>\n",
              "</table>\n",
              "</div>"
            ],
            "text/plain": [
              "                                  text\n",
              "candidate              sentiment      \n",
              "Ben Carson             Negative    186\n",
              "                       Neutral      54\n",
              "                       Positive    164\n",
              "Chris Christie         Negative    218\n",
              "                       Neutral      42\n",
              "                       Positive     33\n",
              "Donald Trump           Negative   1758\n",
              "                       Neutral     446\n",
              "                       Positive    609\n",
              "Jeb Bush               Negative    589\n",
              "                       Neutral      72\n",
              "                       Positive     44\n",
              "John Kasich            Negative     82\n",
              "                       Neutral      47\n",
              "                       Positive    113\n",
              "Marco Rubio            Negative    105\n",
              "                       Neutral      51\n",
              "                       Positive    119\n",
              "Mike Huckabee          Negative    237\n",
              "                       Neutral      83\n",
              "                       Positive     73\n",
              "No candidate mentioned Negative   4724\n",
              "                       Neutral    2087\n",
              "                       Positive    680\n",
              "Rand Paul              Negative    148\n",
              "                       Neutral      60\n",
              "                       Positive     55\n",
              "Scott Walker           Negative    179\n",
              "                       Neutral      38\n",
              "                       Positive     42\n",
              "Ted Cruz               Negative    221\n",
              "                       Neutral     126\n",
              "                       Positive    290"
            ]
          },
          "metadata": {
            "tags": []
          },
          "execution_count": 33
        }
      ]
    },
    {
      "cell_type": "code",
      "metadata": {
        "colab": {
          "base_uri": "https://localhost:8080/"
        },
        "id": "HaOU-AdcErhM",
        "outputId": "b6e41d16-defa-42f2-e4b4-60b79802778a"
      },
      "source": [
        "df.text"
      ],
      "execution_count": 34,
      "outputs": [
        {
          "output_type": "execute_result",
          "data": {
            "text/plain": [
              "0        RT @NancyLeeGrahn: How did everyone feel about...\n",
              "1        RT @ScottWalker: Didn't catch the full #GOPdeb...\n",
              "2        RT @TJMShow: No mention of Tamir Rice and the ...\n",
              "3        RT @RobGeorge: That Carly Fiorina is trending ...\n",
              "4        RT @DanScavino: #GOPDebate w/ @realDonaldTrump...\n",
              "                               ...                        \n",
              "13866    RT @cappy_yarbrough: Love to see men who will ...\n",
              "13867    RT @georgehenryw: Who thought Huckabee exceede...\n",
              "13868    RT @Lrihendry: #TedCruz As President, I will a...\n",
              "13869    RT @JRehling: #GOPDebate Donald Trump says tha...\n",
              "13870    RT @Lrihendry: #TedCruz headed into the Presid...\n",
              "Name: text, Length: 13871, dtype: object"
            ]
          },
          "metadata": {
            "tags": []
          },
          "execution_count": 34
        }
      ]
    },
    {
      "cell_type": "code",
      "metadata": {
        "id": "IPrgcVx2FU64"
      },
      "source": [
        "df[\"text\"] = df.text.str.lower()\r\n",
        "df[\"text\"] = df.text.str.replace(\"rt @\", \"\")"
      ],
      "execution_count": 35,
      "outputs": []
    },
    {
      "cell_type": "code",
      "metadata": {
        "colab": {
          "base_uri": "https://localhost:8080/"
        },
        "id": "e_M7erN0Fn7B",
        "outputId": "099a363e-563b-4809-b3fc-2bdbf1c13c1e"
      },
      "source": [
        "df.text"
      ],
      "execution_count": 36,
      "outputs": [
        {
          "output_type": "execute_result",
          "data": {
            "text/plain": [
              "0        nancyleegrahn: how did everyone feel about the...\n",
              "1        scottwalker: didn't catch the full #gopdebate ...\n",
              "2        tjmshow: no mention of tamir rice and the #gop...\n",
              "3        robgeorge: that carly fiorina is trending -- h...\n",
              "4        danscavino: #gopdebate w/ @realdonaldtrump del...\n",
              "                               ...                        \n",
              "13866    cappy_yarbrough: love to see men who will neve...\n",
              "13867    georgehenryw: who thought huckabee exceeded th...\n",
              "13868    lrihendry: #tedcruz as president, i will alway...\n",
              "13869    jrehling: #gopdebate donald trump says that he...\n",
              "13870    lrihendry: #tedcruz headed into the presidenti...\n",
              "Name: text, Length: 13871, dtype: object"
            ]
          },
          "metadata": {
            "tags": []
          },
          "execution_count": 36
        }
      ]
    },
    {
      "cell_type": "code",
      "metadata": {
        "colab": {
          "base_uri": "https://localhost:8080/",
          "height": 35
        },
        "id": "bYzczveGFoSE",
        "outputId": "cb369661-1020-4a81-816a-8a65f8b86fc8"
      },
      "source": [
        "import string, re\r\n",
        "string.punctuation"
      ],
      "execution_count": 37,
      "outputs": [
        {
          "output_type": "execute_result",
          "data": {
            "application/vnd.google.colaboratory.intrinsic+json": {
              "type": "string"
            },
            "text/plain": [
              "'!\"#$%&\\'()*+,-./:;<=>?@[\\\\]^_`{|}~'"
            ]
          },
          "metadata": {
            "tags": []
          },
          "execution_count": 37
        }
      ]
    },
    {
      "cell_type": "code",
      "metadata": {
        "id": "sHj1TaASGQex"
      },
      "source": [
        "# re - regex - Regular Expressions\r\n",
        "df[\"text\"] = df.text.apply(lambda x: re.sub('[^a-zA-Z0-9\\s]', \"\", x))"
      ],
      "execution_count": 38,
      "outputs": []
    },
    {
      "cell_type": "code",
      "metadata": {
        "colab": {
          "base_uri": "https://localhost:8080/"
        },
        "id": "NMXXynnaGqJZ",
        "outputId": "317fb8f7-ae74-4b02-fc9c-e5d3398d79b3"
      },
      "source": [
        "df.text"
      ],
      "execution_count": 39,
      "outputs": [
        {
          "output_type": "execute_result",
          "data": {
            "text/plain": [
              "0        nancyleegrahn how did everyone feel about the ...\n",
              "1        scottwalker didnt catch the full gopdebate las...\n",
              "2        tjmshow no mention of tamir rice and the gopde...\n",
              "3        robgeorge that carly fiorina is trending  hour...\n",
              "4        danscavino gopdebate w realdonaldtrump deliver...\n",
              "                               ...                        \n",
              "13866    cappyyarbrough love to see men who will never ...\n",
              "13867    georgehenryw who thought huckabee exceeded the...\n",
              "13868    lrihendry tedcruz as president i will always t...\n",
              "13869    jrehling gopdebate donald trump says that he d...\n",
              "13870    lrihendry tedcruz headed into the presidential...\n",
              "Name: text, Length: 13871, dtype: object"
            ]
          },
          "metadata": {
            "tags": []
          },
          "execution_count": 39
        }
      ]
    },
    {
      "cell_type": "code",
      "metadata": {
        "id": "geEU4QAVGuTA"
      },
      "source": [
        "# Remove Stop Words \r\n",
        "# Lemma also"
      ],
      "execution_count": 40,
      "outputs": []
    },
    {
      "cell_type": "code",
      "metadata": {
        "id": "Oz9jtcl0HA82"
      },
      "source": [
        "# running is very good for health. I run every day. Did you ran yesterday ? \r\n",
        "# Lemma \r\n",
        "# run is very good for health. I run every day. Did you run yesterday ? \r\n",
        "# run - 3 "
      ],
      "execution_count": null,
      "outputs": []
    },
    {
      "cell_type": "code",
      "metadata": {
        "id": "dKaRsYEFH9ov"
      },
      "source": [
        "# Problems ahead us - \r\n",
        "# 1. They are words - convert them to numbers \r\n",
        "# 2. Context - ??\r\n",
        "\r\n",
        "\r\n",
        "# Example - I went to dinner with Sam, he seems to be a nice guy. Should I consider him for the PhD grant ? \r\n",
        "\r\n",
        "# Solution- \r\n",
        "# 1. RNN  - problem with RNN is low memory\r\n",
        "# 2. LSTM - Long Short Term Memory\r\n",
        "# It has a very good memeory but it is short term also. "
      ],
      "execution_count": 41,
      "outputs": []
    },
    {
      "cell_type": "markdown",
      "metadata": {
        "id": "fhDvHXYNMj-N"
      },
      "source": [
        "<img src=\"http://colah.github.io/posts/2015-08-Understanding-LSTMs/img/LSTM3-var-GRU.png\"/>"
      ]
    },
    {
      "cell_type": "code",
      "metadata": {
        "id": "2UrNC14vMZSs"
      },
      "source": [
        "from tensorflow.keras.preprocessing.text import Tokenizer\r\n",
        "from tensorflow.keras.preprocessing.sequence import pad_sequences"
      ],
      "execution_count": 56,
      "outputs": []
    },
    {
      "cell_type": "code",
      "metadata": {
        "id": "3JaQ5IRPMirf"
      },
      "source": [
        "max_feature = 2000\r\n",
        "token = Tokenizer(max_feature, split=\" \")"
      ],
      "execution_count": 44,
      "outputs": []
    },
    {
      "cell_type": "code",
      "metadata": {
        "id": "9jGtruufN2kL"
      },
      "source": [
        "token.fit_on_texts(df.text)"
      ],
      "execution_count": 45,
      "outputs": []
    },
    {
      "cell_type": "code",
      "metadata": {
        "id": "fdTSGOrNN5Tb"
      },
      "source": [
        "X = token.texts_to_sequences(df.text)"
      ],
      "execution_count": 47,
      "outputs": []
    },
    {
      "cell_type": "code",
      "metadata": {
        "colab": {
          "base_uri": "https://localhost:8080/"
        },
        "id": "nP4-cDPQN82h",
        "outputId": "b7cdf293-0fb7-4de6-f77c-4bf029bd341f"
      },
      "source": [
        "len(X)"
      ],
      "execution_count": 49,
      "outputs": [
        {
          "output_type": "execute_result",
          "data": {
            "text/plain": [
              "13871"
            ]
          },
          "metadata": {
            "tags": []
          },
          "execution_count": 49
        }
      ]
    },
    {
      "cell_type": "code",
      "metadata": {
        "colab": {
          "base_uri": "https://localhost:8080/"
        },
        "id": "83t7BFS1N_PJ",
        "outputId": "7e5b9226-8167-4043-81bf-a2d8d63a34d1"
      },
      "source": [
        "X[0]"
      ],
      "execution_count": 50,
      "outputs": [
        {
          "output_type": "execute_result",
          "data": {
            "text/plain": [
              "[52, 78, 339, 449, 22, 2, 413, 360, 95, 29, 51, 1021, 1]"
            ]
          },
          "metadata": {
            "tags": []
          },
          "execution_count": 50
        }
      ]
    },
    {
      "cell_type": "code",
      "metadata": {
        "colab": {
          "base_uri": "https://localhost:8080/"
        },
        "id": "p7RNMDL_OTix",
        "outputId": "d28ba4f2-8144-4022-a1fb-eddb3b4e52f9"
      },
      "source": [
        "X[1]"
      ],
      "execution_count": 52,
      "outputs": [
        {
          "output_type": "execute_result",
          "data": {
            "text/plain": [
              "[349,\n",
              " 123,\n",
              " 1929,\n",
              " 2,\n",
              " 595,\n",
              " 1,\n",
              " 29,\n",
              " 51,\n",
              " 226,\n",
              " 35,\n",
              " 195,\n",
              " 5,\n",
              " 172,\n",
              " 1396,\n",
              " 10,\n",
              " 1555,\n",
              " 1328,\n",
              " 833]"
            ]
          },
          "metadata": {
            "tags": []
          },
          "execution_count": 52
        }
      ]
    },
    {
      "cell_type": "code",
      "metadata": {
        "colab": {
          "base_uri": "https://localhost:8080/"
        },
        "id": "bPlDdNeQOV5D",
        "outputId": "e9d3060b-1845-48bd-ae8f-a722a1f8e864"
      },
      "source": [
        "len(X[0]), len(X[1]), len(X[2])"
      ],
      "execution_count": 53,
      "outputs": [
        {
          "output_type": "execute_result",
          "data": {
            "text/plain": [
              "(13, 18, 11)"
            ]
          },
          "metadata": {
            "tags": []
          },
          "execution_count": 53
        }
      ]
    },
    {
      "cell_type": "code",
      "metadata": {
        "id": "QJtPgIpMOFpF"
      },
      "source": [
        "token.word_index"
      ],
      "execution_count": null,
      "outputs": []
    },
    {
      "cell_type": "code",
      "metadata": {
        "id": "ShQSsIQMOOQl"
      },
      "source": [
        "# length of every tweet is different, we need to make them of same length! "
      ],
      "execution_count": 54,
      "outputs": []
    },
    {
      "cell_type": "code",
      "metadata": {
        "id": "QMoVc92fOwKh"
      },
      "source": [
        "X_pad = pad_sequences(X)"
      ],
      "execution_count": 57,
      "outputs": []
    },
    {
      "cell_type": "code",
      "metadata": {
        "colab": {
          "base_uri": "https://localhost:8080/"
        },
        "id": "ZL76gzj3O48T",
        "outputId": "afe9c60c-ddc3-4d45-e14f-35c587edda50"
      },
      "source": [
        "len(X_pad[0]), len(X_pad[1]), len(X_pad[2])"
      ],
      "execution_count": 60,
      "outputs": [
        {
          "output_type": "execute_result",
          "data": {
            "text/plain": [
              "(28, 28, 28)"
            ]
          },
          "metadata": {
            "tags": []
          },
          "execution_count": 60
        }
      ]
    },
    {
      "cell_type": "code",
      "metadata": {
        "id": "fmscWr8JPDp0"
      },
      "source": [
        "# every tweet has now same tokens (we prepended 0's)"
      ],
      "execution_count": 61,
      "outputs": []
    },
    {
      "cell_type": "code",
      "metadata": {
        "colab": {
          "base_uri": "https://localhost:8080/"
        },
        "id": "qondONbOPOjX",
        "outputId": "a6a706f5-b560-4a8e-d50e-c2b756373420"
      },
      "source": [
        "len(X_pad) # no of tweets"
      ],
      "execution_count": 62,
      "outputs": [
        {
          "output_type": "execute_result",
          "data": {
            "text/plain": [
              "13871"
            ]
          },
          "metadata": {
            "tags": []
          },
          "execution_count": 62
        }
      ]
    },
    {
      "cell_type": "code",
      "metadata": {
        "id": "kI5yg2lAPZ88"
      },
      "source": [
        "model = tf.keras.models.Sequential()\r\n",
        "model.add(tf.keras.layers.Embedding(max_feature, 128, input_length=X_pad.shape[1]))\r\n",
        "model.add(tf.keras.layers.LSTM(128, dropout=0.2))\r\n",
        "model.add(tf.keras.layers.Dense(3, activation=\"softmax\"))\r\n",
        "model.compile(loss=tf.keras.losses.categorical_crossentropy, metrics=[\"acc\"])"
      ],
      "execution_count": 63,
      "outputs": []
    },
    {
      "cell_type": "code",
      "metadata": {
        "colab": {
          "base_uri": "https://localhost:8080/"
        },
        "id": "fUb6OXweQP6b",
        "outputId": "b423bcf7-5b6c-4651-feac-767a2c92a5d1"
      },
      "source": [
        "model.summary()"
      ],
      "execution_count": 64,
      "outputs": [
        {
          "output_type": "stream",
          "text": [
            "Model: \"sequential\"\n",
            "_________________________________________________________________\n",
            "Layer (type)                 Output Shape              Param #   \n",
            "=================================================================\n",
            "embedding (Embedding)        (None, 28, 128)           256000    \n",
            "_________________________________________________________________\n",
            "lstm (LSTM)                  (None, 128)               131584    \n",
            "_________________________________________________________________\n",
            "dense (Dense)                (None, 3)                 387       \n",
            "=================================================================\n",
            "Total params: 387,971\n",
            "Trainable params: 387,971\n",
            "Non-trainable params: 0\n",
            "_________________________________________________________________\n"
          ],
          "name": "stdout"
        }
      ]
    },
    {
      "cell_type": "code",
      "metadata": {
        "id": "HWWHRQESQRoP"
      },
      "source": [
        "Y = pd.get_dummies(df.sentiment)"
      ],
      "execution_count": 65,
      "outputs": []
    },
    {
      "cell_type": "code",
      "metadata": {
        "id": "uuQoH0CjQjl8"
      },
      "source": [
        "# \"Neutral\", \"Pos\", \"Neg\"\r\n",
        "# 0, 1, 2\r\n",
        "# Sentiment  |   Sent_neutral | Sent_Pos | Sent_neg\r\n",
        "# Neutral    |             1  |      0    |   0 \r\n",
        "# Pos        |          0     |      1    |   0 \r\n",
        "# Neg        |         0      |      0    |   1"
      ],
      "execution_count": 66,
      "outputs": []
    },
    {
      "cell_type": "code",
      "metadata": {
        "colab": {
          "base_uri": "https://localhost:8080/",
          "height": 416
        },
        "id": "nlurj4RwQ90x",
        "outputId": "417325d7-8234-4af3-9a3f-ca14da322bda"
      },
      "source": [
        "Y"
      ],
      "execution_count": 67,
      "outputs": [
        {
          "output_type": "execute_result",
          "data": {
            "text/html": [
              "<div>\n",
              "<style scoped>\n",
              "    .dataframe tbody tr th:only-of-type {\n",
              "        vertical-align: middle;\n",
              "    }\n",
              "\n",
              "    .dataframe tbody tr th {\n",
              "        vertical-align: top;\n",
              "    }\n",
              "\n",
              "    .dataframe thead th {\n",
              "        text-align: right;\n",
              "    }\n",
              "</style>\n",
              "<table border=\"1\" class=\"dataframe\">\n",
              "  <thead>\n",
              "    <tr style=\"text-align: right;\">\n",
              "      <th></th>\n",
              "      <th>Negative</th>\n",
              "      <th>Neutral</th>\n",
              "      <th>Positive</th>\n",
              "    </tr>\n",
              "  </thead>\n",
              "  <tbody>\n",
              "    <tr>\n",
              "      <th>0</th>\n",
              "      <td>0</td>\n",
              "      <td>1</td>\n",
              "      <td>0</td>\n",
              "    </tr>\n",
              "    <tr>\n",
              "      <th>1</th>\n",
              "      <td>0</td>\n",
              "      <td>0</td>\n",
              "      <td>1</td>\n",
              "    </tr>\n",
              "    <tr>\n",
              "      <th>2</th>\n",
              "      <td>0</td>\n",
              "      <td>1</td>\n",
              "      <td>0</td>\n",
              "    </tr>\n",
              "    <tr>\n",
              "      <th>3</th>\n",
              "      <td>0</td>\n",
              "      <td>0</td>\n",
              "      <td>1</td>\n",
              "    </tr>\n",
              "    <tr>\n",
              "      <th>4</th>\n",
              "      <td>0</td>\n",
              "      <td>0</td>\n",
              "      <td>1</td>\n",
              "    </tr>\n",
              "    <tr>\n",
              "      <th>...</th>\n",
              "      <td>...</td>\n",
              "      <td>...</td>\n",
              "      <td>...</td>\n",
              "    </tr>\n",
              "    <tr>\n",
              "      <th>13866</th>\n",
              "      <td>1</td>\n",
              "      <td>0</td>\n",
              "      <td>0</td>\n",
              "    </tr>\n",
              "    <tr>\n",
              "      <th>13867</th>\n",
              "      <td>0</td>\n",
              "      <td>0</td>\n",
              "      <td>1</td>\n",
              "    </tr>\n",
              "    <tr>\n",
              "      <th>13868</th>\n",
              "      <td>0</td>\n",
              "      <td>0</td>\n",
              "      <td>1</td>\n",
              "    </tr>\n",
              "    <tr>\n",
              "      <th>13869</th>\n",
              "      <td>1</td>\n",
              "      <td>0</td>\n",
              "      <td>0</td>\n",
              "    </tr>\n",
              "    <tr>\n",
              "      <th>13870</th>\n",
              "      <td>0</td>\n",
              "      <td>0</td>\n",
              "      <td>1</td>\n",
              "    </tr>\n",
              "  </tbody>\n",
              "</table>\n",
              "<p>13871 rows × 3 columns</p>\n",
              "</div>"
            ],
            "text/plain": [
              "       Negative  Neutral  Positive\n",
              "0             0        1         0\n",
              "1             0        0         1\n",
              "2             0        1         0\n",
              "3             0        0         1\n",
              "4             0        0         1\n",
              "...         ...      ...       ...\n",
              "13866         1        0         0\n",
              "13867         0        0         1\n",
              "13868         0        0         1\n",
              "13869         1        0         0\n",
              "13870         0        0         1\n",
              "\n",
              "[13871 rows x 3 columns]"
            ]
          },
          "metadata": {
            "tags": []
          },
          "execution_count": 67
        }
      ]
    },
    {
      "cell_type": "code",
      "metadata": {
        "colab": {
          "base_uri": "https://localhost:8080/"
        },
        "id": "EbGEUb2WQ-EN",
        "outputId": "5def0a30-88dd-4280-a72b-be0dae113869"
      },
      "source": [
        "model.fit(X_pad, Y, epochs=10)"
      ],
      "execution_count": null,
      "outputs": [
        {
          "output_type": "stream",
          "text": [
            "Epoch 1/10\n",
            "434/434 [==============================] - 19s 39ms/step - loss: 0.8684 - acc: 0.6280\n",
            "Epoch 2/10\n",
            "434/434 [==============================] - 17s 39ms/step - loss: 0.7095 - acc: 0.6955\n",
            "Epoch 3/10\n",
            "434/434 [==============================] - 17s 40ms/step - loss: 0.6669 - acc: 0.7195\n",
            "Epoch 4/10\n",
            "434/434 [==============================] - 17s 39ms/step - loss: 0.6412 - acc: 0.7308\n",
            "Epoch 5/10\n",
            "434/434 [==============================] - 17s 39ms/step - loss: 0.6265 - acc: 0.7444\n",
            "Epoch 6/10\n",
            "199/434 [============>.................] - ETA: 9s - loss: 0.6065 - acc: 0.7566"
          ],
          "name": "stdout"
        }
      ]
    },
    {
      "cell_type": "code",
      "metadata": {
        "id": "w4MIV_KuRHK4"
      },
      "source": [
        ""
      ],
      "execution_count": null,
      "outputs": []
    }
  ]
}