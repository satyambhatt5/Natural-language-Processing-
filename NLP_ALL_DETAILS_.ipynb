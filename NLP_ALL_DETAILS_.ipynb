{
  "nbformat": 4,
  "nbformat_minor": 0,
  "metadata": {
    "colab": {
      "name": "NLP ALL DETAILS .ipynb",
      "provenance": [],
      "authorship_tag": "ABX9TyN1bpLVqnACduqsxFJnMCpA",
      "include_colab_link": true
    },
    "kernelspec": {
      "name": "python3",
      "display_name": "Python 3"
    }
  },
  "cells": [
    {
      "cell_type": "markdown",
      "metadata": {
        "id": "view-in-github",
        "colab_type": "text"
      },
      "source": [
        "<a href=\"https://colab.research.google.com/github/satyambhatt5/Natural-language-Processing-/blob/main/NLP_ALL_DETAILS_.ipynb\" target=\"_parent\"><img src=\"https://colab.research.google.com/assets/colab-badge.svg\" alt=\"Open In Colab\"/></a>"
      ]
    },
    {
      "cell_type": "code",
      "metadata": {
        "id": "bY_ucTOY24Ms",
        "colab": {
          "base_uri": "https://localhost:8080/"
        },
        "outputId": "6695c814-3cc5-492a-a1ea-5f4fd75d516e"
      },
      "source": [
        "#using this library for the read the document of the file \n",
        "import nltk\n",
        "import numpy as np\n",
        "\n",
        "\n",
        "#using this library for the for saving the data in the corpus \n",
        "\n",
        "from nltk.corpus import stopwords\n",
        "nltk.data.path\n",
        "nltk.download('stopwords')\n"
      ],
      "execution_count": null,
      "outputs": [
        {
          "output_type": "stream",
          "text": [
            "[nltk_data] Downloading package stopwords to /root/nltk_data...\n",
            "[nltk_data]   Package stopwords is already up-to-date!\n"
          ],
          "name": "stdout"
        },
        {
          "output_type": "execute_result",
          "data": {
            "text/plain": [
              "True"
            ]
          },
          "metadata": {
            "tags": []
          },
          "execution_count": 8
        }
      ]
    },
    {
      "cell_type": "code",
      "metadata": {
        "id": "vqFaeydb5FO0"
      },
      "source": [
        "stop_words=set(stopwords.words('english'))\n"
      ],
      "execution_count": null,
      "outputs": []
    },
    {
      "cell_type": "code",
      "metadata": {
        "id": "fW2kLIhr6DhD"
      },
      "source": [
        "#tokenize the function   \n",
        "\n",
        "def extract_words(sentence):\n",
        "  cleaned_text= [w.lower() for w in nltk.word_tokenize(sentence) if w not in stop_words]\n",
        "\n",
        "  return cleaned_text"
      ],
      "execution_count": null,
      "outputs": []
    },
    {
      "cell_type": "code",
      "metadata": {
        "id": "qJVgNnNz-yp3"
      },
      "source": [
        "#this funtion will be make vacab and store the data\n",
        "\n",
        "def vocab(corpus):\n",
        "\n",
        "  #now create the empty list \n",
        "  vocabulary =[]\n",
        "  for doc in corpus:\n",
        "    word=extract_words(doc)\n",
        "    vocabulary.extend(word)\n",
        "    vocabulary=sorted(list(set(vocabulary)))\n",
        "  return vocabulary\n",
        "\n"
      ],
      "execution_count": null,
      "outputs": []
    },
    {
      "cell_type": "code",
      "metadata": {
        "id": "sc0Kqfd1CNuI"
      },
      "source": [
        "#now create the bow function\n",
        "\n",
        "def bow(sentence,vocabulary):\n",
        "  #extract the word in to the sentence \n",
        "  words=extract_words(sentence)\n",
        "  \n",
        "  #create the lenth of the vacabulary \n",
        "\n",
        "  bag=np.zeros(len(vocabulary))\n",
        "  #create the word and enumerate the vocabulary \n",
        "\n",
        "  for word in words:\n",
        "    for i,vocab in enumerate (vocabulary):\n",
        "      if vocab ==word:\n",
        "        bag[i] +=1\n",
        "  return np.array(bag)\n",
        "\n"
      ],
      "execution_count": null,
      "outputs": []
    },
    {
      "cell_type": "code",
      "metadata": {
        "id": "pvIfD4zeFFEI"
      },
      "source": [
        "#add the file document \n",
        "\n",
        "corpus=[\"Satyam like to watch movies\",\n",
        "        \"Dinesh like to play football\",\n",
        "        \"Satyam like to watch the football but he does not like to play\",\n",
        "        \"both Satyam and Dinesh like to play video games\"]"
      ],
      "execution_count": null,
      "outputs": []
    },
    {
      "cell_type": "code",
      "metadata": {
        "id": "YCiZs30FFZ4t",
        "colab": {
          "base_uri": "https://localhost:8080/"
        },
        "outputId": "4b10fbea-ac0d-4587-9bb6-46775282f0d5"
      },
      "source": [
        "import nltk\n",
        "nltk.download('punkt')"
      ],
      "execution_count": null,
      "outputs": [
        {
          "output_type": "stream",
          "text": [
            "[nltk_data] Downloading package punkt to /root/nltk_data...\n",
            "[nltk_data]   Unzipping tokenizers/punkt.zip.\n"
          ],
          "name": "stdout"
        },
        {
          "output_type": "execute_result",
          "data": {
            "text/plain": [
              "True"
            ]
          },
          "metadata": {
            "tags": []
          },
          "execution_count": 15
        }
      ]
    },
    {
      "cell_type": "code",
      "metadata": {
        "id": "oa9ELy9DGOQg"
      },
      "source": [
        "vocabulary=vocab(corpus)"
      ],
      "execution_count": null,
      "outputs": []
    },
    {
      "cell_type": "code",
      "metadata": {
        "id": "hLOe1m2BGjR6",
        "colab": {
          "base_uri": "https://localhost:8080/"
        },
        "outputId": "a44563e3-8a70-4739-9dc3-d3179b71cbf8"
      },
      "source": [
        "print(vocabulary)"
      ],
      "execution_count": null,
      "outputs": [
        {
          "output_type": "stream",
          "text": [
            "['dinesh', 'football', 'games', 'like', 'movies', 'play', 'satyam', 'video', 'watch']\n"
          ],
          "name": "stdout"
        }
      ]
    },
    {
      "cell_type": "code",
      "metadata": {
        "id": "febICVdtHj3g",
        "colab": {
          "base_uri": "https://localhost:8080/"
        },
        "outputId": "c775cd2d-f5d2-420c-9d6c-0488d206259d"
      },
      "source": [
        "bow(\"Satyam like to watch the football but he does not like to play\",vocabulary)"
      ],
      "execution_count": null,
      "outputs": [
        {
          "output_type": "execute_result",
          "data": {
            "text/plain": [
              "array([0., 1., 0., 2., 0., 1., 1., 0., 1.])"
            ]
          },
          "metadata": {
            "tags": []
          },
          "execution_count": 18
        }
      ]
    },
    {
      "cell_type": "code",
      "metadata": {
        "id": "t1UaJC5xK14g"
      },
      "source": [
        "#Using the Machine Learning Technique "
      ],
      "execution_count": null,
      "outputs": []
    },
    {
      "cell_type": "code",
      "metadata": {
        "id": "VYplF5i7M75X"
      },
      "source": [
        "from sklearn.feature_extraction.text import CountVectorizer"
      ],
      "execution_count": null,
      "outputs": []
    },
    {
      "cell_type": "code",
      "metadata": {
        "id": "PEItI8hGRcwv"
      },
      "source": [
        "import numpy as np\n",
        "import pandas as pd\n"
      ],
      "execution_count": null,
      "outputs": []
    },
    {
      "cell_type": "code",
      "metadata": {
        "id": "o4CIO1vZRoOA"
      },
      "source": [
        "corpus=[\"Satyam like to watch movies\",\n",
        "        \"Dinesh like to play football\",\n",
        "        \"Satyam like to watch the football but he does not like to play\",\n",
        "        \"both Satyam and Dinesh like to play video games\"]"
      ],
      "execution_count": null,
      "outputs": []
    },
    {
      "cell_type": "code",
      "metadata": {
        "id": "eldyzRLdRs0Z",
        "colab": {
          "base_uri": "https://localhost:8080/"
        },
        "outputId": "78f8d73f-f682-4da9-917d-4688c80951b1"
      },
      "source": [
        "count_vectorizer=CountVectorizer(stop_words=stop_words)\n",
        "bagofwords=count_vectorizer.fit_transform(corpus)\n",
        "bagofwords.toarray()"
      ],
      "execution_count": null,
      "outputs": [
        {
          "output_type": "execute_result",
          "data": {
            "text/plain": [
              "array([[0, 0, 0, 1, 1, 0, 1, 0, 1],\n",
              "       [1, 1, 0, 1, 0, 1, 0, 0, 0],\n",
              "       [0, 1, 0, 2, 0, 1, 1, 0, 1],\n",
              "       [1, 0, 1, 1, 0, 1, 1, 1, 0]])"
            ]
          },
          "metadata": {
            "tags": []
          },
          "execution_count": 25
        }
      ]
    },
    {
      "cell_type": "code",
      "metadata": {
        "id": "HlzUKk8SSXDT"
      },
      "source": [
        "feature_names=count_vectorizer.get_feature_names()"
      ],
      "execution_count": null,
      "outputs": []
    },
    {
      "cell_type": "code",
      "metadata": {
        "id": "sDI_IjDgF5gO",
        "colab": {
          "base_uri": "https://localhost:8080/"
        },
        "outputId": "caa7aecd-d2b1-47e7-ce57-bbbb4efd6658"
      },
      "source": [
        "print(feature_names)"
      ],
      "execution_count": null,
      "outputs": [
        {
          "output_type": "stream",
          "text": [
            "['dinesh', 'football', 'games', 'like', 'movies', 'play', 'satyam', 'video', 'watch']\n"
          ],
          "name": "stdout"
        }
      ]
    },
    {
      "cell_type": "code",
      "metadata": {
        "id": "fd08gLlpF8X6",
        "colab": {
          "base_uri": "https://localhost:8080/"
        },
        "outputId": "491f07d3-e6a3-41e9-8956-6349130fb66e"
      },
      "source": [
        "#now we are present the feature name \n",
        "db=pd.DataFrame(bagofwords.toarray(),columns=feature_names)\n",
        "db.info()"
      ],
      "execution_count": null,
      "outputs": [
        {
          "output_type": "stream",
          "text": [
            "<class 'pandas.core.frame.DataFrame'>\n",
            "RangeIndex: 4 entries, 0 to 3\n",
            "Data columns (total 9 columns):\n",
            " #   Column    Non-Null Count  Dtype\n",
            "---  ------    --------------  -----\n",
            " 0   dinesh    4 non-null      int64\n",
            " 1   football  4 non-null      int64\n",
            " 2   games     4 non-null      int64\n",
            " 3   like      4 non-null      int64\n",
            " 4   movies    4 non-null      int64\n",
            " 5   play      4 non-null      int64\n",
            " 6   satyam    4 non-null      int64\n",
            " 7   video     4 non-null      int64\n",
            " 8   watch     4 non-null      int64\n",
            "dtypes: int64(9)\n",
            "memory usage: 416.0 bytes\n"
          ],
          "name": "stdout"
        }
      ]
    },
    {
      "cell_type": "code",
      "metadata": {
        "id": "3alJLDaIG373"
      },
      "source": [
        "import seaborn as sns"
      ],
      "execution_count": null,
      "outputs": []
    },
    {
      "cell_type": "code",
      "metadata": {
        "id": "GoFVeH_ZHKMG",
        "colab": {
          "base_uri": "https://localhost:8080/",
          "height": 350
        },
        "outputId": "8d204c39-c00e-48ca-beed-38ed7fe9918b"
      },
      "source": [
        "sns.countplot(db.games)"
      ],
      "execution_count": null,
      "outputs": [
        {
          "output_type": "stream",
          "text": [
            "/usr/local/lib/python3.6/dist-packages/seaborn/_decorators.py:43: FutureWarning: Pass the following variable as a keyword arg: x. From version 0.12, the only valid positional argument will be `data`, and passing other arguments without an explicit keyword will result in an error or misinterpretation.\n",
            "  FutureWarning\n"
          ],
          "name": "stderr"
        },
        {
          "output_type": "execute_result",
          "data": {
            "text/plain": [
              "<matplotlib.axes._subplots.AxesSubplot at 0x7fabd27dd710>"
            ]
          },
          "metadata": {
            "tags": []
          },
          "execution_count": 35
        },
        {
          "output_type": "display_data",
          "data": {
            "image/png": "[encoded data removed]",
            "text/plain": [
              "<Figure size 432x288 with 1 Axes>"
            ]
          },
          "metadata": {
            "tags": [],
            "needs_background": "light"
          }
        }
      ]
    },
    {
      "cell_type": "code",
      "metadata": {
        "id": "13CHGyDUHdNG",
        "colab": {
          "base_uri": "https://localhost:8080/",
          "height": 350
        },
        "outputId": "3b4d9167-c424-4c37-de77-eaddf040c27b"
      },
      "source": [
        ""
      ],
      "execution_count": null,
      "outputs": [
        {
          "output_type": "stream",
          "text": [
            "/usr/local/lib/python3.6/dist-packages/seaborn/_decorators.py:43: FutureWarning: Pass the following variable as a keyword arg: x. From version 0.12, the only valid positional argument will be `data`, and passing other arguments without an explicit keyword will result in an error or misinterpretation.\n",
            "  FutureWarning\n"
          ],
          "name": "stderr"
        },
        {
          "output_type": "execute_result",
          "data": {
            "text/plain": [
              "<matplotlib.axes._subplots.AxesSubplot at 0x7fabd2266f60>"
            ]
          },
          "metadata": {
            "tags": []
          },
          "execution_count": 36
        },
        {
          "output_type": "display_data",
          "data": {
            "image/png": "[encoded data removed]",
            "text/plain": [
              "<Figure size 432x288 with 1 Axes>"
            ]
          },
          "metadata": {
            "tags": [],
            "needs_background": "light"
          }
        }
      ]
    },
    {
      "cell_type": "code",
      "metadata": {
        "id": "gCcWa8ehIGvB"
      },
      "source": [
        ""
      ],
      "execution_count": null,
      "outputs": []
    }
  ]
}